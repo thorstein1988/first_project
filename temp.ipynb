{
 "cells": [
  {
   "cell_type": "markdown",
   "metadata": {
    "toc": true
   },
   "source": [
    "<h1>Содержание<span class=\"tocSkip\"></span></h1>\n",
    "<div class=\"toc\"><ul class=\"toc-item\"><li><span><a href=\"#Подготовка-данных\" data-toc-modified-id=\"Подготовка-данных-1\"><span class=\"toc-item-num\">1&nbsp;&nbsp;</span>Подготовка данных</a></span></li><li><span><a href=\"#Исследование-задачи\" data-toc-modified-id=\"Исследование-задачи-2\"><span class=\"toc-item-num\">2&nbsp;&nbsp;</span>Исследование задачи</a></span></li><li><span><a href=\"#Подбор-модели\" data-toc-modified-id=\"Подбор-модели-3\"><span class=\"toc-item-num\">3&nbsp;&nbsp;</span>Подбор модели</a></span><ul class=\"toc-item\"><li><span><a href=\"#Борьба-с-дисбалансом\" data-toc-modified-id=\"Борьба-с-дисбалансом-3.1\"><span class=\"toc-item-num\">3.1&nbsp;&nbsp;</span>Борьба с дисбалансом</a></span></li><li><span><a href=\"#Подбор-параметров\" data-toc-modified-id=\"Подбор-параметров-3.2\"><span class=\"toc-item-num\">3.2&nbsp;&nbsp;</span>Подбор параметров</a></span></li><li><span><a href=\"#Подбор-гиперпараметров\" data-toc-modified-id=\"Подбор-гиперпараметров-3.3\"><span class=\"toc-item-num\">3.3&nbsp;&nbsp;</span>Подбор гиперпараметров</a></span></li><li><span><a href=\"#Ансамблирование-моделей\" data-toc-modified-id=\"Ансамблирование-моделей-3.4\"><span class=\"toc-item-num\">3.4&nbsp;&nbsp;</span>Ансамблирование моделей</a></span></li></ul></li><li><span><a href=\"#Тестирование-модели\" data-toc-modified-id=\"Тестирование-модели-4\"><span class=\"toc-item-num\">4&nbsp;&nbsp;</span>Тестирование модели</a></span></li><li><span><a href=\"#Чек-лист-готовности-проекта\" data-toc-modified-id=\"Чек-лист-готовности-проекта-5\"><span class=\"toc-item-num\">5&nbsp;&nbsp;</span>Чек-лист готовности проекта</a></span></li></ul></div>"
   ]
  },
  {
   "cell_type": "markdown",
   "metadata": {},
   "source": [
    "# Отток клиентов"
   ]
  },
  {
   "cell_type": "markdown",
   "metadata": {},
   "source": [
    "Из «Бета-Банка» стали уходить клиенты. Каждый месяц. Немного, но заметно. Банковские маркетологи посчитали: сохранять текущих клиентов дешевле, чем привлекать новых.\n",
    "\n",
    "Нужно спрогнозировать, уйдёт клиент из банка в ближайшее время или нет. Вам предоставлены исторические данные о поведении клиентов и расторжении договоров с банком. \n",
    "\n",
    "Постройте модель с предельно большим значением *F1*-меры. Чтобы сдать проект успешно, нужно довести метрику до 0.59. Проверьте *F1*-меру на тестовой выборке самостоятельно.\n",
    "\n",
    "Дополнительно измеряйте *AUC-ROC*, сравнивайте её значение с *F1*-мерой.\n",
    "\n",
    "Источник данных: [https://www.kaggle.com/barelydedicated/bank-customer-churn-modeling](https://www.kaggle.com/barelydedicated/bank-customer-churn-modeling)"
   ]
  },
  {
   "cell_type": "markdown",
   "metadata": {},
   "source": [
    "## Подготовка данных"
   ]
  },
  {
   "cell_type": "markdown",
   "metadata": {},
   "source": [
    "Импортируем необходимые библиотеки и посмотрим данные."
   ]
  },
  {
   "cell_type": "code",
   "execution_count": 48,
   "metadata": {},
   "outputs": [],
   "source": [
    "import pandas as pd\n",
    "import numpy as np\n",
    "import seaborn as sns\n",
    "import matplotlib.pyplot as plt\n",
    "import itertools\n",
    "from sklearn.model_selection import train_test_split\n",
    "from sklearn.model_selection import GridSearchCV\n",
    "from sklearn.model_selection import StratifiedKFold\n",
    "from sklearn.feature_selection import SelectKBest, f_classif\n",
    "from sklearn.preprocessing import OrdinalEncoder \n",
    "from sklearn.utils import shuffle\n",
    "from sklearn.metrics import classification_report\n",
    "from sklearn.metrics import roc_auc_score, roc_curve\n",
    "from sklearn.metrics import f1_score\n",
    "from sklearn.ensemble import RandomForestClassifier"
   ]
  },
  {
   "cell_type": "code",
   "execution_count": 49,
   "metadata": {},
   "outputs": [],
   "source": [
    "data = pd.read_csv('/datasets/Churn.csv', index_col=\"RowNumber\")"
   ]
  },
  {
   "cell_type": "code",
   "execution_count": 50,
   "metadata": {
    "scrolled": true
   },
   "outputs": [
    {
     "name": "stdout",
     "output_type": "stream",
     "text": [
      "<class 'pandas.core.frame.DataFrame'>\n",
      "Int64Index: 10000 entries, 1 to 10000\n",
      "Data columns (total 13 columns):\n",
      "CustomerId         10000 non-null int64\n",
      "Surname            10000 non-null object\n",
      "CreditScore        10000 non-null int64\n",
      "Geography          10000 non-null object\n",
      "Gender             10000 non-null object\n",
      "Age                10000 non-null int64\n",
      "Tenure             9091 non-null float64\n",
      "Balance            10000 non-null float64\n",
      "NumOfProducts      10000 non-null int64\n",
      "HasCrCard          10000 non-null int64\n",
      "IsActiveMember     10000 non-null int64\n",
      "EstimatedSalary    10000 non-null float64\n",
      "Exited             10000 non-null int64\n",
      "dtypes: float64(3), int64(7), object(3)\n",
      "memory usage: 1.1+ MB\n"
     ]
    }
   ],
   "source": [
    "data.info()"
   ]
  },
  {
   "cell_type": "markdown",
   "metadata": {},
   "source": [
    "Есть пропуски в столбце Tenure"
   ]
  },
  {
   "cell_type": "code",
   "execution_count": 51,
   "metadata": {
    "scrolled": true
   },
   "outputs": [
    {
     "data": {
      "text/html": [
       "<div>\n",
       "<style scoped>\n",
       "    .dataframe tbody tr th:only-of-type {\n",
       "        vertical-align: middle;\n",
       "    }\n",
       "\n",
       "    .dataframe tbody tr th {\n",
       "        vertical-align: top;\n",
       "    }\n",
       "\n",
       "    .dataframe thead th {\n",
       "        text-align: right;\n",
       "    }\n",
       "</style>\n",
       "<table border=\"1\" class=\"dataframe\">\n",
       "  <thead>\n",
       "    <tr style=\"text-align: right;\">\n",
       "      <th></th>\n",
       "      <th>CustomerId</th>\n",
       "      <th>Surname</th>\n",
       "      <th>CreditScore</th>\n",
       "      <th>Geography</th>\n",
       "      <th>Gender</th>\n",
       "      <th>Age</th>\n",
       "      <th>Tenure</th>\n",
       "      <th>Balance</th>\n",
       "      <th>NumOfProducts</th>\n",
       "      <th>HasCrCard</th>\n",
       "      <th>IsActiveMember</th>\n",
       "      <th>EstimatedSalary</th>\n",
       "      <th>Exited</th>\n",
       "    </tr>\n",
       "    <tr>\n",
       "      <th>RowNumber</th>\n",
       "      <th></th>\n",
       "      <th></th>\n",
       "      <th></th>\n",
       "      <th></th>\n",
       "      <th></th>\n",
       "      <th></th>\n",
       "      <th></th>\n",
       "      <th></th>\n",
       "      <th></th>\n",
       "      <th></th>\n",
       "      <th></th>\n",
       "      <th></th>\n",
       "      <th></th>\n",
       "    </tr>\n",
       "  </thead>\n",
       "  <tbody>\n",
       "    <tr>\n",
       "      <td>1</td>\n",
       "      <td>15634602</td>\n",
       "      <td>Hargrave</td>\n",
       "      <td>619</td>\n",
       "      <td>France</td>\n",
       "      <td>Female</td>\n",
       "      <td>42</td>\n",
       "      <td>2.0</td>\n",
       "      <td>0.00</td>\n",
       "      <td>1</td>\n",
       "      <td>1</td>\n",
       "      <td>1</td>\n",
       "      <td>101348.88</td>\n",
       "      <td>1</td>\n",
       "    </tr>\n",
       "    <tr>\n",
       "      <td>2</td>\n",
       "      <td>15647311</td>\n",
       "      <td>Hill</td>\n",
       "      <td>608</td>\n",
       "      <td>Spain</td>\n",
       "      <td>Female</td>\n",
       "      <td>41</td>\n",
       "      <td>1.0</td>\n",
       "      <td>83807.86</td>\n",
       "      <td>1</td>\n",
       "      <td>0</td>\n",
       "      <td>1</td>\n",
       "      <td>112542.58</td>\n",
       "      <td>0</td>\n",
       "    </tr>\n",
       "    <tr>\n",
       "      <td>3</td>\n",
       "      <td>15619304</td>\n",
       "      <td>Onio</td>\n",
       "      <td>502</td>\n",
       "      <td>France</td>\n",
       "      <td>Female</td>\n",
       "      <td>42</td>\n",
       "      <td>8.0</td>\n",
       "      <td>159660.80</td>\n",
       "      <td>3</td>\n",
       "      <td>1</td>\n",
       "      <td>0</td>\n",
       "      <td>113931.57</td>\n",
       "      <td>1</td>\n",
       "    </tr>\n",
       "    <tr>\n",
       "      <td>4</td>\n",
       "      <td>15701354</td>\n",
       "      <td>Boni</td>\n",
       "      <td>699</td>\n",
       "      <td>France</td>\n",
       "      <td>Female</td>\n",
       "      <td>39</td>\n",
       "      <td>1.0</td>\n",
       "      <td>0.00</td>\n",
       "      <td>2</td>\n",
       "      <td>0</td>\n",
       "      <td>0</td>\n",
       "      <td>93826.63</td>\n",
       "      <td>0</td>\n",
       "    </tr>\n",
       "    <tr>\n",
       "      <td>5</td>\n",
       "      <td>15737888</td>\n",
       "      <td>Mitchell</td>\n",
       "      <td>850</td>\n",
       "      <td>Spain</td>\n",
       "      <td>Female</td>\n",
       "      <td>43</td>\n",
       "      <td>2.0</td>\n",
       "      <td>125510.82</td>\n",
       "      <td>1</td>\n",
       "      <td>1</td>\n",
       "      <td>1</td>\n",
       "      <td>79084.10</td>\n",
       "      <td>0</td>\n",
       "    </tr>\n",
       "  </tbody>\n",
       "</table>\n",
       "</div>"
      ],
      "text/plain": [
       "           CustomerId   Surname  CreditScore Geography  Gender  Age  Tenure  \\\n",
       "RowNumber                                                                     \n",
       "1            15634602  Hargrave          619    France  Female   42     2.0   \n",
       "2            15647311      Hill          608     Spain  Female   41     1.0   \n",
       "3            15619304      Onio          502    France  Female   42     8.0   \n",
       "4            15701354      Boni          699    France  Female   39     1.0   \n",
       "5            15737888  Mitchell          850     Spain  Female   43     2.0   \n",
       "\n",
       "             Balance  NumOfProducts  HasCrCard  IsActiveMember  \\\n",
       "RowNumber                                                        \n",
       "1               0.00              1          1               1   \n",
       "2           83807.86              1          0               1   \n",
       "3          159660.80              3          1               0   \n",
       "4               0.00              2          0               0   \n",
       "5          125510.82              1          1               1   \n",
       "\n",
       "           EstimatedSalary  Exited  \n",
       "RowNumber                           \n",
       "1                101348.88       1  \n",
       "2                112542.58       0  \n",
       "3                113931.57       1  \n",
       "4                 93826.63       0  \n",
       "5                 79084.10       0  "
      ]
     },
     "execution_count": 51,
     "metadata": {},
     "output_type": "execute_result"
    }
   ],
   "source": [
    "data.head()"
   ]
  },
  {
   "cell_type": "code",
   "execution_count": 52,
   "metadata": {
    "scrolled": false
   },
   "outputs": [
    {
     "data": {
      "text/plain": [
       "0"
      ]
     },
     "execution_count": 52,
     "metadata": {},
     "output_type": "execute_result"
    }
   ],
   "source": [
    "data.duplicated().sum()"
   ]
  },
  {
   "cell_type": "markdown",
   "metadata": {},
   "source": [
    "Явных дубликатов не найдено."
   ]
  },
  {
   "cell_type": "code",
   "execution_count": 53,
   "metadata": {},
   "outputs": [],
   "source": [
    "data = data.drop(['Surname', 'CustomerId'], axis=1)"
   ]
  },
  {
   "cell_type": "markdown",
   "metadata": {},
   "source": [
    "Столбцы с ID и фамилией нам не понадобятся для построения модели, их можно удалить."
   ]
  },
  {
   "cell_type": "code",
   "execution_count": 54,
   "metadata": {
    "scrolled": true
   },
   "outputs": [
    {
     "data": {
      "text/html": [
       "<div>\n",
       "<style scoped>\n",
       "    .dataframe tbody tr th:only-of-type {\n",
       "        vertical-align: middle;\n",
       "    }\n",
       "\n",
       "    .dataframe tbody tr th {\n",
       "        vertical-align: top;\n",
       "    }\n",
       "\n",
       "    .dataframe thead th {\n",
       "        text-align: right;\n",
       "    }\n",
       "</style>\n",
       "<table border=\"1\" class=\"dataframe\">\n",
       "  <thead>\n",
       "    <tr style=\"text-align: right;\">\n",
       "      <th></th>\n",
       "      <th>CreditScore</th>\n",
       "      <th>Age</th>\n",
       "      <th>Tenure</th>\n",
       "      <th>Balance</th>\n",
       "      <th>NumOfProducts</th>\n",
       "      <th>HasCrCard</th>\n",
       "      <th>IsActiveMember</th>\n",
       "      <th>EstimatedSalary</th>\n",
       "      <th>Exited</th>\n",
       "    </tr>\n",
       "  </thead>\n",
       "  <tbody>\n",
       "    <tr>\n",
       "      <td>count</td>\n",
       "      <td>10000.000000</td>\n",
       "      <td>10000.000000</td>\n",
       "      <td>9091.000000</td>\n",
       "      <td>10000.000000</td>\n",
       "      <td>10000.000000</td>\n",
       "      <td>10000.00000</td>\n",
       "      <td>10000.000000</td>\n",
       "      <td>10000.000000</td>\n",
       "      <td>10000.000000</td>\n",
       "    </tr>\n",
       "    <tr>\n",
       "      <td>mean</td>\n",
       "      <td>650.528800</td>\n",
       "      <td>38.921800</td>\n",
       "      <td>4.997690</td>\n",
       "      <td>76485.889288</td>\n",
       "      <td>1.530200</td>\n",
       "      <td>0.70550</td>\n",
       "      <td>0.515100</td>\n",
       "      <td>100090.239881</td>\n",
       "      <td>0.203700</td>\n",
       "    </tr>\n",
       "    <tr>\n",
       "      <td>std</td>\n",
       "      <td>96.653299</td>\n",
       "      <td>10.487806</td>\n",
       "      <td>2.894723</td>\n",
       "      <td>62397.405202</td>\n",
       "      <td>0.581654</td>\n",
       "      <td>0.45584</td>\n",
       "      <td>0.499797</td>\n",
       "      <td>57510.492818</td>\n",
       "      <td>0.402769</td>\n",
       "    </tr>\n",
       "    <tr>\n",
       "      <td>min</td>\n",
       "      <td>350.000000</td>\n",
       "      <td>18.000000</td>\n",
       "      <td>0.000000</td>\n",
       "      <td>0.000000</td>\n",
       "      <td>1.000000</td>\n",
       "      <td>0.00000</td>\n",
       "      <td>0.000000</td>\n",
       "      <td>11.580000</td>\n",
       "      <td>0.000000</td>\n",
       "    </tr>\n",
       "    <tr>\n",
       "      <td>25%</td>\n",
       "      <td>584.000000</td>\n",
       "      <td>32.000000</td>\n",
       "      <td>2.000000</td>\n",
       "      <td>0.000000</td>\n",
       "      <td>1.000000</td>\n",
       "      <td>0.00000</td>\n",
       "      <td>0.000000</td>\n",
       "      <td>51002.110000</td>\n",
       "      <td>0.000000</td>\n",
       "    </tr>\n",
       "    <tr>\n",
       "      <td>50%</td>\n",
       "      <td>652.000000</td>\n",
       "      <td>37.000000</td>\n",
       "      <td>5.000000</td>\n",
       "      <td>97198.540000</td>\n",
       "      <td>1.000000</td>\n",
       "      <td>1.00000</td>\n",
       "      <td>1.000000</td>\n",
       "      <td>100193.915000</td>\n",
       "      <td>0.000000</td>\n",
       "    </tr>\n",
       "    <tr>\n",
       "      <td>75%</td>\n",
       "      <td>718.000000</td>\n",
       "      <td>44.000000</td>\n",
       "      <td>7.000000</td>\n",
       "      <td>127644.240000</td>\n",
       "      <td>2.000000</td>\n",
       "      <td>1.00000</td>\n",
       "      <td>1.000000</td>\n",
       "      <td>149388.247500</td>\n",
       "      <td>0.000000</td>\n",
       "    </tr>\n",
       "    <tr>\n",
       "      <td>max</td>\n",
       "      <td>850.000000</td>\n",
       "      <td>92.000000</td>\n",
       "      <td>10.000000</td>\n",
       "      <td>250898.090000</td>\n",
       "      <td>4.000000</td>\n",
       "      <td>1.00000</td>\n",
       "      <td>1.000000</td>\n",
       "      <td>199992.480000</td>\n",
       "      <td>1.000000</td>\n",
       "    </tr>\n",
       "  </tbody>\n",
       "</table>\n",
       "</div>"
      ],
      "text/plain": [
       "        CreditScore           Age       Tenure        Balance  NumOfProducts  \\\n",
       "count  10000.000000  10000.000000  9091.000000   10000.000000   10000.000000   \n",
       "mean     650.528800     38.921800     4.997690   76485.889288       1.530200   \n",
       "std       96.653299     10.487806     2.894723   62397.405202       0.581654   \n",
       "min      350.000000     18.000000     0.000000       0.000000       1.000000   \n",
       "25%      584.000000     32.000000     2.000000       0.000000       1.000000   \n",
       "50%      652.000000     37.000000     5.000000   97198.540000       1.000000   \n",
       "75%      718.000000     44.000000     7.000000  127644.240000       2.000000   \n",
       "max      850.000000     92.000000    10.000000  250898.090000       4.000000   \n",
       "\n",
       "         HasCrCard  IsActiveMember  EstimatedSalary        Exited  \n",
       "count  10000.00000    10000.000000     10000.000000  10000.000000  \n",
       "mean       0.70550        0.515100    100090.239881      0.203700  \n",
       "std        0.45584        0.499797     57510.492818      0.402769  \n",
       "min        0.00000        0.000000        11.580000      0.000000  \n",
       "25%        0.00000        0.000000     51002.110000      0.000000  \n",
       "50%        1.00000        1.000000    100193.915000      0.000000  \n",
       "75%        1.00000        1.000000    149388.247500      0.000000  \n",
       "max        1.00000        1.000000    199992.480000      1.000000  "
      ]
     },
     "execution_count": 54,
     "metadata": {},
     "output_type": "execute_result"
    }
   ],
   "source": [
    "data.describe()"
   ]
  },
  {
   "cell_type": "markdown",
   "metadata": {},
   "source": [
    "Видна большая разница в масштабах численных признаков. В зависимости от выбранного алгоритма может понадобиться скалирование."
   ]
  },
  {
   "cell_type": "code",
   "execution_count": 55,
   "metadata": {
    "scrolled": true
   },
   "outputs": [
    {
     "data": {
      "text/plain": [
       "Male      5457\n",
       "Female    4543\n",
       "Name: Gender, dtype: int64"
      ]
     },
     "metadata": {},
     "output_type": "display_data"
    },
    {
     "data": {
      "text/plain": [
       "France     5014\n",
       "Germany    2509\n",
       "Spain      2477\n",
       "Name: Geography, dtype: int64"
      ]
     },
     "metadata": {},
     "output_type": "display_data"
    },
    {
     "data": {
      "text/plain": [
       "0    7963\n",
       "1    2037\n",
       "Name: Exited, dtype: int64"
      ]
     },
     "metadata": {},
     "output_type": "display_data"
    }
   ],
   "source": [
    "for c in ['Gender', 'Geography', 'Exited']:\n",
    "    display(data[c].value_counts())"
   ]
  },
  {
   "cell_type": "markdown",
   "metadata": {},
   "source": [
    "Неявных дубликатов в категориальных признаках нет. Есть дисбаланс в целевом признаке."
   ]
  },
  {
   "cell_type": "code",
   "execution_count": 56,
   "metadata": {
    "scrolled": true
   },
   "outputs": [
    {
     "data": {
      "text/html": [
       "<div>\n",
       "<style scoped>\n",
       "    .dataframe tbody tr th:only-of-type {\n",
       "        vertical-align: middle;\n",
       "    }\n",
       "\n",
       "    .dataframe tbody tr th {\n",
       "        vertical-align: top;\n",
       "    }\n",
       "\n",
       "    .dataframe thead th {\n",
       "        text-align: right;\n",
       "    }\n",
       "</style>\n",
       "<table border=\"1\" class=\"dataframe\">\n",
       "  <thead>\n",
       "    <tr style=\"text-align: right;\">\n",
       "      <th></th>\n",
       "      <th>CreditScore</th>\n",
       "      <th>Age</th>\n",
       "      <th>Tenure</th>\n",
       "      <th>Balance</th>\n",
       "      <th>NumOfProducts</th>\n",
       "      <th>HasCrCard</th>\n",
       "      <th>IsActiveMember</th>\n",
       "      <th>EstimatedSalary</th>\n",
       "      <th>Exited</th>\n",
       "    </tr>\n",
       "  </thead>\n",
       "  <tbody>\n",
       "    <tr>\n",
       "      <td>count</td>\n",
       "      <td>382.000000</td>\n",
       "      <td>382.000000</td>\n",
       "      <td>382.0</td>\n",
       "      <td>382.000000</td>\n",
       "      <td>382.000000</td>\n",
       "      <td>382.000000</td>\n",
       "      <td>382.000000</td>\n",
       "      <td>382.000000</td>\n",
       "      <td>382.000000</td>\n",
       "    </tr>\n",
       "    <tr>\n",
       "      <td>mean</td>\n",
       "      <td>651.913613</td>\n",
       "      <td>39.306283</td>\n",
       "      <td>0.0</td>\n",
       "      <td>80135.307277</td>\n",
       "      <td>1.437173</td>\n",
       "      <td>0.651832</td>\n",
       "      <td>0.531414</td>\n",
       "      <td>99565.395157</td>\n",
       "      <td>0.235602</td>\n",
       "    </tr>\n",
       "    <tr>\n",
       "      <td>std</td>\n",
       "      <td>95.741781</td>\n",
       "      <td>10.418181</td>\n",
       "      <td>0.0</td>\n",
       "      <td>62233.212461</td>\n",
       "      <td>0.522442</td>\n",
       "      <td>0.477014</td>\n",
       "      <td>0.499667</td>\n",
       "      <td>57360.554103</td>\n",
       "      <td>0.424931</td>\n",
       "    </tr>\n",
       "    <tr>\n",
       "      <td>min</td>\n",
       "      <td>350.000000</td>\n",
       "      <td>19.000000</td>\n",
       "      <td>0.0</td>\n",
       "      <td>0.000000</td>\n",
       "      <td>1.000000</td>\n",
       "      <td>0.000000</td>\n",
       "      <td>0.000000</td>\n",
       "      <td>332.810000</td>\n",
       "      <td>0.000000</td>\n",
       "    </tr>\n",
       "    <tr>\n",
       "      <td>25%</td>\n",
       "      <td>592.250000</td>\n",
       "      <td>32.000000</td>\n",
       "      <td>0.0</td>\n",
       "      <td>0.000000</td>\n",
       "      <td>1.000000</td>\n",
       "      <td>0.000000</td>\n",
       "      <td>0.000000</td>\n",
       "      <td>47574.687500</td>\n",
       "      <td>0.000000</td>\n",
       "    </tr>\n",
       "    <tr>\n",
       "      <td>50%</td>\n",
       "      <td>653.000000</td>\n",
       "      <td>38.000000</td>\n",
       "      <td>0.0</td>\n",
       "      <td>101050.445000</td>\n",
       "      <td>1.000000</td>\n",
       "      <td>1.000000</td>\n",
       "      <td>1.000000</td>\n",
       "      <td>102160.510000</td>\n",
       "      <td>0.000000</td>\n",
       "    </tr>\n",
       "    <tr>\n",
       "      <td>75%</td>\n",
       "      <td>714.750000</td>\n",
       "      <td>44.750000</td>\n",
       "      <td>0.0</td>\n",
       "      <td>129638.762500</td>\n",
       "      <td>2.000000</td>\n",
       "      <td>1.000000</td>\n",
       "      <td>1.000000</td>\n",
       "      <td>149577.825000</td>\n",
       "      <td>0.000000</td>\n",
       "    </tr>\n",
       "    <tr>\n",
       "      <td>max</td>\n",
       "      <td>850.000000</td>\n",
       "      <td>79.000000</td>\n",
       "      <td>0.0</td>\n",
       "      <td>197041.800000</td>\n",
       "      <td>3.000000</td>\n",
       "      <td>1.000000</td>\n",
       "      <td>1.000000</td>\n",
       "      <td>199478.050000</td>\n",
       "      <td>1.000000</td>\n",
       "    </tr>\n",
       "  </tbody>\n",
       "</table>\n",
       "</div>"
      ],
      "text/plain": [
       "       CreditScore         Age  Tenure        Balance  NumOfProducts  \\\n",
       "count   382.000000  382.000000   382.0     382.000000     382.000000   \n",
       "mean    651.913613   39.306283     0.0   80135.307277       1.437173   \n",
       "std      95.741781   10.418181     0.0   62233.212461       0.522442   \n",
       "min     350.000000   19.000000     0.0       0.000000       1.000000   \n",
       "25%     592.250000   32.000000     0.0       0.000000       1.000000   \n",
       "50%     653.000000   38.000000     0.0  101050.445000       1.000000   \n",
       "75%     714.750000   44.750000     0.0  129638.762500       2.000000   \n",
       "max     850.000000   79.000000     0.0  197041.800000       3.000000   \n",
       "\n",
       "        HasCrCard  IsActiveMember  EstimatedSalary      Exited  \n",
       "count  382.000000      382.000000       382.000000  382.000000  \n",
       "mean     0.651832        0.531414     99565.395157    0.235602  \n",
       "std      0.477014        0.499667     57360.554103    0.424931  \n",
       "min      0.000000        0.000000       332.810000    0.000000  \n",
       "25%      0.000000        0.000000     47574.687500    0.000000  \n",
       "50%      1.000000        1.000000    102160.510000    0.000000  \n",
       "75%      1.000000        1.000000    149577.825000    0.000000  \n",
       "max      1.000000        1.000000    199478.050000    1.000000  "
      ]
     },
     "execution_count": 56,
     "metadata": {},
     "output_type": "execute_result"
    }
   ],
   "source": [
    "data[data['Tenure']==0].describe()"
   ]
  },
  {
   "cell_type": "code",
   "execution_count": 57,
   "metadata": {
    "scrolled": true
   },
   "outputs": [
    {
     "data": {
      "text/html": [
       "<div>\n",
       "<style scoped>\n",
       "    .dataframe tbody tr th:only-of-type {\n",
       "        vertical-align: middle;\n",
       "    }\n",
       "\n",
       "    .dataframe tbody tr th {\n",
       "        vertical-align: top;\n",
       "    }\n",
       "\n",
       "    .dataframe thead th {\n",
       "        text-align: right;\n",
       "    }\n",
       "</style>\n",
       "<table border=\"1\" class=\"dataframe\">\n",
       "  <thead>\n",
       "    <tr style=\"text-align: right;\">\n",
       "      <th></th>\n",
       "      <th>CreditScore</th>\n",
       "      <th>Age</th>\n",
       "      <th>Tenure</th>\n",
       "      <th>Balance</th>\n",
       "      <th>NumOfProducts</th>\n",
       "      <th>HasCrCard</th>\n",
       "      <th>IsActiveMember</th>\n",
       "      <th>EstimatedSalary</th>\n",
       "      <th>Exited</th>\n",
       "    </tr>\n",
       "  </thead>\n",
       "  <tbody>\n",
       "    <tr>\n",
       "      <td>count</td>\n",
       "      <td>909.000000</td>\n",
       "      <td>909.000000</td>\n",
       "      <td>0.0</td>\n",
       "      <td>909.000000</td>\n",
       "      <td>909.000000</td>\n",
       "      <td>909.000000</td>\n",
       "      <td>909.000000</td>\n",
       "      <td>909.000000</td>\n",
       "      <td>909.000000</td>\n",
       "    </tr>\n",
       "    <tr>\n",
       "      <td>mean</td>\n",
       "      <td>648.451045</td>\n",
       "      <td>38.647965</td>\n",
       "      <td>NaN</td>\n",
       "      <td>76117.341474</td>\n",
       "      <td>1.530253</td>\n",
       "      <td>0.710671</td>\n",
       "      <td>0.510451</td>\n",
       "      <td>99180.389373</td>\n",
       "      <td>0.201320</td>\n",
       "    </tr>\n",
       "    <tr>\n",
       "      <td>std</td>\n",
       "      <td>99.079381</td>\n",
       "      <td>9.785438</td>\n",
       "      <td>NaN</td>\n",
       "      <td>63105.690715</td>\n",
       "      <td>0.588452</td>\n",
       "      <td>0.453701</td>\n",
       "      <td>0.500166</td>\n",
       "      <td>56378.063765</td>\n",
       "      <td>0.401207</td>\n",
       "    </tr>\n",
       "    <tr>\n",
       "      <td>min</td>\n",
       "      <td>359.000000</td>\n",
       "      <td>18.000000</td>\n",
       "      <td>NaN</td>\n",
       "      <td>0.000000</td>\n",
       "      <td>1.000000</td>\n",
       "      <td>0.000000</td>\n",
       "      <td>0.000000</td>\n",
       "      <td>106.670000</td>\n",
       "      <td>0.000000</td>\n",
       "    </tr>\n",
       "    <tr>\n",
       "      <td>25%</td>\n",
       "      <td>580.000000</td>\n",
       "      <td>32.000000</td>\n",
       "      <td>NaN</td>\n",
       "      <td>0.000000</td>\n",
       "      <td>1.000000</td>\n",
       "      <td>0.000000</td>\n",
       "      <td>0.000000</td>\n",
       "      <td>49872.330000</td>\n",
       "      <td>0.000000</td>\n",
       "    </tr>\n",
       "    <tr>\n",
       "      <td>50%</td>\n",
       "      <td>647.000000</td>\n",
       "      <td>37.000000</td>\n",
       "      <td>NaN</td>\n",
       "      <td>96674.550000</td>\n",
       "      <td>1.000000</td>\n",
       "      <td>1.000000</td>\n",
       "      <td>1.000000</td>\n",
       "      <td>99444.020000</td>\n",
       "      <td>0.000000</td>\n",
       "    </tr>\n",
       "    <tr>\n",
       "      <td>75%</td>\n",
       "      <td>718.000000</td>\n",
       "      <td>43.000000</td>\n",
       "      <td>NaN</td>\n",
       "      <td>128554.980000</td>\n",
       "      <td>2.000000</td>\n",
       "      <td>1.000000</td>\n",
       "      <td>1.000000</td>\n",
       "      <td>145759.700000</td>\n",
       "      <td>0.000000</td>\n",
       "    </tr>\n",
       "    <tr>\n",
       "      <td>max</td>\n",
       "      <td>850.000000</td>\n",
       "      <td>92.000000</td>\n",
       "      <td>NaN</td>\n",
       "      <td>206663.750000</td>\n",
       "      <td>4.000000</td>\n",
       "      <td>1.000000</td>\n",
       "      <td>1.000000</td>\n",
       "      <td>199390.450000</td>\n",
       "      <td>1.000000</td>\n",
       "    </tr>\n",
       "  </tbody>\n",
       "</table>\n",
       "</div>"
      ],
      "text/plain": [
       "       CreditScore         Age  Tenure        Balance  NumOfProducts  \\\n",
       "count   909.000000  909.000000     0.0     909.000000     909.000000   \n",
       "mean    648.451045   38.647965     NaN   76117.341474       1.530253   \n",
       "std      99.079381    9.785438     NaN   63105.690715       0.588452   \n",
       "min     359.000000   18.000000     NaN       0.000000       1.000000   \n",
       "25%     580.000000   32.000000     NaN       0.000000       1.000000   \n",
       "50%     647.000000   37.000000     NaN   96674.550000       1.000000   \n",
       "75%     718.000000   43.000000     NaN  128554.980000       2.000000   \n",
       "max     850.000000   92.000000     NaN  206663.750000       4.000000   \n",
       "\n",
       "        HasCrCard  IsActiveMember  EstimatedSalary      Exited  \n",
       "count  909.000000      909.000000       909.000000  909.000000  \n",
       "mean     0.710671        0.510451     99180.389373    0.201320  \n",
       "std      0.453701        0.500166     56378.063765    0.401207  \n",
       "min      0.000000        0.000000       106.670000    0.000000  \n",
       "25%      0.000000        0.000000     49872.330000    0.000000  \n",
       "50%      1.000000        1.000000     99444.020000    0.000000  \n",
       "75%      1.000000        1.000000    145759.700000    0.000000  \n",
       "max      1.000000        1.000000    199390.450000    1.000000  "
      ]
     },
     "execution_count": 57,
     "metadata": {},
     "output_type": "execute_result"
    }
   ],
   "source": [
    "data[data['Tenure'].isna()].describe()"
   ]
  },
  {
   "cell_type": "markdown",
   "metadata": {},
   "source": [
    "Заполним пропуски случайными значениями из имеющейся выборки."
   ]
  },
  {
   "cell_type": "code",
   "execution_count": 58,
   "metadata": {},
   "outputs": [],
   "source": [
    "data['Tenure'].fillna(\n",
    "    pd.Series(\n",
    "        np.random.choice(data[data['Tenure'].notna()]['Tenure'], data.shape[0]),\n",
    "        index=data.index),\n",
    "    inplace=True)\n"
   ]
  },
  {
   "cell_type": "markdown",
   "metadata": {},
   "source": [
    "Разобьем выборку на учебную, валидационную и тестовую."
   ]
  },
  {
   "cell_type": "code",
   "execution_count": 59,
   "metadata": {},
   "outputs": [],
   "source": [
    "def y_extract(data, y_name):\n",
    "    target = data[y_name]\n",
    "    features = data.drop(y_name, axis=1)\n",
    "    X_train, X_test, y_train, y_test = train_test_split(features, target, test_size = .2, random_state = 666) # выделим из выборки тестовую\n",
    "    X_train, X_valid, y_train, y_valid = train_test_split(X_train, y_train, test_size = .25, random_state = 666) # а учебную разобьем на, собственно, учебную и валидационную\n",
    "    for d in (X_train, X_valid, X_test, y_train, y_valid, y_test):\n",
    "        d.reset_index(drop=True, inplace=True)\n",
    "    return X_train, X_valid, X_test, y_train, y_valid, y_test"
   ]
  },
  {
   "cell_type": "code",
   "execution_count": 60,
   "metadata": {},
   "outputs": [
    {
     "data": {
      "text/plain": [
       "(6000, 2000, 2000)"
      ]
     },
     "execution_count": 60,
     "metadata": {},
     "output_type": "execute_result"
    }
   ],
   "source": [
    "X_train, X_valid, X_test, y_train, y_valid, y_test = y_extract(data, 'Exited')\n",
    "X_train.shape[0], X_valid.shape[0], X_test.shape[0]"
   ]
  },
  {
   "cell_type": "markdown",
   "metadata": {},
   "source": [
    "Для отправки в модель нужно перекодировать текстовые категориальные признаки."
   ]
  },
  {
   "cell_type": "code",
   "execution_count": 61,
   "metadata": {},
   "outputs": [],
   "source": [
    "def encoding (data, col_names, encoder):\n",
    "    return pd.concat([data.drop(data[col_names], axis = 1), # объединим дату без строковых признаков\n",
    "                      pd.DataFrame(encoder.transform(data[col_names]), columns = col_names)], # с перекодированными признаками\n",
    "                     axis=1)"
   ]
  },
  {
   "cell_type": "code",
   "execution_count": 62,
   "metadata": {},
   "outputs": [],
   "source": [
    "encoder = OrdinalEncoder() #создадим экземпляр энкодера\n",
    "encoder.fit(X_train[['Geography', 'Gender']]) # и обучим его на train выборке\n",
    "X_train = encoding(X_train, ['Geography', 'Gender'], encoder)\n",
    "X_valid = encoding(X_valid, ['Geography', 'Gender'], encoder)\n",
    "X_test = encoding(X_test, ['Geography', 'Gender'], encoder)"
   ]
  },
  {
   "cell_type": "markdown",
   "metadata": {},
   "source": [
    "**Выводы**\n",
    "\n",
    "Мы рассмотрели данные и подготовили их к задаче классификации"
   ]
  },
  {
   "cell_type": "markdown",
   "metadata": {},
   "source": [
    "## Исследование задачи"
   ]
  },
  {
   "cell_type": "markdown",
   "metadata": {},
   "source": [
    "За основу возьмем алгоритм случайного леса."
   ]
  },
  {
   "cell_type": "code",
   "execution_count": 63,
   "metadata": {},
   "outputs": [],
   "source": [
    "model = RandomForestClassifier(n_estimators = 40, max_depth = 10, random_state = 666)"
   ]
  },
  {
   "cell_type": "code",
   "execution_count": 64,
   "metadata": {
    "scrolled": false
   },
   "outputs": [
    {
     "data": {
      "text/plain": [
       "RandomForestClassifier(bootstrap=True, class_weight=None, criterion='gini',\n",
       "                       max_depth=10, max_features='auto', max_leaf_nodes=None,\n",
       "                       min_impurity_decrease=0.0, min_impurity_split=None,\n",
       "                       min_samples_leaf=1, min_samples_split=2,\n",
       "                       min_weight_fraction_leaf=0.0, n_estimators=40,\n",
       "                       n_jobs=None, oob_score=False, random_state=666,\n",
       "                       verbose=0, warm_start=False)"
      ]
     },
     "execution_count": 64,
     "metadata": {},
     "output_type": "execute_result"
    }
   ],
   "source": [
    "model.fit(X_train, y_train)"
   ]
  },
  {
   "cell_type": "markdown",
   "metadata": {},
   "source": [
    "Проверим метрики на валидационной выборке."
   ]
  },
  {
   "cell_type": "code",
   "execution_count": 65,
   "metadata": {
    "scrolled": true
   },
   "outputs": [
    {
     "name": "stdout",
     "output_type": "stream",
     "text": [
      "              precision    recall  f1-score   support\n",
      "\n",
      "  Not exited       0.87      0.97      0.92      1588\n",
      "      Exited       0.80      0.44      0.57       412\n",
      "\n",
      "    accuracy                           0.86      2000\n",
      "   macro avg       0.84      0.71      0.74      2000\n",
      "weighted avg       0.86      0.86      0.85      2000\n",
      "\n",
      "ROC-AUC: 0.8516666259079015\n"
     ]
    }
   ],
   "source": [
    "pred_p = model.predict_proba(X_valid)[:,1]\n",
    "pred = model.predict(X_valid)\n",
    "print(classification_report(y_valid, pred, target_names=['Not exited', 'Exited']) )\n",
    "print('ROC-AUC:', roc_auc_score(y_valid, pred_p))"
   ]
  },
  {
   "cell_type": "markdown",
   "metadata": {},
   "source": [
    "**Выводы**\n",
    "\n",
    "Реколл по объектам с целевым классом значительно ниже. Это значит, что наша модель будет пропускать 60% клиентов, которые собираются уйти. Ошибка первого рода для наших целей критичнее, т.к. удержать клиента дешевле, чем найти нового. Необходимо сбалансировать учебную классы для дальнейшего обучения модели."
   ]
  },
  {
   "cell_type": "markdown",
   "metadata": {},
   "source": [
    "## Подбор модели"
   ]
  },
  {
   "cell_type": "markdown",
   "metadata": {},
   "source": [
    "### Борьба с дисбалансом"
   ]
  },
  {
   "cell_type": "markdown",
   "metadata": {},
   "source": [
    "Рассмотрим несколько способов борьбы с дисбалансом:\n",
    "1. Взвешивание классов\n",
    "2. Увеличение выборки\n",
    "3. Изменение порога классификации"
   ]
  },
  {
   "cell_type": "markdown",
   "metadata": {},
   "source": [
    "Напишем функцию для выравнивания баланса классов по количеству объектов."
   ]
  },
  {
   "cell_type": "code",
   "execution_count": 66,
   "metadata": {},
   "outputs": [],
   "source": [
    "def upsample(features, target, repeat):\n",
    "    features_zeros = features[target == 0]\n",
    "    features_ones = features[target == 1]\n",
    "    target_zeros = target[target == 0]\n",
    "    target_ones = target[target == 1]\n",
    "    \n",
    "    features_upsampled = pd.concat([features_zeros] + [features_ones] * repeat)\n",
    "    target_upsampled = pd.concat([target_zeros] + [target_ones] * repeat)\n",
    "    \n",
    "    features_upsampled, target_upsampled = shuffle(\n",
    "        features_upsampled, target_upsampled, random_state=666)\n",
    "    \n",
    "    return features_upsampled, target_upsampled"
   ]
  },
  {
   "cell_type": "markdown",
   "metadata": {},
   "source": [
    "Создадим увеличенные выборки для обучения"
   ]
  },
  {
   "cell_type": "code",
   "execution_count": 67,
   "metadata": {},
   "outputs": [],
   "source": [
    "repeat = 2 #np.floor(y_train.value_counts()[0]/y_train.value_counts()[1]).astype(int)\n",
    "X_upsampled, y_upsampled = upsample(X_train, y_train, repeat)"
   ]
  },
  {
   "cell_type": "code",
   "execution_count": 68,
   "metadata": {},
   "outputs": [
    {
     "data": {
      "text/plain": [
       "0    4768\n",
       "1    2464\n",
       "Name: Exited, dtype: int64"
      ]
     },
     "execution_count": 68,
     "metadata": {},
     "output_type": "execute_result"
    }
   ],
   "source": [
    "y_upsampled.value_counts()"
   ]
  },
  {
   "cell_type": "markdown",
   "metadata": {},
   "source": [
    "Теперь дисбаланс не такой сильный, можно перейти к обучению моделей и сравнению способов."
   ]
  },
  {
   "cell_type": "code",
   "execution_count": 69,
   "metadata": {},
   "outputs": [],
   "source": [
    "model = RandomForestClassifier(n_estimators = 40, # создадим модель со взвешиванием классов\n",
    "                               max_depth = 10, \n",
    "                               class_weight='balanced', \n",
    "                               random_state = 666)\n",
    "model_upsample = RandomForestClassifier(n_estimators = 40,  # модель для обучения на увеличенной выборке\n",
    "                                        max_depth = 10, \n",
    "                                        random_state = 666)\n",
    "model_thrshld_moving = RandomForestClassifier(n_estimators = 40,  # модель для которой будем подбирать порог классификации\n",
    "                                        max_depth = 10, \n",
    "                                        random_state = 666)"
   ]
  },
  {
   "cell_type": "code",
   "execution_count": 70,
   "metadata": {
    "scrolled": false
   },
   "outputs": [
    {
     "data": {
      "text/plain": [
       "RandomForestClassifier(bootstrap=True, class_weight=None, criterion='gini',\n",
       "                       max_depth=10, max_features='auto', max_leaf_nodes=None,\n",
       "                       min_impurity_decrease=0.0, min_impurity_split=None,\n",
       "                       min_samples_leaf=1, min_samples_split=2,\n",
       "                       min_weight_fraction_leaf=0.0, n_estimators=40,\n",
       "                       n_jobs=None, oob_score=False, random_state=666,\n",
       "                       verbose=0, warm_start=False)"
      ]
     },
     "execution_count": 70,
     "metadata": {},
     "output_type": "execute_result"
    }
   ],
   "source": [
    "model.fit(X_train, y_train)\n",
    "model_upsample.fit(X_upsampled, y_upsampled)\n",
    "model_thrshld_moving.fit(X_train, y_train)"
   ]
  },
  {
   "cell_type": "markdown",
   "metadata": {},
   "source": [
    "Посмотрим на показатели."
   ]
  },
  {
   "cell_type": "code",
   "execution_count": 71,
   "metadata": {},
   "outputs": [
    {
     "name": "stdout",
     "output_type": "stream",
     "text": [
      "              precision    recall  f1-score   support\n",
      "\n",
      "  Not exited       0.90      0.88      0.89      1588\n",
      "      Exited       0.58      0.61      0.59       412\n",
      "\n",
      "    accuracy                           0.83      2000\n",
      "   macro avg       0.74      0.75      0.74      2000\n",
      "weighted avg       0.83      0.83      0.83      2000\n",
      "\n",
      "ROC-AUC: 0.8460999975544741\n"
     ]
    }
   ],
   "source": [
    "pred_p = model.predict_proba(X_valid)[:,1]\n",
    "pred = model.predict(X_valid)\n",
    "print(classification_report(y_valid, pred, target_names=['Not exited', 'Exited']) )\n",
    "print('ROC-AUC:', roc_auc_score(y_valid, pred_p))"
   ]
  },
  {
   "cell_type": "code",
   "execution_count": 72,
   "metadata": {
    "scrolled": true
   },
   "outputs": [
    {
     "name": "stdout",
     "output_type": "stream",
     "text": [
      "              precision    recall  f1-score   support\n",
      "\n",
      "  Not exited       0.89      0.93      0.91      1588\n",
      "      Exited       0.66      0.55      0.60       412\n",
      "\n",
      "    accuracy                           0.85      2000\n",
      "   macro avg       0.78      0.74      0.75      2000\n",
      "weighted avg       0.84      0.85      0.84      2000\n",
      "\n",
      "ROC-AUC: 0.8524430803844367\n"
     ]
    }
   ],
   "source": [
    "pred_p = model_upsample.predict_proba(X_valid)[:,1]\n",
    "pred = model_upsample.predict(X_valid)\n",
    "print(classification_report(y_valid, pred, target_names=['Not exited', 'Exited']) )\n",
    "print('ROC-AUC:', roc_auc_score(y_valid, pred_p))"
   ]
  },
  {
   "cell_type": "code",
   "execution_count": 73,
   "metadata": {},
   "outputs": [],
   "source": [
    "def probs_to_class(probs, threshold): # классификация по нестандартному порогу\n",
    "    return (probs >= threshold).astype('int')"
   ]
  },
  {
   "cell_type": "code",
   "execution_count": 74,
   "metadata": {
    "scrolled": false
   },
   "outputs": [
    {
     "name": "stdout",
     "output_type": "stream",
     "text": [
      "              precision    recall  f1-score   support\n",
      "\n",
      "  Not exited       0.89      0.94      0.91      1588\n",
      "      Exited       0.71      0.53      0.61       412\n",
      "\n",
      "    accuracy                           0.86      2000\n",
      "   macro avg       0.80      0.74      0.76      2000\n",
      "weighted avg       0.85      0.86      0.85      2000\n",
      "\n"
     ]
    },
    {
     "name": "stderr",
     "output_type": "stream",
     "text": [
      "/opt/conda/lib/python3.7/site-packages/sklearn/metrics/classification.py:1437: UndefinedMetricWarning: F-score is ill-defined and being set to 0.0 due to no predicted samples.\n",
      "  'precision', 'predicted', average, warn_for)\n"
     ]
    }
   ],
   "source": [
    "probs = model_thrshld_moving.predict_proba(X_valid)[:, 1] # сохраним значения вероятностей для целевого класса\n",
    "thresholds = np.arange(0, 1, 0.001)\n",
    "scores = [f1_score(y_valid, probs_to_class(probs, t)) for t in thresholds] # и посчитаем ф-значение для каждого порога\n",
    "ind = np.argmax(scores) # получим индекс максимальной метрики\n",
    "pred = probs_to_class(probs, thresholds[ind]) # сформируем предикты по лучшему показателю порога\n",
    "print(classification_report(y_valid, pred, target_names=['Not exited', 'Exited']) )"
   ]
  },
  {
   "cell_type": "markdown",
   "metadata": {},
   "source": [
    "Лучшие показатели у модели с балансированием целевого признака увеличением выборки."
   ]
  },
  {
   "cell_type": "markdown",
   "metadata": {},
   "source": [
    "### Подбор параметров"
   ]
  },
  {
   "cell_type": "markdown",
   "metadata": {},
   "source": [
    "С помощью SelectKBest определим все ли признаки нам нужны для построения модели. Здесь и далее в качестве обучающей выборки будем использовать сбалансированную увеличением количества объектов"
   ]
  },
  {
   "cell_type": "code",
   "execution_count": 75,
   "metadata": {
    "scrolled": true
   },
   "outputs": [
    {
     "name": "stdout",
     "output_type": "stream",
     "text": [
      "0    0.496970\n",
      "1    0.507503\n",
      "2    0.477333\n",
      "3    0.482940\n",
      "4    0.592965\n",
      "5    0.589947\n",
      "6    0.595300\n",
      "7    0.591623\n",
      "8    0.596129\n",
      "9    0.599201\n",
      "dtype: float64\n"
     ]
    }
   ],
   "source": [
    "scores = []\n",
    "for k in range(1, 11):\n",
    "    selector = SelectKBest(f_classif, k=k).fit(X_upsampled, y_upsampled)\n",
    "    model_upsample.fit(selector.transform(X_upsampled), y_upsampled) \n",
    "    scores.append(f1_score(y_valid, model_upsample.predict(selector.transform(X_valid))))\n",
    "print(pd.Series(scores))"
   ]
  },
  {
   "cell_type": "markdown",
   "metadata": {},
   "source": [
    "Лучший результат достигнут при использовании всех признаков"
   ]
  },
  {
   "cell_type": "markdown",
   "metadata": {},
   "source": [
    "### Подбор гиперпараметров"
   ]
  },
  {
   "cell_type": "markdown",
   "metadata": {},
   "source": [
    "Для подбора параметров к случайному лесу ограничим некоторые параметры во избежания переобучения."
   ]
  },
  {
   "cell_type": "code",
   "execution_count": 76,
   "metadata": {},
   "outputs": [],
   "source": [
    "params={\n",
    "    'n_estimators': [1, 40], \n",
    "    'max_depth': [1, 10],\n",
    "    'min_samples_split': [10, 20], \n",
    "    'min_samples_leaf': [3, 10]\n",
    "}"
   ]
  },
  {
   "cell_type": "markdown",
   "metadata": {},
   "source": [
    "Найдем параметры при помощи гридсерча"
   ]
  },
  {
   "cell_type": "code",
   "execution_count": 77,
   "metadata": {
    "scrolled": true
   },
   "outputs": [
    {
     "name": "stderr",
     "output_type": "stream",
     "text": [
      "/opt/conda/lib/python3.7/site-packages/sklearn/model_selection/_split.py:1978: FutureWarning: The default value of cv will change from 3 to 5 in version 0.22. Specify it explicitly to silence this warning.\n",
      "  warnings.warn(CV_WARNING, FutureWarning)\n"
     ]
    }
   ],
   "source": [
    "gs = GridSearchCV(model, params)\n",
    "_ = gs.fit(X_train, y_train)"
   ]
  },
  {
   "cell_type": "markdown",
   "metadata": {},
   "source": [
    "Сохраним полученную модель"
   ]
  },
  {
   "cell_type": "code",
   "execution_count": 78,
   "metadata": {},
   "outputs": [],
   "source": [
    "model_gs = gs.best_estimator_"
   ]
  },
  {
   "cell_type": "markdown",
   "metadata": {},
   "source": [
    "Попробуем также подобрать гиперпараметры путем перебора."
   ]
  },
  {
   "cell_type": "code",
   "execution_count": 79,
   "metadata": {},
   "outputs": [],
   "source": [
    "res=[]"
   ]
  },
  {
   "cell_type": "code",
   "execution_count": 80,
   "metadata": {},
   "outputs": [],
   "source": [
    "def gpsearch(kw, p, s, r):\n",
    "    kwarg = kw.copy()\n",
    "    param = p.copy()\n",
    "    score = s\n",
    "    results=r\n",
    "    for t_param in param: # переберем все параметры поочереди\n",
    "        values = param[t_param] # получим диапазон значений для проверки\n",
    "        param.pop(t_param) # удалим параметр для передачи усеченного списка во вложенный цикл\n",
    "        for v in range(values[0], values[1]+1):\n",
    "            kwarg[t_param] = v # сохраняем очередное значение текущего атрибута\n",
    "            if len(param)>0: # если запущены циклы не по всем параметрам, то рекурсивно вызываем функцию\n",
    "                kwarg, score = gpsearch(kwarg, param, score, results)\n",
    "            else:\n",
    "                mod = RandomForestClassifier(random_state=666, **kwarg)\n",
    "                mod.fit(X_upsampled, y_upsampled)\n",
    "                t_score = f1_score(y_valid, mod.predict(X_valid))\n",
    "                if t_score > score:\n",
    "                    score = t_score\n",
    "                    t_kwarg=kwarg.values()\n",
    "                    print(t_kwarg, score)\n",
    "                    results.append([t_kwarg, score])\n",
    "        kwarg[t_param]=values[0]\n",
    "        return kwarg, score"
   ]
  },
  {
   "cell_type": "code",
   "execution_count": 81,
   "metadata": {
    "scrolled": false
   },
   "outputs": [
    {
     "data": {
      "text/plain": [
       "'\\ndict_values([1, 1, 10, 3]) 0.38095238095238093\\ndict_values([1, 2, 10, 3]) 0.5137085137085137\\ndict_values([1, 3, 10, 3]) 0.522167487684729\\ndict_values([1, 5, 10, 3]) 0.577639751552795\\ndict_values([1, 5, 10, 5]) 0.578838174273859\\ndict_values([2, 5, 10, 8]) 0.5899280575539569\\ndict_values([3, 8, 10, 9]) 0.5966850828729282\\ndict_values([3, 8, 19, 9]) 0.6037735849056604\\ndict_values([6, 8, 11, 5]) 0.6061899679829242\\ndict_values([6, 8, 14, 3]) 0.6131549609810479\\ndict_values([6, 8, 19, 8]) 0.6134831460674157\\ndict_values([9, 8, 12, 4]) 0.6146788990825689\\ndict_values([19, 10, 12, 3]) 0.6150289017341041\\ndict_values([37, 8, 19, 9]) 0.6166097838452788\\ndict_values([38, 8, 19, 9]) 0.6181818181818183\\nCPU times: user 1h 35min 32s, sys: 15.4 s, total: 1h 35min 48s\\nWall time: 1h 37min 23s\\n'"
      ]
     },
     "execution_count": 81,
     "metadata": {},
     "output_type": "execute_result"
    }
   ],
   "source": [
    "#%%time\n",
    "#score=0\n",
    "#gpsearch({}, params, score, res)\n",
    "'''\n",
    "dict_values([1, 1, 10, 3]) 0.38095238095238093\n",
    "dict_values([1, 2, 10, 3]) 0.5137085137085137\n",
    "dict_values([1, 3, 10, 3]) 0.522167487684729\n",
    "dict_values([1, 5, 10, 3]) 0.577639751552795\n",
    "dict_values([1, 5, 10, 5]) 0.578838174273859\n",
    "dict_values([2, 5, 10, 8]) 0.5899280575539569\n",
    "dict_values([3, 8, 10, 9]) 0.5966850828729282\n",
    "dict_values([3, 8, 19, 9]) 0.6037735849056604\n",
    "dict_values([6, 8, 11, 5]) 0.6061899679829242\n",
    "dict_values([6, 8, 14, 3]) 0.6131549609810479\n",
    "dict_values([6, 8, 19, 8]) 0.6134831460674157\n",
    "dict_values([9, 8, 12, 4]) 0.6146788990825689\n",
    "dict_values([19, 10, 12, 3]) 0.6150289017341041\n",
    "dict_values([37, 8, 19, 9]) 0.6166097838452788\n",
    "dict_values([38, 8, 19, 9]) 0.6181818181818183\n",
    "CPU times: user 1h 35min 32s, sys: 15.4 s, total: 1h 35min 48s\n",
    "Wall time: 1h 37min 23s\n",
    "'''"
   ]
  },
  {
   "cell_type": "markdown",
   "metadata": {},
   "source": [
    "Сохраним 5 лучших моделей для дальнейшего ансамблирования"
   ]
  },
  {
   "cell_type": "code",
   "execution_count": 82,
   "metadata": {},
   "outputs": [],
   "source": [
    "kwargs = []\n",
    "# почему то сохраненные в res значения не совпадают с выведенными принтом, записал значения руками\n",
    "#for r in res[-5:]: \n",
    "#    kwargs.append(dict(zip(params, r[0])))\n",
    "    \n",
    "kwargs.append({'n_estimators': 38, 'max_depth': 8, 'min_samples_split': 19, 'min_samples_leaf': 9})\n",
    "kwargs.append({'n_estimators': 37, 'max_depth': 8, 'min_samples_split': 19, 'min_samples_leaf': 9})\n",
    "kwargs.append({'n_estimators': 19, 'max_depth': 10, 'min_samples_split': 13, 'min_samples_leaf': 3})\n",
    "kwargs.append({'n_estimators': 9, 'max_depth': 8, 'min_samples_split': 12, 'min_samples_leaf': 4})\n",
    "kwargs.append({'n_estimators': 6, 'max_depth': 8, 'min_samples_split': 19, 'min_samples_leaf': 8})\n"
   ]
  },
  {
   "cell_type": "code",
   "execution_count": 83,
   "metadata": {
    "scrolled": true
   },
   "outputs": [],
   "source": [
    "models = []\n",
    "for i in range(len(kwargs)):\n",
    "    models.append(RandomForestClassifier(random_state=666, **kwargs[i]))\n",
    "_ = models[0].fit(X_upsampled, y_upsampled)"
   ]
  },
  {
   "cell_type": "markdown",
   "metadata": {},
   "source": [
    "Сравним лучшие модели от гридсерча и ручного подбора"
   ]
  },
  {
   "cell_type": "code",
   "execution_count": 84,
   "metadata": {},
   "outputs": [
    {
     "name": "stdout",
     "output_type": "stream",
     "text": [
      "              precision    recall  f1-score   support\n",
      "\n",
      "  Not exited       0.90      0.88      0.89      1588\n",
      "      Exited       0.57      0.63      0.60       412\n",
      "\n",
      "    accuracy                           0.83      2000\n",
      "   macro avg       0.74      0.75      0.74      2000\n",
      "weighted avg       0.83      0.83      0.83      2000\n",
      "\n",
      "ROC-AUC: 0.8522550805800787\n"
     ]
    }
   ],
   "source": [
    "pred_p = model_gs.predict_proba(X_valid)[:,1]\n",
    "pred = model_gs.predict(X_valid)\n",
    "print(classification_report(y_valid, pred, target_names=['Not exited', 'Exited']) )\n",
    "print('ROC-AUC:', roc_auc_score(y_valid, pred_p))"
   ]
  },
  {
   "cell_type": "code",
   "execution_count": 85,
   "metadata": {
    "scrolled": false
   },
   "outputs": [
    {
     "name": "stdout",
     "output_type": "stream",
     "text": [
      "              precision    recall  f1-score   support\n",
      "\n",
      "  Not exited       0.89      0.93      0.91      1588\n",
      "      Exited       0.69      0.58      0.63       412\n",
      "\n",
      "    accuracy                           0.86      2000\n",
      "   macro avg       0.79      0.76      0.77      2000\n",
      "weighted avg       0.85      0.86      0.86      2000\n",
      "\n",
      "ROC-AUC: 0.856253515443496\n"
     ]
    }
   ],
   "source": [
    "pred_p = models[0].predict_proba(X_valid)[:,1]\n",
    "pred = models[0].predict(X_valid)\n",
    "print(classification_report(y_valid, pred, target_names=['Not exited', 'Exited']) )\n",
    "print('ROC-AUC:', roc_auc_score(y_valid, pred_p))"
   ]
  },
  {
   "cell_type": "markdown",
   "metadata": {},
   "source": [
    "### Ансамблирование моделей"
   ]
  },
  {
   "cell_type": "markdown",
   "metadata": {},
   "source": [
    "Попробуем заансамблировать полученные модели и посмотрим как это повлияет на метрики."
   ]
  },
  {
   "cell_type": "code",
   "execution_count": 86,
   "metadata": {},
   "outputs": [],
   "source": [
    "def stack(models, X, y, random, proba=False):\n",
    "    meta_data = pd.DataFrame([])\n",
    "    strats = StratifiedKFold(n_splits = 10,random_state = random) # разобьем учебные данные на части для кроссвалидации\n",
    "    for m in models:\n",
    "        result_train = np.empty((0,1),float)\n",
    "        for train_i,target_i in strats.split(X,y): # поочередно получим индексы пар выборок\n",
    "            x_train,x_val=X.iloc[train_i],X.iloc[target_i] # и на основе полученных индексов сформируем учебные выборки\n",
    "            y_train,y_val=y.iloc[train_i],y.iloc[target_i] # и ответы для них\n",
    "            m.fit(x_train, y_train) # обучим модель\n",
    "            if proba:\n",
    "                result_train = np.append(result_train, m.predict_proba(x_val)[:, 1])\n",
    "            else:\n",
    "                result_train = np.append(result_train, m.predict(x_val))\n",
    "            m.fit(X, y) # <======Тут добавил\n",
    "        meta_data = pd.concat([meta_data,pd.Series(result_train)], axis=1)\n",
    "    return meta_data"
   ]
  },
  {
   "cell_type": "code",
   "execution_count": 87,
   "metadata": {},
   "outputs": [],
   "source": [
    "def metamodel_predict(model, models, X, proba = False):\n",
    "    meta_data = pd.DataFrame([])\n",
    "    for m in models:\n",
    "        if proba:\n",
    "            meta_data = pd.concat([meta_data,pd.Series(m.predict_proba(X)[:, 1])], axis=1)\n",
    "        else:\n",
    "            meta_data = pd.concat([meta_data,pd.Series(m.predict(X))], axis=1)\n",
    "    return model.predict(meta_data)"
   ]
  },
  {
   "cell_type": "code",
   "execution_count": 88,
   "metadata": {
    "scrolled": true
   },
   "outputs": [],
   "source": [
    "result_train = stack(models, X_upsampled, y_upsampled, 666)"
   ]
  },
  {
   "cell_type": "code",
   "execution_count": 89,
   "metadata": {
    "scrolled": true
   },
   "outputs": [],
   "source": [
    "_ = model.fit(result_train, y_upsampled)"
   ]
  },
  {
   "cell_type": "markdown",
   "metadata": {},
   "source": [
    "Попробуем посмотреть на результаты стакинга с обычным придиктом и вероятностным"
   ]
  },
  {
   "cell_type": "code",
   "execution_count": 90,
   "metadata": {
    "scrolled": true
   },
   "outputs": [
    {
     "name": "stdout",
     "output_type": "stream",
     "text": [
      "              precision    recall  f1-score   support\n",
      "\n",
      "  Not exited       0.89      0.89      0.89      1588\n",
      "      Exited       0.58      0.58      0.58       412\n",
      "\n",
      "    accuracy                           0.83      2000\n",
      "   macro avg       0.73      0.73      0.73      2000\n",
      "weighted avg       0.83      0.83      0.83      2000\n",
      "\n"
     ]
    }
   ],
   "source": [
    "pred = metamodel_predict(model, models, X_valid)\n",
    "print(classification_report(y_valid, pred, target_names=['Not exited', 'Exited']) )"
   ]
  },
  {
   "cell_type": "code",
   "execution_count": 91,
   "metadata": {},
   "outputs": [
    {
     "name": "stdout",
     "output_type": "stream",
     "text": [
      "              precision    recall  f1-score   support\n",
      "\n",
      "  Not exited       0.90      0.83      0.86      1588\n",
      "      Exited       0.49      0.63      0.55       412\n",
      "\n",
      "    accuracy                           0.79      2000\n",
      "   macro avg       0.69      0.73      0.71      2000\n",
      "weighted avg       0.81      0.79      0.80      2000\n",
      "\n",
      "ROC-AUC: 0.7320498398180528\n"
     ]
    }
   ],
   "source": [
    "result_train = stack(models, X_upsampled, y_upsampled, 666, True)\n",
    "model.fit(result_train, y_upsampled)\n",
    "pred = metamodel_predict(model, models, X_valid, True)\n",
    "print(classification_report(y_valid, pred, target_names=['Not exited', 'Exited']) )\n",
    "print('ROC-AUC:', roc_auc_score(y_valid, pred))"
   ]
  },
  {
   "cell_type": "markdown",
   "metadata": {},
   "source": [
    "**Выводы**\n",
    "\n",
    "Стакинг не показал ожидаемого результата. Напротив: ухудшил метрики. Вероятно это связано с используемыми моделями, которые уже сами являются отобранными на валидационной выборке ансамблями.\n",
    "По итогу лучшие показатели дала модель с сбалансированной выборкой путем увеличения количества объектов, использованием всех доступных параметров и ручным подбором гиперпараметров."
   ]
  },
  {
   "cell_type": "markdown",
   "metadata": {},
   "source": [
    "## Тестирование модели"
   ]
  },
  {
   "cell_type": "markdown",
   "metadata": {},
   "source": [
    "Запустим в итоговую модель тестовую выборку."
   ]
  },
  {
   "cell_type": "code",
   "execution_count": 92,
   "metadata": {},
   "outputs": [
    {
     "name": "stdout",
     "output_type": "stream",
     "text": [
      "              precision    recall  f1-score   support\n",
      "\n",
      "  Not exited       0.90      0.93      0.91      1607\n",
      "      Exited       0.66      0.59      0.62       393\n",
      "\n",
      "    accuracy                           0.86      2000\n",
      "   macro avg       0.78      0.76      0.77      2000\n",
      "weighted avg       0.85      0.86      0.86      2000\n",
      "\n",
      "ROC-AUC: 0.7562176292967631\n"
     ]
    }
   ],
   "source": [
    "pred = models[0].predict(X_test)\n",
    "print(classification_report(y_test, pred, target_names=['Not exited', 'Exited']) )\n",
    "print('ROC-AUC:', roc_auc_score(y_test, pred))"
   ]
  },
  {
   "cell_type": "code",
   "execution_count": 93,
   "metadata": {},
   "outputs": [
    {
     "data": {
      "image/png": "[encoded data removed]",
      "text/plain": [
       "<Figure size 720x576 with 1 Axes>"
      ]
     },
     "metadata": {
      "needs_background": "light"
     },
     "output_type": "display_data"
    }
   ],
   "source": [
    "plt.figure(figsize=(10, 8))\n",
    "fpr, tpr, thresholds = roc_curve(y_test, models[0].predict_proba(X_test)[:,1], pos_label=1)\n",
    "lw = 4\n",
    "plt.plot(fpr, tpr, lw=lw, label='ROC curve ')\n",
    "plt.plot([0, 1], [0, 1])\n",
    "plt.xlim([0.0, 1.0])\n",
    "plt.ylim([0.0, 1.05])\n",
    "plt.xlabel('False Positive Rate')\n",
    "plt.ylabel('True Positive Rate')\n",
    "plt.title('ROC curve')\n",
    "plt.show()"
   ]
  },
  {
   "cell_type": "markdown",
   "metadata": {},
   "source": [
    "**Выводы**\n",
    "\n",
    "На тестовой выборке обученная модель показала как неплохое f-значение, так и лучшее значение реколл, чем любые другие модели на валидационной выборке."
   ]
  },
  {
   "cell_type": "markdown",
   "metadata": {},
   "source": [
    "## Чек-лист готовности проекта"
   ]
  },
  {
   "cell_type": "markdown",
   "metadata": {},
   "source": [
    "Поставьте 'x' в выполненных пунктах. Далее нажмите Shift+Enter."
   ]
  },
  {
   "cell_type": "markdown",
   "metadata": {},
   "source": [
    "- [x]  Jupyter Notebook открыт\n",
    "- [ ]  Весь код выполняется без ошибок\n",
    "- [ ]  Ячейки с кодом расположены в порядке исполнения\n",
    "- [ ]  Выполнен шаг 1: данные подготовлены\n",
    "- [ ]  Выполнен шаг 2: задача исследована\n",
    "    - [ ]  Исследован баланс классов\n",
    "    - [ ]  Изучены модели без учёта дисбаланса\n",
    "    - [ ]  Написаны выводы по результатам исследования\n",
    "- [ ]  Выполнен шаг 3: учтён дисбаланс\n",
    "    - [ ]  Применено несколько способов борьбы с дисбалансом\n",
    "    - [ ]  Написаны выводы по результатам исследования\n",
    "- [ ]  Выполнен шаг 4: проведено тестирование\n",
    "- [ ]  Удалось достичь *F1*-меры не менее 0.59\n",
    "- [ ]  Исследована метрика *AUC-ROC*"
   ]
  },
  {
   "cell_type": "code",
   "execution_count": null,
   "metadata": {},
   "outputs": [],
   "source": []
  }
 ],
 "metadata": {
  "ExecuteTimeLog": [
   {
    "duration": 724,
    "start_time": "2021-11-01T09:36:15.509Z"
   },
   {
    "duration": 35,
    "start_time": "2021-11-01T09:37:16.192Z"
   },
   {
    "duration": 11,
    "start_time": "2021-11-01T09:37:28.143Z"
   },
   {
    "duration": 28,
    "start_time": "2021-11-01T09:38:26.570Z"
   },
   {
    "duration": 9,
    "start_time": "2021-11-01T09:41:38.833Z"
   },
   {
    "duration": 9,
    "start_time": "2021-11-01T09:41:50.450Z"
   },
   {
    "duration": 394,
    "start_time": "2021-11-01T09:42:19.772Z"
   },
   {
    "duration": 61,
    "start_time": "2021-11-01T09:42:29.392Z"
   },
   {
    "duration": 34,
    "start_time": "2021-11-01T09:44:28.329Z"
   },
   {
    "duration": 12,
    "start_time": "2021-11-01T09:44:31.722Z"
   },
   {
    "duration": 18,
    "start_time": "2021-11-01T09:44:36.902Z"
   },
   {
    "duration": 56,
    "start_time": "2021-11-01T09:44:42.542Z"
   },
   {
    "duration": 9,
    "start_time": "2021-11-01T09:45:30.572Z"
   },
   {
    "duration": 265,
    "start_time": "2021-11-01T09:46:07.733Z"
   },
   {
    "duration": 6,
    "start_time": "2021-11-01T09:46:23.972Z"
   },
   {
    "duration": 6,
    "start_time": "2021-11-01T09:46:37.940Z"
   },
   {
    "duration": 298,
    "start_time": "2021-11-01T09:46:47.523Z"
   },
   {
    "duration": 1237,
    "start_time": "2021-11-01T09:47:03.413Z"
   },
   {
    "duration": 97,
    "start_time": "2021-11-01T09:47:09.372Z"
   },
   {
    "duration": 6784,
    "start_time": "2021-11-01T09:47:59.372Z"
   },
   {
    "duration": 7121,
    "start_time": "2021-11-01T09:48:18.792Z"
   },
   {
    "duration": 15,
    "start_time": "2021-11-01T09:48:32.989Z"
   },
   {
    "duration": 296,
    "start_time": "2021-11-01T09:48:40.909Z"
   },
   {
    "duration": 8,
    "start_time": "2021-11-01T09:49:21.003Z"
   },
   {
    "duration": 13,
    "start_time": "2021-11-01T09:49:40.533Z"
   },
   {
    "duration": 21,
    "start_time": "2021-11-01T09:50:15.483Z"
   },
   {
    "duration": 15,
    "start_time": "2021-11-01T09:51:02.274Z"
   },
   {
    "duration": 23,
    "start_time": "2021-11-01T09:51:30.860Z"
   },
   {
    "duration": 24,
    "start_time": "2021-11-01T09:51:40.212Z"
   },
   {
    "duration": 27,
    "start_time": "2021-11-01T09:52:06.803Z"
   },
   {
    "duration": 14,
    "start_time": "2021-11-01T09:52:19.708Z"
   },
   {
    "duration": 11,
    "start_time": "2021-11-01T09:52:46.060Z"
   },
   {
    "duration": 14,
    "start_time": "2021-11-01T09:52:56.682Z"
   },
   {
    "duration": 366,
    "start_time": "2021-11-01T09:53:14.530Z"
   },
   {
    "duration": 362,
    "start_time": "2021-11-01T09:53:21.162Z"
   },
   {
    "duration": 94,
    "start_time": "2021-11-01T09:53:33.642Z"
   },
   {
    "duration": 17,
    "start_time": "2021-11-01T09:54:12.976Z"
   },
   {
    "duration": 24,
    "start_time": "2021-11-01T09:54:27.002Z"
   },
   {
    "duration": 29,
    "start_time": "2021-11-01T09:55:59.782Z"
   },
   {
    "duration": 305,
    "start_time": "2021-11-01T09:56:14.333Z"
   },
   {
    "duration": 32,
    "start_time": "2021-11-01T09:56:26.322Z"
   },
   {
    "duration": 23,
    "start_time": "2021-11-01T09:56:49.781Z"
   },
   {
    "duration": 297,
    "start_time": "2021-11-01T09:57:03.623Z"
   },
   {
    "duration": 26,
    "start_time": "2021-11-01T09:57:17.501Z"
   },
   {
    "duration": 1211,
    "start_time": "2021-11-03T09:51:28.957Z"
   },
   {
    "duration": 31,
    "start_time": "2021-11-03T09:51:30.170Z"
   },
   {
    "duration": 50,
    "start_time": "2021-11-03T09:51:30.203Z"
   },
   {
    "duration": 33,
    "start_time": "2021-11-03T09:51:30.255Z"
   },
   {
    "duration": 61,
    "start_time": "2021-11-03T09:51:30.290Z"
   },
   {
    "duration": 12,
    "start_time": "2021-11-03T09:51:30.353Z"
   },
   {
    "duration": 38,
    "start_time": "2021-11-03T09:51:30.366Z"
   },
   {
    "duration": 26,
    "start_time": "2021-11-03T09:51:30.407Z"
   },
   {
    "duration": 11,
    "start_time": "2021-11-03T09:51:30.435Z"
   },
   {
    "duration": 3,
    "start_time": "2021-11-03T09:52:23.355Z"
   },
   {
    "duration": 452,
    "start_time": "2021-11-03T09:54:17.235Z"
   },
   {
    "duration": 35,
    "start_time": "2021-11-03T09:55:03.328Z"
   },
   {
    "duration": 36,
    "start_time": "2021-11-03T09:56:46.218Z"
   },
   {
    "duration": 27,
    "start_time": "2021-11-03T09:57:23.414Z"
   },
   {
    "duration": 8,
    "start_time": "2021-11-03T09:57:34.472Z"
   },
   {
    "duration": 3,
    "start_time": "2021-11-03T09:57:38.438Z"
   },
   {
    "duration": 34,
    "start_time": "2021-11-03T09:57:38.443Z"
   },
   {
    "duration": 9,
    "start_time": "2021-11-03T09:57:38.479Z"
   },
   {
    "duration": 13,
    "start_time": "2021-11-03T09:57:38.490Z"
   },
   {
    "duration": 44,
    "start_time": "2021-11-03T09:57:38.504Z"
   },
   {
    "duration": 12,
    "start_time": "2021-11-03T09:57:38.551Z"
   },
   {
    "duration": 61,
    "start_time": "2021-11-03T09:57:38.565Z"
   },
   {
    "duration": 35,
    "start_time": "2021-11-03T09:57:38.629Z"
   },
   {
    "duration": 7,
    "start_time": "2021-11-03T09:57:38.666Z"
   },
   {
    "duration": 45,
    "start_time": "2021-11-03T09:57:38.674Z"
   },
   {
    "duration": 11,
    "start_time": "2021-11-03T09:57:38.722Z"
   },
   {
    "duration": 16,
    "start_time": "2021-11-03T09:57:38.735Z"
   },
   {
    "duration": 3,
    "start_time": "2021-11-03T10:06:31.056Z"
   },
   {
    "duration": 3,
    "start_time": "2021-11-03T10:08:12.839Z"
   },
   {
    "duration": 35,
    "start_time": "2021-11-03T10:08:12.843Z"
   },
   {
    "duration": 7,
    "start_time": "2021-11-03T10:08:12.880Z"
   },
   {
    "duration": 13,
    "start_time": "2021-11-03T10:08:12.889Z"
   },
   {
    "duration": 76,
    "start_time": "2021-11-03T10:08:12.903Z"
   },
   {
    "duration": 12,
    "start_time": "2021-11-03T10:08:12.980Z"
   },
   {
    "duration": 62,
    "start_time": "2021-11-03T10:08:12.994Z"
   },
   {
    "duration": 33,
    "start_time": "2021-11-03T10:08:13.058Z"
   },
   {
    "duration": 7,
    "start_time": "2021-11-03T10:08:13.093Z"
   },
   {
    "duration": 27,
    "start_time": "2021-11-03T10:08:13.102Z"
   },
   {
    "duration": 12,
    "start_time": "2021-11-03T10:08:13.131Z"
   },
   {
    "duration": 11,
    "start_time": "2021-11-03T10:08:13.144Z"
   },
   {
    "duration": 4,
    "start_time": "2021-11-03T10:08:13.156Z"
   },
   {
    "duration": 10,
    "start_time": "2021-11-03T10:10:02.768Z"
   },
   {
    "duration": 41,
    "start_time": "2021-11-03T10:11:51.952Z"
   },
   {
    "duration": 22,
    "start_time": "2021-11-03T10:12:39.177Z"
   },
   {
    "duration": 357,
    "start_time": "2021-11-03T10:13:25.414Z"
   },
   {
    "duration": 401,
    "start_time": "2021-11-03T10:13:36.745Z"
   },
   {
    "duration": 4,
    "start_time": "2021-11-03T10:13:47.068Z"
   },
   {
    "duration": 3,
    "start_time": "2021-11-03T10:13:51.470Z"
   },
   {
    "duration": 36,
    "start_time": "2021-11-03T10:13:51.476Z"
   },
   {
    "duration": 13,
    "start_time": "2021-11-03T10:13:51.515Z"
   },
   {
    "duration": 12,
    "start_time": "2021-11-03T10:13:51.530Z"
   },
   {
    "duration": 5,
    "start_time": "2021-11-03T10:13:51.544Z"
   },
   {
    "duration": 59,
    "start_time": "2021-11-03T10:13:51.551Z"
   },
   {
    "duration": 15,
    "start_time": "2021-11-03T10:13:51.613Z"
   },
   {
    "duration": 47,
    "start_time": "2021-11-03T10:13:51.630Z"
   },
   {
    "duration": 55,
    "start_time": "2021-11-03T10:13:51.679Z"
   },
   {
    "duration": 6,
    "start_time": "2021-11-03T10:13:51.736Z"
   },
   {
    "duration": 21,
    "start_time": "2021-11-03T10:13:51.743Z"
   },
   {
    "duration": 10,
    "start_time": "2021-11-03T10:13:51.766Z"
   },
   {
    "duration": 10,
    "start_time": "2021-11-03T10:13:51.777Z"
   },
   {
    "duration": 39,
    "start_time": "2021-11-03T10:13:51.806Z"
   },
   {
    "duration": 18,
    "start_time": "2021-11-03T10:13:51.847Z"
   },
   {
    "duration": 6,
    "start_time": "2021-11-03T10:13:51.867Z"
   },
   {
    "duration": 13,
    "start_time": "2021-11-03T10:14:31.626Z"
   },
   {
    "duration": 4,
    "start_time": "2021-11-03T10:24:02.388Z"
   },
   {
    "duration": 3,
    "start_time": "2021-11-03T10:26:26.437Z"
   },
   {
    "duration": 36,
    "start_time": "2021-11-03T10:26:26.442Z"
   },
   {
    "duration": 9,
    "start_time": "2021-11-03T10:26:26.480Z"
   },
   {
    "duration": 13,
    "start_time": "2021-11-03T10:26:26.492Z"
   },
   {
    "duration": 12,
    "start_time": "2021-11-03T10:26:26.507Z"
   },
   {
    "duration": 51,
    "start_time": "2021-11-03T10:26:26.522Z"
   },
   {
    "duration": 14,
    "start_time": "2021-11-03T10:26:26.575Z"
   },
   {
    "duration": 59,
    "start_time": "2021-11-03T10:26:26.592Z"
   },
   {
    "duration": 33,
    "start_time": "2021-11-03T10:26:26.654Z"
   },
   {
    "duration": 9,
    "start_time": "2021-11-03T10:26:26.706Z"
   },
   {
    "duration": 25,
    "start_time": "2021-11-03T10:26:26.717Z"
   },
   {
    "duration": 4,
    "start_time": "2021-11-03T10:26:26.744Z"
   },
   {
    "duration": 6,
    "start_time": "2021-11-03T10:26:31.426Z"
   },
   {
    "duration": 14,
    "start_time": "2021-11-03T10:26:32.497Z"
   },
   {
    "duration": 9,
    "start_time": "2021-11-03T10:26:44.497Z"
   },
   {
    "duration": 35,
    "start_time": "2021-11-03T10:27:26.167Z"
   },
   {
    "duration": 15,
    "start_time": "2021-11-03T10:27:34.628Z"
   },
   {
    "duration": 5,
    "start_time": "2021-11-03T10:29:10.825Z"
   },
   {
    "duration": 13,
    "start_time": "2021-11-03T10:29:35.167Z"
   },
   {
    "duration": 34,
    "start_time": "2021-11-03T10:35:40.768Z"
   },
   {
    "duration": 3,
    "start_time": "2021-11-03T10:38:18.203Z"
   },
   {
    "duration": 355,
    "start_time": "2021-11-03T10:38:57.330Z"
   },
   {
    "duration": 6,
    "start_time": "2021-11-03T10:39:11.915Z"
   },
   {
    "duration": 38,
    "start_time": "2021-11-03T10:39:11.924Z"
   },
   {
    "duration": 10,
    "start_time": "2021-11-03T10:39:11.964Z"
   },
   {
    "duration": 14,
    "start_time": "2021-11-03T10:39:11.977Z"
   },
   {
    "duration": 15,
    "start_time": "2021-11-03T10:39:11.993Z"
   },
   {
    "duration": 49,
    "start_time": "2021-11-03T10:39:12.010Z"
   },
   {
    "duration": 14,
    "start_time": "2021-11-03T10:39:12.061Z"
   },
   {
    "duration": 68,
    "start_time": "2021-11-03T10:39:12.077Z"
   },
   {
    "duration": 37,
    "start_time": "2021-11-03T10:39:12.148Z"
   },
   {
    "duration": 29,
    "start_time": "2021-11-03T10:39:12.187Z"
   },
   {
    "duration": 30,
    "start_time": "2021-11-03T10:39:12.221Z"
   },
   {
    "duration": 5,
    "start_time": "2021-11-03T10:39:12.254Z"
   },
   {
    "duration": 22,
    "start_time": "2021-11-03T10:39:12.261Z"
   },
   {
    "duration": 25,
    "start_time": "2021-11-03T10:39:12.285Z"
   },
   {
    "duration": 44,
    "start_time": "2021-11-03T10:39:12.312Z"
   },
   {
    "duration": 13,
    "start_time": "2021-11-03T10:39:12.357Z"
   },
   {
    "duration": 7,
    "start_time": "2021-11-03T10:39:12.372Z"
   },
   {
    "duration": 16,
    "start_time": "2021-11-03T10:39:12.380Z"
   },
   {
    "duration": 36,
    "start_time": "2021-11-03T10:39:50.028Z"
   },
   {
    "duration": 14,
    "start_time": "2021-11-03T10:40:08.609Z"
   },
   {
    "duration": 39,
    "start_time": "2021-11-03T10:40:11.028Z"
   },
   {
    "duration": 261,
    "start_time": "2021-11-03T10:40:21.838Z"
   },
   {
    "duration": 1503,
    "start_time": "2021-11-03T10:41:12.681Z"
   },
   {
    "duration": 740,
    "start_time": "2021-11-03T10:41:26.828Z"
   },
   {
    "duration": 4,
    "start_time": "2021-11-03T10:41:55.809Z"
   },
   {
    "duration": 719,
    "start_time": "2021-11-03T10:41:59.724Z"
   },
   {
    "duration": 16,
    "start_time": "2021-11-03T10:43:35.510Z"
   },
   {
    "duration": 5,
    "start_time": "2021-11-03T10:43:42.438Z"
   },
   {
    "duration": 5,
    "start_time": "2021-11-03T10:43:59.188Z"
   },
   {
    "duration": 9,
    "start_time": "2021-11-03T10:44:13.519Z"
   },
   {
    "duration": 280,
    "start_time": "2021-11-03T10:44:15.748Z"
   },
   {
    "duration": 849,
    "start_time": "2021-11-03T10:44:18.986Z"
   },
   {
    "duration": 371,
    "start_time": "2021-11-03T10:45:53.728Z"
   },
   {
    "duration": 2,
    "start_time": "2021-11-03T10:46:01.669Z"
   },
   {
    "duration": 23,
    "start_time": "2021-11-03T10:46:06.818Z"
   },
   {
    "duration": 3,
    "start_time": "2021-11-03T10:46:18.178Z"
   },
   {
    "duration": 22,
    "start_time": "2021-11-03T10:46:20.358Z"
   },
   {
    "duration": 3,
    "start_time": "2021-11-03T10:46:32.967Z"
   },
   {
    "duration": 697,
    "start_time": "2021-11-03T10:46:34.956Z"
   },
   {
    "duration": 2,
    "start_time": "2021-11-03T10:46:43.029Z"
   },
   {
    "duration": 24,
    "start_time": "2021-11-03T10:46:44.708Z"
   },
   {
    "duration": 20,
    "start_time": "2021-11-03T10:47:03.148Z"
   },
   {
    "duration": 3,
    "start_time": "2021-11-03T10:50:27.008Z"
   },
   {
    "duration": 3,
    "start_time": "2021-11-03T10:54:46.962Z"
   },
   {
    "duration": 21,
    "start_time": "2021-11-03T10:54:51.684Z"
   },
   {
    "duration": 381,
    "start_time": "2021-11-03T11:21:24.935Z"
   },
   {
    "duration": 25,
    "start_time": "2021-11-03T11:21:37.385Z"
   },
   {
    "duration": 39,
    "start_time": "2021-11-03T11:22:06.816Z"
   },
   {
    "duration": 25,
    "start_time": "2021-11-03T11:22:17.765Z"
   },
   {
    "duration": 300,
    "start_time": "2021-11-03T11:25:05.355Z"
   },
   {
    "duration": 29,
    "start_time": "2021-11-03T11:25:19.295Z"
   },
   {
    "duration": 3,
    "start_time": "2021-11-03T11:26:00.146Z"
   },
   {
    "duration": 280,
    "start_time": "2021-11-03T11:26:02.638Z"
   },
   {
    "duration": 32,
    "start_time": "2021-11-03T11:26:05.695Z"
   },
   {
    "duration": 24,
    "start_time": "2021-11-03T11:57:53.650Z"
   },
   {
    "duration": 27,
    "start_time": "2021-11-03T11:58:06.870Z"
   },
   {
    "duration": 26,
    "start_time": "2021-11-03T11:58:37.678Z"
   },
   {
    "duration": 566,
    "start_time": "2021-11-03T11:58:47.960Z"
   },
   {
    "duration": 381,
    "start_time": "2021-11-03T11:58:55.103Z"
   },
   {
    "duration": 33,
    "start_time": "2021-11-03T11:59:09.532Z"
   },
   {
    "duration": 32,
    "start_time": "2021-11-03T12:00:20.321Z"
   },
   {
    "duration": 5,
    "start_time": "2021-11-03T12:33:42.146Z"
   },
   {
    "duration": 5,
    "start_time": "2021-11-03T12:33:50.784Z"
   },
   {
    "duration": 5,
    "start_time": "2021-11-03T12:37:05.152Z"
   },
   {
    "duration": 6,
    "start_time": "2021-11-03T12:37:32.488Z"
   },
   {
    "duration": 401,
    "start_time": "2021-11-03T12:37:45.851Z"
   },
   {
    "duration": 13,
    "start_time": "2021-11-03T12:37:59.211Z"
   },
   {
    "duration": 701,
    "start_time": "2021-11-03T12:39:41.341Z"
   },
   {
    "duration": 38,
    "start_time": "2021-11-03T12:42:10.708Z"
   },
   {
    "duration": 3,
    "start_time": "2021-11-03T12:42:26.592Z"
   },
   {
    "duration": 63,
    "start_time": "2021-11-03T12:42:26.596Z"
   },
   {
    "duration": 11,
    "start_time": "2021-11-03T12:42:26.662Z"
   },
   {
    "duration": 12,
    "start_time": "2021-11-03T12:42:26.675Z"
   },
   {
    "duration": 8,
    "start_time": "2021-11-03T12:42:26.689Z"
   },
   {
    "duration": 57,
    "start_time": "2021-11-03T12:42:26.698Z"
   },
   {
    "duration": 11,
    "start_time": "2021-11-03T12:42:26.757Z"
   },
   {
    "duration": 61,
    "start_time": "2021-11-03T12:42:26.770Z"
   },
   {
    "duration": 37,
    "start_time": "2021-11-03T12:42:26.834Z"
   },
   {
    "duration": 7,
    "start_time": "2021-11-03T12:42:26.873Z"
   },
   {
    "duration": 41,
    "start_time": "2021-11-03T12:42:26.882Z"
   },
   {
    "duration": 103,
    "start_time": "2021-11-03T12:42:26.925Z"
   },
   {
    "duration": 23,
    "start_time": "2021-11-03T12:42:27.030Z"
   },
   {
    "duration": 17,
    "start_time": "2021-11-03T12:42:27.054Z"
   },
   {
    "duration": 421,
    "start_time": "2021-11-03T12:42:29.722Z"
   },
   {
    "duration": 3,
    "start_time": "2021-11-03T12:43:06.943Z"
   },
   {
    "duration": 39,
    "start_time": "2021-11-03T12:43:06.948Z"
   },
   {
    "duration": 7,
    "start_time": "2021-11-03T12:43:06.989Z"
   },
   {
    "duration": 21,
    "start_time": "2021-11-03T12:43:06.998Z"
   },
   {
    "duration": 31,
    "start_time": "2021-11-03T12:43:07.021Z"
   },
   {
    "duration": 47,
    "start_time": "2021-11-03T12:43:07.054Z"
   },
   {
    "duration": 16,
    "start_time": "2021-11-03T12:43:07.102Z"
   },
   {
    "duration": 36,
    "start_time": "2021-11-03T12:43:07.121Z"
   },
   {
    "duration": 52,
    "start_time": "2021-11-03T12:43:07.159Z"
   },
   {
    "duration": 10,
    "start_time": "2021-11-03T12:43:07.213Z"
   },
   {
    "duration": 21,
    "start_time": "2021-11-03T12:43:07.225Z"
   },
   {
    "duration": 5,
    "start_time": "2021-11-03T12:43:07.248Z"
   },
   {
    "duration": 23,
    "start_time": "2021-11-03T12:43:07.255Z"
   },
   {
    "duration": 34,
    "start_time": "2021-11-03T12:43:07.280Z"
   },
   {
    "duration": 10,
    "start_time": "2021-11-03T12:43:09.321Z"
   },
   {
    "duration": 365,
    "start_time": "2021-11-03T12:43:10.242Z"
   },
   {
    "duration": 5,
    "start_time": "2021-11-03T12:43:47.923Z"
   },
   {
    "duration": 33,
    "start_time": "2021-11-03T12:43:47.930Z"
   },
   {
    "duration": 8,
    "start_time": "2021-11-03T12:43:47.965Z"
   },
   {
    "duration": 20,
    "start_time": "2021-11-03T12:43:47.975Z"
   },
   {
    "duration": 6,
    "start_time": "2021-11-03T12:43:47.997Z"
   },
   {
    "duration": 46,
    "start_time": "2021-11-03T12:43:48.005Z"
   },
   {
    "duration": 11,
    "start_time": "2021-11-03T12:43:48.053Z"
   },
   {
    "duration": 59,
    "start_time": "2021-11-03T12:43:48.066Z"
   },
   {
    "duration": 37,
    "start_time": "2021-11-03T12:43:48.129Z"
   },
   {
    "duration": 8,
    "start_time": "2021-11-03T12:43:48.168Z"
   },
   {
    "duration": 41,
    "start_time": "2021-11-03T12:43:48.178Z"
   },
   {
    "duration": 8,
    "start_time": "2021-11-03T12:43:48.222Z"
   },
   {
    "duration": 15,
    "start_time": "2021-11-03T12:43:48.232Z"
   },
   {
    "duration": 10,
    "start_time": "2021-11-03T12:43:48.249Z"
   },
   {
    "duration": 401,
    "start_time": "2021-11-03T12:43:48.261Z"
   },
   {
    "duration": 1879,
    "start_time": "2021-11-03T12:43:46.785Z"
   },
   {
    "duration": 1875,
    "start_time": "2021-11-03T12:43:46.790Z"
   },
   {
    "duration": 1873,
    "start_time": "2021-11-03T12:43:46.793Z"
   },
   {
    "duration": 1866,
    "start_time": "2021-11-03T12:43:46.801Z"
   },
   {
    "duration": 1864,
    "start_time": "2021-11-03T12:43:46.805Z"
   },
   {
    "duration": 1862,
    "start_time": "2021-11-03T12:43:46.808Z"
   },
   {
    "duration": 1861,
    "start_time": "2021-11-03T12:43:46.810Z"
   },
   {
    "duration": 1854,
    "start_time": "2021-11-03T12:43:46.818Z"
   },
   {
    "duration": 1852,
    "start_time": "2021-11-03T12:43:46.821Z"
   },
   {
    "duration": 10,
    "start_time": "2021-11-03T12:44:48.790Z"
   },
   {
    "duration": 6,
    "start_time": "2021-11-03T12:45:03.328Z"
   },
   {
    "duration": 55,
    "start_time": "2021-11-03T12:45:03.336Z"
   },
   {
    "duration": 8,
    "start_time": "2021-11-03T12:45:03.393Z"
   },
   {
    "duration": 45,
    "start_time": "2021-11-03T12:45:03.403Z"
   },
   {
    "duration": 36,
    "start_time": "2021-11-03T12:45:03.450Z"
   },
   {
    "duration": 62,
    "start_time": "2021-11-03T12:45:03.488Z"
   },
   {
    "duration": 12,
    "start_time": "2021-11-03T12:45:03.552Z"
   },
   {
    "duration": 57,
    "start_time": "2021-11-03T12:45:03.565Z"
   },
   {
    "duration": 39,
    "start_time": "2021-11-03T12:45:03.626Z"
   },
   {
    "duration": 8,
    "start_time": "2021-11-03T12:45:03.668Z"
   },
   {
    "duration": 52,
    "start_time": "2021-11-03T12:45:03.677Z"
   },
   {
    "duration": 5,
    "start_time": "2021-11-03T12:45:03.732Z"
   },
   {
    "duration": 27,
    "start_time": "2021-11-03T12:45:03.740Z"
   },
   {
    "duration": 14,
    "start_time": "2021-11-03T12:45:03.769Z"
   },
   {
    "duration": 52,
    "start_time": "2021-11-03T12:45:03.785Z"
   },
   {
    "duration": 388,
    "start_time": "2021-11-03T12:45:03.839Z"
   },
   {
    "duration": 1817,
    "start_time": "2021-11-03T12:45:02.413Z"
   },
   {
    "duration": 1817,
    "start_time": "2021-11-03T12:45:02.415Z"
   },
   {
    "duration": 1815,
    "start_time": "2021-11-03T12:45:02.418Z"
   },
   {
    "duration": 1813,
    "start_time": "2021-11-03T12:45:02.421Z"
   },
   {
    "duration": 1813,
    "start_time": "2021-11-03T12:45:02.423Z"
   },
   {
    "duration": 1811,
    "start_time": "2021-11-03T12:45:02.426Z"
   },
   {
    "duration": 1810,
    "start_time": "2021-11-03T12:45:02.428Z"
   },
   {
    "duration": 1809,
    "start_time": "2021-11-03T12:45:02.430Z"
   },
   {
    "duration": 1807,
    "start_time": "2021-11-03T12:45:02.433Z"
   },
   {
    "duration": 16,
    "start_time": "2021-11-03T12:46:17.612Z"
   },
   {
    "duration": 3,
    "start_time": "2021-11-03T12:46:21.241Z"
   },
   {
    "duration": 41,
    "start_time": "2021-11-03T12:46:21.246Z"
   },
   {
    "duration": 9,
    "start_time": "2021-11-03T12:46:21.289Z"
   },
   {
    "duration": 23,
    "start_time": "2021-11-03T12:46:21.300Z"
   },
   {
    "duration": 10,
    "start_time": "2021-11-03T12:46:21.326Z"
   },
   {
    "duration": 48,
    "start_time": "2021-11-03T12:46:21.338Z"
   },
   {
    "duration": 20,
    "start_time": "2021-11-03T12:46:21.388Z"
   },
   {
    "duration": 49,
    "start_time": "2021-11-03T12:46:21.411Z"
   },
   {
    "duration": 63,
    "start_time": "2021-11-03T12:46:21.463Z"
   },
   {
    "duration": 9,
    "start_time": "2021-11-03T12:46:21.529Z"
   },
   {
    "duration": 7,
    "start_time": "2021-11-03T12:46:23.956Z"
   },
   {
    "duration": 11,
    "start_time": "2021-11-03T12:46:24.750Z"
   },
   {
    "duration": 4,
    "start_time": "2021-11-03T12:47:06.225Z"
   },
   {
    "duration": 54,
    "start_time": "2021-11-03T12:47:06.232Z"
   },
   {
    "duration": 10,
    "start_time": "2021-11-03T12:47:06.288Z"
   },
   {
    "duration": 33,
    "start_time": "2021-11-03T12:47:06.300Z"
   },
   {
    "duration": 20,
    "start_time": "2021-11-03T12:47:06.335Z"
   },
   {
    "duration": 43,
    "start_time": "2021-11-03T12:47:06.356Z"
   },
   {
    "duration": 17,
    "start_time": "2021-11-03T12:47:06.401Z"
   },
   {
    "duration": 39,
    "start_time": "2021-11-03T12:47:06.420Z"
   },
   {
    "duration": 69,
    "start_time": "2021-11-03T12:47:06.462Z"
   },
   {
    "duration": 6,
    "start_time": "2021-11-03T12:47:06.533Z"
   },
   {
    "duration": 26,
    "start_time": "2021-11-03T12:47:06.541Z"
   },
   {
    "duration": 6,
    "start_time": "2021-11-03T12:47:06.569Z"
   },
   {
    "duration": 28,
    "start_time": "2021-11-03T12:47:06.576Z"
   },
   {
    "duration": 15,
    "start_time": "2021-11-03T12:47:06.606Z"
   },
   {
    "duration": 19,
    "start_time": "2021-11-03T12:47:06.624Z"
   },
   {
    "duration": 363,
    "start_time": "2021-11-03T12:47:06.644Z"
   },
   {
    "duration": 2032,
    "start_time": "2021-11-03T12:47:04.977Z"
   },
   {
    "duration": 2031,
    "start_time": "2021-11-03T12:47:04.980Z"
   },
   {
    "duration": 2030,
    "start_time": "2021-11-03T12:47:04.982Z"
   },
   {
    "duration": 2029,
    "start_time": "2021-11-03T12:47:04.985Z"
   },
   {
    "duration": 2029,
    "start_time": "2021-11-03T12:47:04.987Z"
   },
   {
    "duration": 2027,
    "start_time": "2021-11-03T12:47:04.990Z"
   },
   {
    "duration": 2025,
    "start_time": "2021-11-03T12:47:04.993Z"
   },
   {
    "duration": 2023,
    "start_time": "2021-11-03T12:47:04.996Z"
   },
   {
    "duration": 2022,
    "start_time": "2021-11-03T12:47:04.998Z"
   },
   {
    "duration": 3,
    "start_time": "2021-11-03T13:05:14.720Z"
   },
   {
    "duration": 38,
    "start_time": "2021-11-03T13:05:14.725Z"
   },
   {
    "duration": 8,
    "start_time": "2021-11-03T13:05:14.765Z"
   },
   {
    "duration": 23,
    "start_time": "2021-11-03T13:05:14.775Z"
   },
   {
    "duration": 7,
    "start_time": "2021-11-03T13:05:14.800Z"
   },
   {
    "duration": 41,
    "start_time": "2021-11-03T13:05:14.808Z"
   },
   {
    "duration": 12,
    "start_time": "2021-11-03T13:05:14.851Z"
   },
   {
    "duration": 45,
    "start_time": "2021-11-03T13:05:14.864Z"
   },
   {
    "duration": 33,
    "start_time": "2021-11-03T13:05:14.912Z"
   },
   {
    "duration": 7,
    "start_time": "2021-11-03T13:05:14.947Z"
   },
   {
    "duration": 27,
    "start_time": "2021-11-03T13:05:14.955Z"
   },
   {
    "duration": 4,
    "start_time": "2021-11-03T13:05:14.983Z"
   },
   {
    "duration": 26,
    "start_time": "2021-11-03T13:05:14.989Z"
   },
   {
    "duration": 350,
    "start_time": "2021-11-03T13:05:15.017Z"
   },
   {
    "duration": 2026,
    "start_time": "2021-11-03T13:05:13.342Z"
   },
   {
    "duration": 2024,
    "start_time": "2021-11-03T13:05:13.345Z"
   },
   {
    "duration": 2018,
    "start_time": "2021-11-03T13:05:13.352Z"
   },
   {
    "duration": 2014,
    "start_time": "2021-11-03T13:05:13.357Z"
   },
   {
    "duration": 2011,
    "start_time": "2021-11-03T13:05:13.361Z"
   },
   {
    "duration": 2006,
    "start_time": "2021-11-03T13:05:13.367Z"
   },
   {
    "duration": 2002,
    "start_time": "2021-11-03T13:05:13.372Z"
   },
   {
    "duration": 1998,
    "start_time": "2021-11-03T13:05:13.377Z"
   },
   {
    "duration": 1995,
    "start_time": "2021-11-03T13:05:13.381Z"
   },
   {
    "duration": 1990,
    "start_time": "2021-11-03T13:05:13.386Z"
   },
   {
    "duration": 1972,
    "start_time": "2021-11-03T13:05:13.405Z"
   },
   {
    "duration": 342,
    "start_time": "2021-11-03T13:06:14.723Z"
   },
   {
    "duration": 3,
    "start_time": "2021-11-03T13:08:46.284Z"
   },
   {
    "duration": 34,
    "start_time": "2021-11-03T13:08:46.289Z"
   },
   {
    "duration": 8,
    "start_time": "2021-11-03T13:08:46.325Z"
   },
   {
    "duration": 11,
    "start_time": "2021-11-03T13:08:46.335Z"
   },
   {
    "duration": 9,
    "start_time": "2021-11-03T13:08:46.348Z"
   },
   {
    "duration": 55,
    "start_time": "2021-11-03T13:08:46.358Z"
   },
   {
    "duration": 13,
    "start_time": "2021-11-03T13:08:46.415Z"
   },
   {
    "duration": 31,
    "start_time": "2021-11-03T13:08:46.430Z"
   },
   {
    "duration": 61,
    "start_time": "2021-11-03T13:08:46.463Z"
   },
   {
    "duration": 6,
    "start_time": "2021-11-03T13:08:46.526Z"
   },
   {
    "duration": 14,
    "start_time": "2021-11-03T13:08:46.534Z"
   },
   {
    "duration": 4,
    "start_time": "2021-11-03T13:08:46.550Z"
   },
   {
    "duration": 18,
    "start_time": "2021-11-03T13:08:46.555Z"
   },
   {
    "duration": 363,
    "start_time": "2021-11-03T13:08:51.513Z"
   },
   {
    "duration": 335,
    "start_time": "2021-11-03T13:10:46.793Z"
   },
   {
    "duration": 369,
    "start_time": "2021-11-03T13:11:30.783Z"
   },
   {
    "duration": 348,
    "start_time": "2021-11-03T13:11:50.221Z"
   },
   {
    "duration": 8,
    "start_time": "2021-11-03T13:11:56.853Z"
   },
   {
    "duration": 381,
    "start_time": "2021-11-03T13:12:13.379Z"
   },
   {
    "duration": 355,
    "start_time": "2021-11-03T13:12:18.943Z"
   },
   {
    "duration": 7,
    "start_time": "2021-11-03T13:12:35.918Z"
   },
   {
    "duration": 341,
    "start_time": "2021-11-03T13:13:35.322Z"
   },
   {
    "duration": 344,
    "start_time": "2021-11-03T13:13:57.403Z"
   },
   {
    "duration": 4,
    "start_time": "2021-11-03T13:14:59.353Z"
   },
   {
    "duration": 343,
    "start_time": "2021-11-03T13:18:05.601Z"
   },
   {
    "duration": 8,
    "start_time": "2021-11-03T13:19:27.194Z"
   },
   {
    "duration": 17,
    "start_time": "2021-11-03T13:20:54.483Z"
   },
   {
    "duration": 19,
    "start_time": "2021-11-03T13:20:59.271Z"
   },
   {
    "duration": 18,
    "start_time": "2021-11-03T13:21:13.102Z"
   },
   {
    "duration": 381,
    "start_time": "2021-11-03T13:22:06.983Z"
   },
   {
    "duration": 342,
    "start_time": "2021-11-03T13:25:10.311Z"
   },
   {
    "duration": 4,
    "start_time": "2021-11-03T13:26:52.620Z"
   },
   {
    "duration": 384,
    "start_time": "2021-11-03T13:27:10.903Z"
   },
   {
    "duration": 3,
    "start_time": "2021-11-03T13:30:28.479Z"
   },
   {
    "duration": 326,
    "start_time": "2021-11-03T13:30:31.402Z"
   },
   {
    "duration": 3,
    "start_time": "2021-11-03T13:30:48.391Z"
   },
   {
    "duration": 40,
    "start_time": "2021-11-03T13:30:48.396Z"
   },
   {
    "duration": 8,
    "start_time": "2021-11-03T13:30:48.439Z"
   },
   {
    "duration": 12,
    "start_time": "2021-11-03T13:30:48.450Z"
   },
   {
    "duration": 13,
    "start_time": "2021-11-03T13:30:48.464Z"
   },
   {
    "duration": 45,
    "start_time": "2021-11-03T13:30:48.478Z"
   },
   {
    "duration": 12,
    "start_time": "2021-11-03T13:30:48.525Z"
   },
   {
    "duration": 33,
    "start_time": "2021-11-03T13:30:48.539Z"
   },
   {
    "duration": 68,
    "start_time": "2021-11-03T13:30:48.574Z"
   },
   {
    "duration": 7,
    "start_time": "2021-11-03T13:30:48.644Z"
   },
   {
    "duration": 16,
    "start_time": "2021-11-03T13:30:48.652Z"
   },
   {
    "duration": 4,
    "start_time": "2021-11-03T13:30:48.670Z"
   },
   {
    "duration": 41,
    "start_time": "2021-11-03T13:30:48.676Z"
   },
   {
    "duration": 8,
    "start_time": "2021-11-03T13:30:55.772Z"
   },
   {
    "duration": 17,
    "start_time": "2021-11-03T13:31:03.226Z"
   },
   {
    "duration": 432,
    "start_time": "2021-11-03T13:32:08.083Z"
   },
   {
    "duration": 3,
    "start_time": "2021-11-03T13:33:48.998Z"
   },
   {
    "duration": 34,
    "start_time": "2021-11-03T13:33:49.003Z"
   },
   {
    "duration": 8,
    "start_time": "2021-11-03T13:33:49.039Z"
   },
   {
    "duration": 15,
    "start_time": "2021-11-03T13:33:49.049Z"
   },
   {
    "duration": 14,
    "start_time": "2021-11-03T13:33:49.066Z"
   },
   {
    "duration": 54,
    "start_time": "2021-11-03T13:33:49.082Z"
   },
   {
    "duration": 12,
    "start_time": "2021-11-03T13:33:49.137Z"
   },
   {
    "duration": 36,
    "start_time": "2021-11-03T13:33:49.151Z"
   },
   {
    "duration": 36,
    "start_time": "2021-11-03T13:33:49.206Z"
   },
   {
    "duration": 7,
    "start_time": "2021-11-03T13:33:49.244Z"
   },
   {
    "duration": 16,
    "start_time": "2021-11-03T13:33:49.252Z"
   },
   {
    "duration": 5,
    "start_time": "2021-11-03T13:33:49.270Z"
   },
   {
    "duration": 44,
    "start_time": "2021-11-03T13:33:49.276Z"
   },
   {
    "duration": 387,
    "start_time": "2021-11-03T13:33:52.451Z"
   },
   {
    "duration": 1513,
    "start_time": "2021-11-06T10:49:52.481Z"
   },
   {
    "duration": 38,
    "start_time": "2021-11-06T10:49:53.996Z"
   },
   {
    "duration": 12,
    "start_time": "2021-11-06T10:49:54.037Z"
   },
   {
    "duration": 43,
    "start_time": "2021-11-06T10:49:54.052Z"
   },
   {
    "duration": 6,
    "start_time": "2021-11-06T10:49:54.097Z"
   },
   {
    "duration": 53,
    "start_time": "2021-11-06T10:49:54.106Z"
   },
   {
    "duration": 18,
    "start_time": "2021-11-06T10:49:54.181Z"
   },
   {
    "duration": 48,
    "start_time": "2021-11-06T10:49:54.201Z"
   },
   {
    "duration": 52,
    "start_time": "2021-11-06T10:49:54.281Z"
   },
   {
    "duration": 9,
    "start_time": "2021-11-06T10:49:54.335Z"
   },
   {
    "duration": 48,
    "start_time": "2021-11-06T10:49:54.346Z"
   },
   {
    "duration": 6,
    "start_time": "2021-11-06T10:49:54.396Z"
   },
   {
    "duration": 19,
    "start_time": "2021-11-06T10:49:54.404Z"
   },
   {
    "duration": 448,
    "start_time": "2021-11-06T10:49:54.425Z"
   },
   {
    "duration": 1216,
    "start_time": "2021-11-06T10:49:53.660Z"
   },
   {
    "duration": 1214,
    "start_time": "2021-11-06T10:49:53.663Z"
   },
   {
    "duration": 1212,
    "start_time": "2021-11-06T10:49:53.667Z"
   },
   {
    "duration": 1211,
    "start_time": "2021-11-06T10:49:53.669Z"
   },
   {
    "duration": 1210,
    "start_time": "2021-11-06T10:49:53.672Z"
   },
   {
    "duration": 1203,
    "start_time": "2021-11-06T10:49:53.680Z"
   },
   {
    "duration": 1199,
    "start_time": "2021-11-06T10:49:53.685Z"
   },
   {
    "duration": 1199,
    "start_time": "2021-11-06T10:49:53.687Z"
   },
   {
    "duration": 1198,
    "start_time": "2021-11-06T10:49:53.689Z"
   },
   {
    "duration": 1197,
    "start_time": "2021-11-06T10:49:53.691Z"
   },
   {
    "duration": 1196,
    "start_time": "2021-11-06T10:49:53.694Z"
   },
   {
    "duration": 5,
    "start_time": "2021-11-06T10:55:58.218Z"
   },
   {
    "duration": 5,
    "start_time": "2021-11-06T10:56:56.485Z"
   },
   {
    "duration": 309,
    "start_time": "2021-11-06T10:56:58.574Z"
   },
   {
    "duration": 582,
    "start_time": "2021-11-06T10:57:28.533Z"
   },
   {
    "duration": 4,
    "start_time": "2021-11-06T10:57:40.029Z"
   },
   {
    "duration": 565,
    "start_time": "2021-11-06T10:57:41.575Z"
   },
   {
    "duration": 12,
    "start_time": "2021-11-06T10:59:15.295Z"
   },
   {
    "duration": 989,
    "start_time": "2021-11-06T10:59:22.440Z"
   },
   {
    "duration": 4,
    "start_time": "2021-11-06T10:59:58.531Z"
   },
   {
    "duration": 579,
    "start_time": "2021-11-06T10:59:59.918Z"
   },
   {
    "duration": 4,
    "start_time": "2021-11-06T11:00:24.642Z"
   },
   {
    "duration": 31,
    "start_time": "2021-11-06T11:00:26.400Z"
   },
   {
    "duration": 355,
    "start_time": "2021-11-06T11:00:46.928Z"
   },
   {
    "duration": 784,
    "start_time": "2021-11-06T11:00:55.458Z"
   },
   {
    "duration": 13,
    "start_time": "2021-11-06T11:01:05.928Z"
   },
   {
    "duration": 5,
    "start_time": "2021-11-06T11:01:36.070Z"
   },
   {
    "duration": 576,
    "start_time": "2021-11-06T11:01:37.710Z"
   },
   {
    "duration": 6,
    "start_time": "2021-11-06T11:02:35.504Z"
   },
   {
    "duration": 683,
    "start_time": "2021-11-06T11:02:37.366Z"
   },
   {
    "duration": 4,
    "start_time": "2021-11-06T11:02:54.277Z"
   },
   {
    "duration": 585,
    "start_time": "2021-11-06T11:02:57.071Z"
   },
   {
    "duration": 5,
    "start_time": "2021-11-06T11:03:17.131Z"
   },
   {
    "duration": 587,
    "start_time": "2021-11-06T11:03:19.660Z"
   },
   {
    "duration": 5,
    "start_time": "2021-11-06T11:03:25.845Z"
   },
   {
    "duration": 45,
    "start_time": "2021-11-06T11:03:27.524Z"
   },
   {
    "duration": 5,
    "start_time": "2021-11-06T11:04:17.750Z"
   },
   {
    "duration": 48,
    "start_time": "2021-11-06T11:04:21.354Z"
   },
   {
    "duration": 5,
    "start_time": "2021-11-06T11:04:39.502Z"
   },
   {
    "duration": 579,
    "start_time": "2021-11-06T11:04:40.989Z"
   },
   {
    "duration": 4,
    "start_time": "2021-11-06T11:04:53.377Z"
   },
   {
    "duration": 46,
    "start_time": "2021-11-06T11:04:55.021Z"
   },
   {
    "duration": 6,
    "start_time": "2021-11-06T11:05:25.068Z"
   },
   {
    "duration": 47,
    "start_time": "2021-11-06T11:05:27.867Z"
   },
   {
    "duration": 5,
    "start_time": "2021-11-06T11:05:47.318Z"
   },
   {
    "duration": 46,
    "start_time": "2021-11-06T11:05:49.080Z"
   },
   {
    "duration": 4,
    "start_time": "2021-11-06T11:07:11.166Z"
   },
   {
    "duration": 586,
    "start_time": "2021-11-06T11:07:13.352Z"
   },
   {
    "duration": 4,
    "start_time": "2021-11-06T11:09:01.497Z"
   },
   {
    "duration": 34,
    "start_time": "2021-11-06T11:09:03.576Z"
   },
   {
    "duration": 5,
    "start_time": "2021-11-06T11:09:14.740Z"
   },
   {
    "duration": 38,
    "start_time": "2021-11-06T11:09:16.368Z"
   },
   {
    "duration": 3,
    "start_time": "2021-11-06T11:10:15.900Z"
   },
   {
    "duration": 562,
    "start_time": "2021-11-06T11:10:17.452Z"
   },
   {
    "duration": 5,
    "start_time": "2021-11-06T11:11:00.101Z"
   },
   {
    "duration": 17,
    "start_time": "2021-11-06T11:11:01.017Z"
   },
   {
    "duration": 4,
    "start_time": "2021-11-06T11:11:06.444Z"
   },
   {
    "duration": 304,
    "start_time": "2021-11-06T11:11:07.655Z"
   },
   {
    "duration": 12,
    "start_time": "2021-11-06T11:11:44.453Z"
   },
   {
    "duration": 35,
    "start_time": "2021-11-06T11:11:50.598Z"
   },
   {
    "duration": 5,
    "start_time": "2021-11-06T11:12:15.225Z"
   },
   {
    "duration": 4,
    "start_time": "2021-11-06T11:12:22.541Z"
   },
   {
    "duration": 295,
    "start_time": "2021-11-06T11:12:23.961Z"
   },
   {
    "duration": 32,
    "start_time": "2021-11-06T11:12:29.378Z"
   },
   {
    "duration": 997,
    "start_time": "2021-11-06T11:12:56.279Z"
   },
   {
    "duration": 5,
    "start_time": "2021-11-06T11:15:18.844Z"
   },
   {
    "duration": 10,
    "start_time": "2021-11-06T11:15:31.839Z"
   },
   {
    "duration": 4,
    "start_time": "2021-11-06T11:16:31.693Z"
   },
   {
    "duration": 630,
    "start_time": "2021-11-06T11:16:35.863Z"
   },
   {
    "duration": 4,
    "start_time": "2021-11-06T11:17:25.091Z"
   },
   {
    "duration": 556,
    "start_time": "2021-11-06T11:17:29.797Z"
   },
   {
    "duration": 4,
    "start_time": "2021-11-06T11:18:16.503Z"
   },
   {
    "duration": 559,
    "start_time": "2021-11-06T11:18:24.080Z"
   },
   {
    "duration": 4,
    "start_time": "2021-11-06T11:18:35.513Z"
   },
   {
    "duration": 11,
    "start_time": "2021-11-06T11:18:39.398Z"
   },
   {
    "duration": 4,
    "start_time": "2021-11-06T11:18:54.398Z"
   },
   {
    "duration": 10,
    "start_time": "2021-11-06T11:18:58.924Z"
   },
   {
    "duration": 4,
    "start_time": "2021-11-06T11:19:22.254Z"
   },
   {
    "duration": 20,
    "start_time": "2021-11-06T11:19:26.023Z"
   },
   {
    "duration": 6,
    "start_time": "2021-11-06T11:20:12.676Z"
   },
   {
    "duration": 15,
    "start_time": "2021-11-06T11:20:17.335Z"
   },
   {
    "duration": 4,
    "start_time": "2021-11-06T11:20:29.872Z"
   },
   {
    "duration": 13,
    "start_time": "2021-11-06T11:20:34.246Z"
   },
   {
    "duration": 5,
    "start_time": "2021-11-06T11:20:58.238Z"
   },
   {
    "duration": 12,
    "start_time": "2021-11-06T11:21:01.162Z"
   },
   {
    "duration": 4,
    "start_time": "2021-11-06T11:21:48.047Z"
   },
   {
    "duration": 10,
    "start_time": "2021-11-06T11:21:53.670Z"
   },
   {
    "duration": 4,
    "start_time": "2021-11-06T11:22:05.183Z"
   },
   {
    "duration": 20,
    "start_time": "2021-11-06T11:22:09.463Z"
   },
   {
    "duration": 4,
    "start_time": "2021-11-06T11:22:48.395Z"
   },
   {
    "duration": 4,
    "start_time": "2021-11-06T11:23:10.392Z"
   },
   {
    "duration": 19,
    "start_time": "2021-11-06T11:23:16.420Z"
   },
   {
    "duration": 5,
    "start_time": "2021-11-06T11:23:51.618Z"
   },
   {
    "duration": 21,
    "start_time": "2021-11-06T11:23:57.374Z"
   },
   {
    "duration": 4,
    "start_time": "2021-11-06T11:24:07.043Z"
   },
   {
    "duration": 48,
    "start_time": "2021-11-06T11:24:07.050Z"
   },
   {
    "duration": 11,
    "start_time": "2021-11-06T11:24:07.101Z"
   },
   {
    "duration": 19,
    "start_time": "2021-11-06T11:24:07.114Z"
   },
   {
    "duration": 7,
    "start_time": "2021-11-06T11:24:07.136Z"
   },
   {
    "duration": 83,
    "start_time": "2021-11-06T11:24:07.145Z"
   },
   {
    "duration": 17,
    "start_time": "2021-11-06T11:24:07.231Z"
   },
   {
    "duration": 79,
    "start_time": "2021-11-06T11:24:07.252Z"
   },
   {
    "duration": 69,
    "start_time": "2021-11-06T11:24:07.333Z"
   },
   {
    "duration": 7,
    "start_time": "2021-11-06T11:24:07.405Z"
   },
   {
    "duration": 26,
    "start_time": "2021-11-06T11:24:07.414Z"
   },
   {
    "duration": 6,
    "start_time": "2021-11-06T11:24:07.442Z"
   },
   {
    "duration": 42,
    "start_time": "2021-11-06T11:24:07.450Z"
   },
   {
    "duration": 4,
    "start_time": "2021-11-06T11:24:07.495Z"
   },
   {
    "duration": 24,
    "start_time": "2021-11-06T11:24:07.501Z"
   },
   {
    "duration": 7,
    "start_time": "2021-11-06T11:24:07.527Z"
   },
   {
    "duration": 319,
    "start_time": "2021-11-06T11:24:07.536Z"
   },
   {
    "duration": 13,
    "start_time": "2021-11-06T11:24:07.857Z"
   },
   {
    "duration": 35,
    "start_time": "2021-11-06T11:24:07.883Z"
   },
   {
    "duration": 5,
    "start_time": "2021-11-06T11:24:10.902Z"
   },
   {
    "duration": 541,
    "start_time": "2021-11-06T11:24:17.527Z"
   },
   {
    "duration": 4,
    "start_time": "2021-11-06T11:25:11.402Z"
   },
   {
    "duration": 43,
    "start_time": "2021-11-06T11:25:11.408Z"
   },
   {
    "duration": 11,
    "start_time": "2021-11-06T11:25:11.455Z"
   },
   {
    "duration": 18,
    "start_time": "2021-11-06T11:25:11.469Z"
   },
   {
    "duration": 10,
    "start_time": "2021-11-06T11:25:11.490Z"
   },
   {
    "duration": 58,
    "start_time": "2021-11-06T11:25:11.502Z"
   },
   {
    "duration": 16,
    "start_time": "2021-11-06T11:25:11.582Z"
   },
   {
    "duration": 52,
    "start_time": "2021-11-06T11:25:11.600Z"
   },
   {
    "duration": 75,
    "start_time": "2021-11-06T11:25:11.656Z"
   },
   {
    "duration": 9,
    "start_time": "2021-11-06T11:25:11.733Z"
   },
   {
    "duration": 47,
    "start_time": "2021-11-06T11:25:11.744Z"
   },
   {
    "duration": 6,
    "start_time": "2021-11-06T11:25:11.794Z"
   },
   {
    "duration": 24,
    "start_time": "2021-11-06T11:25:11.802Z"
   },
   {
    "duration": 5,
    "start_time": "2021-11-06T11:25:29.646Z"
   },
   {
    "duration": 17,
    "start_time": "2021-11-06T11:25:31.773Z"
   },
   {
    "duration": 3,
    "start_time": "2021-11-06T11:25:34.982Z"
   },
   {
    "duration": 287,
    "start_time": "2021-11-06T11:25:35.758Z"
   },
   {
    "duration": 24,
    "start_time": "2021-11-06T11:26:17.903Z"
   },
   {
    "duration": 5,
    "start_time": "2021-11-06T11:27:39.187Z"
   },
   {
    "duration": 305,
    "start_time": "2021-11-06T11:27:42.700Z"
   },
   {
    "duration": 5,
    "start_time": "2021-11-06T11:28:09.660Z"
   },
   {
    "duration": 301,
    "start_time": "2021-11-06T11:28:10.897Z"
   },
   {
    "duration": 4,
    "start_time": "2021-11-06T11:28:53.442Z"
   },
   {
    "duration": 35,
    "start_time": "2021-11-06T11:28:54.145Z"
   },
   {
    "duration": 12,
    "start_time": "2021-11-06T11:28:54.882Z"
   },
   {
    "duration": 18,
    "start_time": "2021-11-06T11:28:56.076Z"
   },
   {
    "duration": 6,
    "start_time": "2021-11-06T11:28:57.082Z"
   },
   {
    "duration": 52,
    "start_time": "2021-11-06T11:28:58.801Z"
   },
   {
    "duration": 18,
    "start_time": "2021-11-06T11:29:00.617Z"
   },
   {
    "duration": 52,
    "start_time": "2021-11-06T11:29:02.024Z"
   },
   {
    "duration": 52,
    "start_time": "2021-11-06T11:29:03.626Z"
   },
   {
    "duration": 10,
    "start_time": "2021-11-06T11:29:05.695Z"
   },
   {
    "duration": 22,
    "start_time": "2021-11-06T11:29:07.009Z"
   },
   {
    "duration": 6,
    "start_time": "2021-11-06T11:29:08.569Z"
   },
   {
    "duration": 18,
    "start_time": "2021-11-06T11:29:10.270Z"
   },
   {
    "duration": 5,
    "start_time": "2021-11-06T11:29:16.587Z"
   },
   {
    "duration": 34,
    "start_time": "2021-11-06T11:29:17.499Z"
   },
   {
    "duration": 5,
    "start_time": "2021-11-06T11:29:48.599Z"
   },
   {
    "duration": 39,
    "start_time": "2021-11-06T11:29:48.607Z"
   },
   {
    "duration": 11,
    "start_time": "2021-11-06T11:29:48.649Z"
   },
   {
    "duration": 23,
    "start_time": "2021-11-06T11:29:48.663Z"
   },
   {
    "duration": 6,
    "start_time": "2021-11-06T11:29:48.688Z"
   },
   {
    "duration": 53,
    "start_time": "2021-11-06T11:29:48.697Z"
   },
   {
    "duration": 42,
    "start_time": "2021-11-06T11:29:48.753Z"
   },
   {
    "duration": 51,
    "start_time": "2021-11-06T11:29:48.798Z"
   },
   {
    "duration": 78,
    "start_time": "2021-11-06T11:29:48.852Z"
   },
   {
    "duration": 9,
    "start_time": "2021-11-06T11:29:48.933Z"
   },
   {
    "duration": 49,
    "start_time": "2021-11-06T11:29:48.944Z"
   },
   {
    "duration": 5,
    "start_time": "2021-11-06T11:29:48.995Z"
   },
   {
    "duration": 18,
    "start_time": "2021-11-06T11:29:49.002Z"
   },
   {
    "duration": 5,
    "start_time": "2021-11-06T11:29:52.501Z"
   },
   {
    "duration": 18,
    "start_time": "2021-11-06T11:29:54.650Z"
   },
   {
    "duration": 26,
    "start_time": "2021-11-06T11:29:56.168Z"
   },
   {
    "duration": 4,
    "start_time": "2021-11-06T11:30:16.347Z"
   },
   {
    "duration": 37,
    "start_time": "2021-11-06T11:30:16.353Z"
   },
   {
    "duration": 11,
    "start_time": "2021-11-06T11:30:16.393Z"
   },
   {
    "duration": 18,
    "start_time": "2021-11-06T11:30:16.406Z"
   },
   {
    "duration": 6,
    "start_time": "2021-11-06T11:30:16.426Z"
   },
   {
    "duration": 83,
    "start_time": "2021-11-06T11:30:16.434Z"
   },
   {
    "duration": 18,
    "start_time": "2021-11-06T11:30:16.519Z"
   },
   {
    "duration": 78,
    "start_time": "2021-11-06T11:30:16.540Z"
   },
   {
    "duration": 61,
    "start_time": "2021-11-06T11:30:16.621Z"
   },
   {
    "duration": 9,
    "start_time": "2021-11-06T11:30:16.684Z"
   },
   {
    "duration": 20,
    "start_time": "2021-11-06T11:30:16.695Z"
   },
   {
    "duration": 5,
    "start_time": "2021-11-06T11:30:16.718Z"
   },
   {
    "duration": 18,
    "start_time": "2021-11-06T11:30:16.726Z"
   },
   {
    "duration": 5,
    "start_time": "2021-11-06T11:30:18.936Z"
   },
   {
    "duration": 30,
    "start_time": "2021-11-06T11:30:20.604Z"
   },
   {
    "duration": 5,
    "start_time": "2021-11-06T11:32:26.831Z"
   },
   {
    "duration": 38,
    "start_time": "2021-11-06T11:32:26.839Z"
   },
   {
    "duration": 12,
    "start_time": "2021-11-06T11:32:26.880Z"
   },
   {
    "duration": 26,
    "start_time": "2021-11-06T11:32:26.896Z"
   },
   {
    "duration": 8,
    "start_time": "2021-11-06T11:32:26.925Z"
   },
   {
    "duration": 88,
    "start_time": "2021-11-06T11:32:26.936Z"
   },
   {
    "duration": 17,
    "start_time": "2021-11-06T11:32:27.027Z"
   },
   {
    "duration": 74,
    "start_time": "2021-11-06T11:32:27.046Z"
   },
   {
    "duration": 65,
    "start_time": "2021-11-06T11:32:27.124Z"
   },
   {
    "duration": 8,
    "start_time": "2021-11-06T11:32:27.192Z"
   },
   {
    "duration": 20,
    "start_time": "2021-11-06T11:32:27.203Z"
   },
   {
    "duration": 6,
    "start_time": "2021-11-06T11:32:27.225Z"
   },
   {
    "duration": 49,
    "start_time": "2021-11-06T11:32:27.233Z"
   },
   {
    "duration": 5,
    "start_time": "2021-11-06T11:32:30.040Z"
   },
   {
    "duration": 20,
    "start_time": "2021-11-06T11:32:31.072Z"
   },
   {
    "duration": 28,
    "start_time": "2021-11-06T11:32:32.397Z"
   },
   {
    "duration": 5,
    "start_time": "2021-11-06T11:32:59.854Z"
   },
   {
    "duration": 5,
    "start_time": "2021-11-06T11:33:03.557Z"
   },
   {
    "duration": 37,
    "start_time": "2021-11-06T11:33:03.565Z"
   },
   {
    "duration": 11,
    "start_time": "2021-11-06T11:33:03.606Z"
   },
   {
    "duration": 19,
    "start_time": "2021-11-06T11:33:03.620Z"
   },
   {
    "duration": 12,
    "start_time": "2021-11-06T11:33:03.641Z"
   },
   {
    "duration": 76,
    "start_time": "2021-11-06T11:33:03.655Z"
   },
   {
    "duration": 17,
    "start_time": "2021-11-06T11:33:03.733Z"
   },
   {
    "duration": 78,
    "start_time": "2021-11-06T11:33:03.752Z"
   },
   {
    "duration": 74,
    "start_time": "2021-11-06T11:33:03.834Z"
   },
   {
    "duration": 9,
    "start_time": "2021-11-06T11:33:03.911Z"
   },
   {
    "duration": 21,
    "start_time": "2021-11-06T11:33:03.922Z"
   },
   {
    "duration": 7,
    "start_time": "2021-11-06T11:33:03.945Z"
   },
   {
    "duration": 16,
    "start_time": "2021-11-06T11:33:03.983Z"
   },
   {
    "duration": 4,
    "start_time": "2021-11-06T11:33:06.461Z"
   },
   {
    "duration": 19,
    "start_time": "2021-11-06T11:33:06.945Z"
   },
   {
    "duration": 24,
    "start_time": "2021-11-06T11:33:07.734Z"
   },
   {
    "duration": 5,
    "start_time": "2021-11-06T11:38:25.784Z"
   },
   {
    "duration": 4,
    "start_time": "2021-11-06T11:38:29.441Z"
   },
   {
    "duration": 41,
    "start_time": "2021-11-06T11:38:29.447Z"
   },
   {
    "duration": 11,
    "start_time": "2021-11-06T11:38:29.491Z"
   },
   {
    "duration": 17,
    "start_time": "2021-11-06T11:38:29.506Z"
   },
   {
    "duration": 11,
    "start_time": "2021-11-06T11:38:29.525Z"
   },
   {
    "duration": 72,
    "start_time": "2021-11-06T11:38:29.538Z"
   },
   {
    "duration": 17,
    "start_time": "2021-11-06T11:38:29.612Z"
   },
   {
    "duration": 78,
    "start_time": "2021-11-06T11:38:29.631Z"
   },
   {
    "duration": 49,
    "start_time": "2021-11-06T11:38:29.713Z"
   },
   {
    "duration": 9,
    "start_time": "2021-11-06T11:38:29.781Z"
   },
   {
    "duration": 22,
    "start_time": "2021-11-06T11:38:29.792Z"
   },
   {
    "duration": 6,
    "start_time": "2021-11-06T11:38:29.816Z"
   },
   {
    "duration": 20,
    "start_time": "2021-11-06T11:38:29.824Z"
   },
   {
    "duration": 5,
    "start_time": "2021-11-06T11:38:31.151Z"
   },
   {
    "duration": 40,
    "start_time": "2021-11-06T11:38:32.858Z"
   },
   {
    "duration": 6,
    "start_time": "2021-11-06T11:39:15.999Z"
   },
   {
    "duration": 38,
    "start_time": "2021-11-06T11:39:23.490Z"
   },
   {
    "duration": 17,
    "start_time": "2021-11-06T11:39:38.527Z"
   },
   {
    "duration": 310,
    "start_time": "2021-11-06T11:39:43.681Z"
   },
   {
    "duration": 341,
    "start_time": "2021-11-06T11:39:52.370Z"
   },
   {
    "duration": 12,
    "start_time": "2021-11-06T11:39:56.679Z"
   },
   {
    "duration": 33,
    "start_time": "2021-11-06T11:39:58.593Z"
   },
   {
    "duration": 5,
    "start_time": "2021-11-06T11:40:03.354Z"
   },
   {
    "duration": 4,
    "start_time": "2021-11-06T11:40:12.890Z"
   },
   {
    "duration": 297,
    "start_time": "2021-11-06T11:40:14.856Z"
   },
   {
    "duration": 34,
    "start_time": "2021-11-06T11:40:17.661Z"
   },
   {
    "duration": 562,
    "start_time": "2021-11-06T11:40:21.418Z"
   },
   {
    "duration": 6,
    "start_time": "2021-11-06T11:40:54.840Z"
   },
   {
    "duration": 582,
    "start_time": "2021-11-06T11:40:58.892Z"
   },
   {
    "duration": 5,
    "start_time": "2021-11-06T11:41:43.834Z"
   },
   {
    "duration": 23,
    "start_time": "2021-11-06T11:41:48.353Z"
   },
   {
    "duration": 6,
    "start_time": "2021-11-06T11:42:28.220Z"
   },
   {
    "duration": 9,
    "start_time": "2021-11-06T11:44:47.590Z"
   },
   {
    "duration": 5,
    "start_time": "2021-11-06T11:44:50.712Z"
   },
   {
    "duration": 43,
    "start_time": "2021-11-06T11:44:50.719Z"
   },
   {
    "duration": 11,
    "start_time": "2021-11-06T11:44:50.765Z"
   },
   {
    "duration": 20,
    "start_time": "2021-11-06T11:44:50.779Z"
   },
   {
    "duration": 11,
    "start_time": "2021-11-06T11:44:50.801Z"
   },
   {
    "duration": 67,
    "start_time": "2021-11-06T11:44:50.814Z"
   },
   {
    "duration": 16,
    "start_time": "2021-11-06T11:44:50.884Z"
   },
   {
    "duration": 82,
    "start_time": "2021-11-06T11:44:50.903Z"
   },
   {
    "duration": 52,
    "start_time": "2021-11-06T11:44:50.989Z"
   },
   {
    "duration": 41,
    "start_time": "2021-11-06T11:44:51.043Z"
   },
   {
    "duration": 19,
    "start_time": "2021-11-06T11:44:51.087Z"
   },
   {
    "duration": 7,
    "start_time": "2021-11-06T11:44:53.349Z"
   },
   {
    "duration": 16,
    "start_time": "2021-11-06T11:44:54.911Z"
   },
   {
    "duration": 5,
    "start_time": "2021-11-06T11:44:56.637Z"
   },
   {
    "duration": 17,
    "start_time": "2021-11-06T11:44:59.618Z"
   },
   {
    "duration": 4,
    "start_time": "2021-11-06T11:45:04.256Z"
   },
   {
    "duration": 327,
    "start_time": "2021-11-06T11:45:04.263Z"
   },
   {
    "duration": 11,
    "start_time": "2021-11-06T11:45:05.490Z"
   },
   {
    "duration": 32,
    "start_time": "2021-11-06T11:45:06.714Z"
   },
   {
    "duration": 6,
    "start_time": "2021-11-06T11:45:09.031Z"
   },
   {
    "duration": 4,
    "start_time": "2021-11-06T11:45:10.346Z"
   },
   {
    "duration": 303,
    "start_time": "2021-11-06T11:45:11.070Z"
   },
   {
    "duration": 34,
    "start_time": "2021-11-06T11:45:12.428Z"
   },
   {
    "duration": 661,
    "start_time": "2021-11-06T11:46:01.119Z"
   },
   {
    "duration": 289,
    "start_time": "2021-11-06T11:46:43.840Z"
   },
   {
    "duration": 578,
    "start_time": "2021-11-06T11:46:47.792Z"
   },
   {
    "duration": 5,
    "start_time": "2021-11-06T11:48:16.312Z"
   },
   {
    "duration": 32,
    "start_time": "2021-11-06T11:48:21.200Z"
   },
   {
    "duration": 19,
    "start_time": "2021-11-06T11:53:25.952Z"
   },
   {
    "duration": 3,
    "start_time": "2021-11-06T11:53:34.835Z"
   },
   {
    "duration": 306,
    "start_time": "2021-11-06T11:54:06.231Z"
   },
   {
    "duration": 33,
    "start_time": "2021-11-06T11:54:07.675Z"
   },
   {
    "duration": 20,
    "start_time": "2021-11-06T11:58:04.302Z"
   },
   {
    "duration": 4,
    "start_time": "2021-11-06T11:59:28.760Z"
   },
   {
    "duration": 34,
    "start_time": "2021-11-06T11:59:28.798Z"
   },
   {
    "duration": 11,
    "start_time": "2021-11-06T11:59:28.834Z"
   },
   {
    "duration": 17,
    "start_time": "2021-11-06T11:59:28.849Z"
   },
   {
    "duration": 14,
    "start_time": "2021-11-06T11:59:28.868Z"
   },
   {
    "duration": 51,
    "start_time": "2021-11-06T11:59:28.885Z"
   },
   {
    "duration": 46,
    "start_time": "2021-11-06T11:59:28.938Z"
   },
   {
    "duration": 52,
    "start_time": "2021-11-06T11:59:28.986Z"
   },
   {
    "duration": 74,
    "start_time": "2021-11-06T11:59:29.040Z"
   },
   {
    "duration": 8,
    "start_time": "2021-11-06T11:59:29.118Z"
   },
   {
    "duration": 23,
    "start_time": "2021-11-06T11:59:29.129Z"
   },
   {
    "duration": 32,
    "start_time": "2021-11-06T11:59:29.154Z"
   },
   {
    "duration": 19,
    "start_time": "2021-11-06T11:59:29.188Z"
   },
   {
    "duration": 5,
    "start_time": "2021-11-06T11:59:29.209Z"
   },
   {
    "duration": 35,
    "start_time": "2021-11-06T11:59:29.216Z"
   },
   {
    "duration": 29,
    "start_time": "2021-11-06T11:59:29.254Z"
   },
   {
    "duration": 314,
    "start_time": "2021-11-06T11:59:29.285Z"
   },
   {
    "duration": 32,
    "start_time": "2021-11-06T11:59:29.601Z"
   },
   {
    "duration": 6,
    "start_time": "2021-11-06T11:59:29.635Z"
   },
   {
    "duration": 5,
    "start_time": "2021-11-06T11:59:34.572Z"
   },
   {
    "duration": 21,
    "start_time": "2021-11-06T11:59:35.115Z"
   },
   {
    "duration": 4,
    "start_time": "2021-11-06T11:59:36.519Z"
   },
   {
    "duration": 686,
    "start_time": "2021-11-06T11:59:42.050Z"
   },
   {
    "duration": 33,
    "start_time": "2021-11-06T12:00:20.978Z"
   },
   {
    "duration": 34,
    "start_time": "2021-11-06T12:00:22.958Z"
   },
   {
    "duration": 43,
    "start_time": "2021-11-06T12:00:43.377Z"
   },
   {
    "duration": 35,
    "start_time": "2021-11-06T12:00:50.940Z"
   },
   {
    "duration": 8,
    "start_time": "2021-11-06T12:05:42.177Z"
   },
   {
    "duration": 8,
    "start_time": "2021-11-06T12:09:00.157Z"
   },
   {
    "duration": 9,
    "start_time": "2021-11-06T12:09:16.580Z"
   },
   {
    "duration": 48,
    "start_time": "2021-11-06T12:26:18.949Z"
   },
   {
    "duration": 5,
    "start_time": "2021-11-06T12:26:24.807Z"
   },
   {
    "duration": 41,
    "start_time": "2021-11-06T12:26:24.814Z"
   },
   {
    "duration": 11,
    "start_time": "2021-11-06T12:26:24.858Z"
   },
   {
    "duration": 22,
    "start_time": "2021-11-06T12:26:24.872Z"
   },
   {
    "duration": 7,
    "start_time": "2021-11-06T12:26:24.897Z"
   },
   {
    "duration": 76,
    "start_time": "2021-11-06T12:26:24.906Z"
   },
   {
    "duration": 17,
    "start_time": "2021-11-06T12:26:24.985Z"
   },
   {
    "duration": 87,
    "start_time": "2021-11-06T12:26:25.005Z"
   },
   {
    "duration": 52,
    "start_time": "2021-11-06T12:26:25.096Z"
   },
   {
    "duration": 31,
    "start_time": "2021-11-06T12:26:25.151Z"
   },
   {
    "duration": 29,
    "start_time": "2021-11-06T12:26:25.184Z"
   },
   {
    "duration": 9,
    "start_time": "2021-11-06T12:26:25.217Z"
   },
   {
    "duration": 17,
    "start_time": "2021-11-06T12:26:25.229Z"
   },
   {
    "duration": 34,
    "start_time": "2021-11-06T12:26:25.249Z"
   },
   {
    "duration": 34,
    "start_time": "2021-11-06T12:26:25.285Z"
   },
   {
    "duration": 3,
    "start_time": "2021-11-06T12:26:25.321Z"
   },
   {
    "duration": 346,
    "start_time": "2021-11-06T12:26:25.327Z"
   },
   {
    "duration": 37,
    "start_time": "2021-11-06T12:26:25.675Z"
   },
   {
    "duration": 7,
    "start_time": "2021-11-06T12:26:25.714Z"
   },
   {
    "duration": 8,
    "start_time": "2021-11-06T12:26:25.723Z"
   },
   {
    "duration": 52,
    "start_time": "2021-11-06T12:26:25.733Z"
   },
   {
    "duration": 7,
    "start_time": "2021-11-06T12:26:25.787Z"
   },
   {
    "duration": 7,
    "start_time": "2021-11-06T12:26:25.797Z"
   },
   {
    "duration": 708,
    "start_time": "2021-11-06T12:26:25.806Z"
   },
   {
    "duration": 35,
    "start_time": "2021-11-06T12:26:26.516Z"
   },
   {
    "duration": 53,
    "start_time": "2021-11-06T12:26:26.553Z"
   },
   {
    "duration": 15,
    "start_time": "2021-11-06T12:29:18.272Z"
   },
   {
    "duration": 13,
    "start_time": "2021-11-06T12:29:23.163Z"
   },
   {
    "duration": 307,
    "start_time": "2021-11-06T13:40:01.620Z"
   },
   {
    "duration": 280,
    "start_time": "2021-11-06T13:40:07.593Z"
   },
   {
    "duration": 39,
    "start_time": "2021-11-06T13:40:07.876Z"
   },
   {
    "duration": 11,
    "start_time": "2021-11-06T13:40:07.918Z"
   },
   {
    "duration": 18,
    "start_time": "2021-11-06T13:40:07.933Z"
   },
   {
    "duration": 41,
    "start_time": "2021-11-06T13:40:07.953Z"
   },
   {
    "duration": 7,
    "start_time": "2021-11-06T13:40:07.997Z"
   },
   {
    "duration": 55,
    "start_time": "2021-11-06T13:40:08.007Z"
   },
   {
    "duration": 34,
    "start_time": "2021-11-06T13:40:08.083Z"
   },
   {
    "duration": 100,
    "start_time": "2021-11-06T13:40:08.122Z"
   },
   {
    "duration": 71,
    "start_time": "2021-11-06T13:40:08.225Z"
   },
   {
    "duration": 617,
    "start_time": "2021-11-06T13:40:12.447Z"
   },
   {
    "duration": 916,
    "start_time": "2021-11-06T13:41:24.415Z"
   },
   {
    "duration": 879,
    "start_time": "2021-11-06T13:42:46.579Z"
   },
   {
    "duration": 958,
    "start_time": "2021-11-06T13:43:28.484Z"
   },
   {
    "duration": 304,
    "start_time": "2021-11-06T13:46:54.242Z"
   },
   {
    "duration": 299,
    "start_time": "2021-11-06T13:47:01.025Z"
   },
   {
    "duration": -17,
    "start_time": "2021-11-06T13:47:01.344Z"
   },
   {
    "duration": -34,
    "start_time": "2021-11-06T13:47:01.363Z"
   },
   {
    "duration": -38,
    "start_time": "2021-11-06T13:47:01.368Z"
   },
   {
    "duration": -38,
    "start_time": "2021-11-06T13:47:01.370Z"
   },
   {
    "duration": -40,
    "start_time": "2021-11-06T13:47:01.373Z"
   },
   {
    "duration": -41,
    "start_time": "2021-11-06T13:47:01.376Z"
   },
   {
    "duration": -42,
    "start_time": "2021-11-06T13:47:01.378Z"
   },
   {
    "duration": -43,
    "start_time": "2021-11-06T13:47:01.381Z"
   },
   {
    "duration": -46,
    "start_time": "2021-11-06T13:47:01.385Z"
   },
   {
    "duration": 5,
    "start_time": "2021-11-06T13:47:47.761Z"
   },
   {
    "duration": 34,
    "start_time": "2021-11-06T13:47:48.306Z"
   },
   {
    "duration": 12,
    "start_time": "2021-11-06T13:47:49.296Z"
   },
   {
    "duration": 20,
    "start_time": "2021-11-06T13:47:50.126Z"
   },
   {
    "duration": 17,
    "start_time": "2021-11-06T13:47:50.833Z"
   },
   {
    "duration": 7,
    "start_time": "2021-11-06T13:47:51.580Z"
   },
   {
    "duration": 54,
    "start_time": "2021-11-06T13:47:52.107Z"
   },
   {
    "duration": 16,
    "start_time": "2021-11-06T13:47:52.362Z"
   },
   {
    "duration": 54,
    "start_time": "2021-11-06T13:47:53.638Z"
   },
   {
    "duration": 52,
    "start_time": "2021-11-06T13:47:54.143Z"
   },
   {
    "duration": 1026,
    "start_time": "2021-11-06T13:47:55.184Z"
   },
   {
    "duration": 313,
    "start_time": "2021-11-06T13:49:25.598Z"
   },
   {
    "duration": 4,
    "start_time": "2021-11-06T13:49:31.067Z"
   },
   {
    "duration": 8,
    "start_time": "2021-11-06T13:51:59.400Z"
   },
   {
    "duration": 282,
    "start_time": "2021-11-06T13:55:18.853Z"
   },
   {
    "duration": 305,
    "start_time": "2021-11-06T13:55:32.395Z"
   },
   {
    "duration": 313,
    "start_time": "2021-11-06T13:55:35.955Z"
   },
   {
    "duration": 311,
    "start_time": "2021-11-06T13:56:11.781Z"
   },
   {
    "duration": 6,
    "start_time": "2021-11-06T13:56:25.354Z"
   },
   {
    "duration": 33,
    "start_time": "2021-11-06T13:56:25.365Z"
   },
   {
    "duration": 10,
    "start_time": "2021-11-06T13:56:25.401Z"
   },
   {
    "duration": 19,
    "start_time": "2021-11-06T13:56:25.414Z"
   },
   {
    "duration": 50,
    "start_time": "2021-11-06T13:56:25.435Z"
   },
   {
    "duration": 7,
    "start_time": "2021-11-06T13:56:25.488Z"
   },
   {
    "duration": 58,
    "start_time": "2021-11-06T13:56:25.499Z"
   },
   {
    "duration": 21,
    "start_time": "2021-11-06T13:56:25.581Z"
   },
   {
    "duration": 81,
    "start_time": "2021-11-06T13:56:25.604Z"
   },
   {
    "duration": 51,
    "start_time": "2021-11-06T13:56:25.688Z"
   },
   {
    "duration": 1164,
    "start_time": "2021-11-06T13:56:25.741Z"
   },
   {
    "duration": 308,
    "start_time": "2021-11-06T13:56:30.944Z"
   },
   {
    "duration": 514,
    "start_time": "2021-11-06T13:56:57.296Z"
   },
   {
    "duration": 10,
    "start_time": "2021-11-06T13:57:12.928Z"
   },
   {
    "duration": 5,
    "start_time": "2021-11-06T13:58:04.770Z"
   },
   {
    "duration": 38,
    "start_time": "2021-11-06T13:58:04.784Z"
   },
   {
    "duration": 13,
    "start_time": "2021-11-06T13:58:04.824Z"
   },
   {
    "duration": 26,
    "start_time": "2021-11-06T13:58:04.840Z"
   },
   {
    "duration": 18,
    "start_time": "2021-11-06T13:58:04.882Z"
   },
   {
    "duration": 7,
    "start_time": "2021-11-06T13:58:04.903Z"
   },
   {
    "duration": 81,
    "start_time": "2021-11-06T13:58:04.913Z"
   },
   {
    "duration": 19,
    "start_time": "2021-11-06T13:58:04.996Z"
   },
   {
    "duration": 81,
    "start_time": "2021-11-06T13:58:05.018Z"
   },
   {
    "duration": 49,
    "start_time": "2021-11-06T13:58:05.102Z"
   },
   {
    "duration": 1044,
    "start_time": "2021-11-06T13:58:05.153Z"
   },
   {
    "duration": 11,
    "start_time": "2021-11-06T13:58:13.741Z"
   },
   {
    "duration": 14,
    "start_time": "2021-11-06T14:00:29.962Z"
   },
   {
    "duration": 11,
    "start_time": "2021-11-06T14:00:54.399Z"
   },
   {
    "duration": 103,
    "start_time": "2021-11-06T14:59:10.256Z"
   },
   {
    "duration": 12,
    "start_time": "2021-11-06T14:59:26.044Z"
   },
   {
    "duration": 15,
    "start_time": "2021-11-06T15:00:31.191Z"
   },
   {
    "duration": 10,
    "start_time": "2021-11-06T15:03:24.950Z"
   },
   {
    "duration": 10,
    "start_time": "2021-11-06T15:03:59.627Z"
   },
   {
    "duration": 12,
    "start_time": "2021-11-06T15:05:12.500Z"
   },
   {
    "duration": 9,
    "start_time": "2021-11-06T15:06:03.914Z"
   },
   {
    "duration": 10,
    "start_time": "2021-11-06T15:06:17.853Z"
   },
   {
    "duration": 13,
    "start_time": "2021-11-06T15:11:31.958Z"
   },
   {
    "duration": 5,
    "start_time": "2021-11-06T15:12:26.554Z"
   },
   {
    "duration": 45,
    "start_time": "2021-11-06T15:12:26.562Z"
   },
   {
    "duration": 12,
    "start_time": "2021-11-06T15:12:26.610Z"
   },
   {
    "duration": 18,
    "start_time": "2021-11-06T15:12:26.624Z"
   },
   {
    "duration": 40,
    "start_time": "2021-11-06T15:12:26.644Z"
   },
   {
    "duration": 17,
    "start_time": "2021-11-06T15:12:36.056Z"
   },
   {
    "duration": 130,
    "start_time": "2021-11-06T15:12:37.298Z"
   },
   {
    "duration": 9,
    "start_time": "2021-11-06T15:12:46.361Z"
   },
   {
    "duration": 12,
    "start_time": "2021-11-06T15:12:48.315Z"
   },
   {
    "duration": 125,
    "start_time": "2021-11-06T15:13:24.966Z"
   },
   {
    "duration": 308,
    "start_time": "2021-11-06T15:13:31.867Z"
   },
   {
    "duration": 14,
    "start_time": "2021-11-06T15:13:43.071Z"
   },
   {
    "duration": 11,
    "start_time": "2021-11-06T15:13:48.216Z"
   },
   {
    "duration": 14,
    "start_time": "2021-11-06T15:14:18.156Z"
   },
   {
    "duration": 11,
    "start_time": "2021-11-06T15:18:45.774Z"
   },
   {
    "duration": 13,
    "start_time": "2021-11-06T15:19:30.047Z"
   },
   {
    "duration": 5,
    "start_time": "2021-11-06T15:19:51.695Z"
   },
   {
    "duration": 40,
    "start_time": "2021-11-06T15:19:51.704Z"
   },
   {
    "duration": 14,
    "start_time": "2021-11-06T15:19:51.748Z"
   },
   {
    "duration": 30,
    "start_time": "2021-11-06T15:19:51.765Z"
   },
   {
    "duration": 22,
    "start_time": "2021-11-06T15:19:51.798Z"
   },
   {
    "duration": 15,
    "start_time": "2021-11-06T15:19:54.974Z"
   },
   {
    "duration": 9,
    "start_time": "2021-11-06T15:19:55.970Z"
   },
   {
    "duration": 11,
    "start_time": "2021-11-06T15:19:57.397Z"
   },
   {
    "duration": 5,
    "start_time": "2021-11-06T15:20:48.398Z"
   },
   {
    "duration": 39,
    "start_time": "2021-11-06T15:20:48.405Z"
   },
   {
    "duration": 13,
    "start_time": "2021-11-06T15:20:48.447Z"
   },
   {
    "duration": 22,
    "start_time": "2021-11-06T15:20:48.462Z"
   },
   {
    "duration": 25,
    "start_time": "2021-11-06T15:20:48.487Z"
   },
   {
    "duration": 15,
    "start_time": "2021-11-06T15:20:50.766Z"
   },
   {
    "duration": 9,
    "start_time": "2021-11-06T15:20:51.558Z"
   },
   {
    "duration": 11,
    "start_time": "2021-11-06T15:20:52.507Z"
   },
   {
    "duration": 28,
    "start_time": "2021-11-06T15:21:07.801Z"
   },
   {
    "duration": 5,
    "start_time": "2021-11-06T15:23:40.948Z"
   },
   {
    "duration": 37,
    "start_time": "2021-11-06T15:23:40.957Z"
   },
   {
    "duration": 19,
    "start_time": "2021-11-06T15:23:40.998Z"
   },
   {
    "duration": 19,
    "start_time": "2021-11-06T15:23:41.020Z"
   },
   {
    "duration": 42,
    "start_time": "2021-11-06T15:23:41.042Z"
   },
   {
    "duration": 18,
    "start_time": "2021-11-06T15:23:42.702Z"
   },
   {
    "duration": 8573,
    "start_time": "2021-11-06T15:23:43.383Z"
   },
   {
    "duration": 22,
    "start_time": "2021-11-06T15:23:51.937Z"
   },
   {
    "duration": 318,
    "start_time": "2021-11-06T15:24:09.348Z"
   },
   {
    "duration": 4,
    "start_time": "2021-11-06T15:25:23.517Z"
   },
   {
    "duration": 39,
    "start_time": "2021-11-06T15:25:23.524Z"
   },
   {
    "duration": 14,
    "start_time": "2021-11-06T15:25:23.566Z"
   },
   {
    "duration": 19,
    "start_time": "2021-11-06T15:25:23.582Z"
   },
   {
    "duration": 22,
    "start_time": "2021-11-06T15:25:23.604Z"
   },
   {
    "duration": 16,
    "start_time": "2021-11-06T15:25:25.835Z"
   },
   {
    "duration": 8,
    "start_time": "2021-11-06T15:25:26.709Z"
   },
   {
    "duration": 27,
    "start_time": "2021-11-06T15:25:28.119Z"
   },
   {
    "duration": 11,
    "start_time": "2021-11-06T15:25:38.886Z"
   },
   {
    "duration": 5,
    "start_time": "2021-11-06T15:26:26.210Z"
   },
   {
    "duration": 39,
    "start_time": "2021-11-06T15:26:26.217Z"
   },
   {
    "duration": 11,
    "start_time": "2021-11-06T15:26:26.259Z"
   },
   {
    "duration": 16,
    "start_time": "2021-11-06T15:26:26.272Z"
   },
   {
    "duration": 18,
    "start_time": "2021-11-06T15:26:26.291Z"
   },
   {
    "duration": 8,
    "start_time": "2021-11-06T15:26:26.312Z"
   },
   {
    "duration": 6,
    "start_time": "2021-11-06T15:26:35.383Z"
   },
   {
    "duration": 53,
    "start_time": "2021-11-06T15:26:36.348Z"
   },
   {
    "duration": 19,
    "start_time": "2021-11-06T15:26:42.431Z"
   },
   {
    "duration": 52,
    "start_time": "2021-11-06T15:26:45.748Z"
   },
   {
    "duration": 5,
    "start_time": "2021-11-06T15:31:46.570Z"
   },
   {
    "duration": 38,
    "start_time": "2021-11-06T15:31:46.578Z"
   },
   {
    "duration": 11,
    "start_time": "2021-11-06T15:31:46.619Z"
   },
   {
    "duration": 18,
    "start_time": "2021-11-06T15:31:46.633Z"
   },
   {
    "duration": 37,
    "start_time": "2021-11-06T15:31:46.653Z"
   },
   {
    "duration": 5,
    "start_time": "2021-11-06T15:31:46.693Z"
   },
   {
    "duration": 55,
    "start_time": "2021-11-06T15:31:46.700Z"
   },
   {
    "duration": 37,
    "start_time": "2021-11-06T15:31:46.758Z"
   },
   {
    "duration": 50,
    "start_time": "2021-11-06T15:31:46.798Z"
   },
   {
    "duration": 79,
    "start_time": "2021-11-06T15:31:46.851Z"
   },
   {
    "duration": 9,
    "start_time": "2021-11-06T15:31:46.932Z"
   },
   {
    "duration": 1115,
    "start_time": "2021-11-06T15:31:46.944Z"
   },
   {
    "duration": 7,
    "start_time": "2021-11-06T15:31:48.062Z"
   },
   {
    "duration": 16,
    "start_time": "2021-11-06T15:31:48.082Z"
   },
   {
    "duration": 5,
    "start_time": "2021-11-06T15:31:48.100Z"
   },
   {
    "duration": 34,
    "start_time": "2021-11-06T15:31:48.107Z"
   },
   {
    "duration": 4,
    "start_time": "2021-11-06T15:31:48.143Z"
   },
   {
    "duration": 374,
    "start_time": "2021-11-06T15:31:48.149Z"
   },
   {
    "duration": 37,
    "start_time": "2021-11-06T15:31:48.525Z"
   },
   {
    "duration": 22,
    "start_time": "2021-11-06T15:31:48.564Z"
   },
   {
    "duration": 22,
    "start_time": "2021-11-06T15:31:48.588Z"
   },
   {
    "duration": 7,
    "start_time": "2021-11-06T15:31:48.613Z"
   },
   {
    "duration": 9,
    "start_time": "2021-11-06T15:31:48.622Z"
   },
   {
    "duration": 784,
    "start_time": "2021-11-06T15:31:48.635Z"
   },
   {
    "duration": 35,
    "start_time": "2021-11-06T15:31:49.421Z"
   },
   {
    "duration": 53,
    "start_time": "2021-11-06T15:31:49.459Z"
   },
   {
    "duration": 6,
    "start_time": "2021-11-06T15:33:24.602Z"
   },
   {
    "duration": 40,
    "start_time": "2021-11-06T15:33:24.611Z"
   },
   {
    "duration": 12,
    "start_time": "2021-11-06T15:33:24.654Z"
   },
   {
    "duration": 20,
    "start_time": "2021-11-06T15:33:24.683Z"
   },
   {
    "duration": 18,
    "start_time": "2021-11-06T15:33:24.705Z"
   },
   {
    "duration": 5,
    "start_time": "2021-11-06T15:33:24.726Z"
   },
   {
    "duration": 93,
    "start_time": "2021-11-06T15:33:24.734Z"
   },
   {
    "duration": 19,
    "start_time": "2021-11-06T15:33:24.830Z"
   },
   {
    "duration": 74,
    "start_time": "2021-11-06T15:33:24.853Z"
   },
   {
    "duration": 70,
    "start_time": "2021-11-06T15:33:24.929Z"
   },
   {
    "duration": 35,
    "start_time": "2021-11-06T15:33:25.002Z"
   },
   {
    "duration": 1038,
    "start_time": "2021-11-06T15:33:25.040Z"
   },
   {
    "duration": 7,
    "start_time": "2021-11-06T15:33:26.082Z"
   },
   {
    "duration": 19,
    "start_time": "2021-11-06T15:33:26.091Z"
   },
   {
    "duration": 4,
    "start_time": "2021-11-06T15:33:26.112Z"
   },
   {
    "duration": 63,
    "start_time": "2021-11-06T15:33:26.119Z"
   },
   {
    "duration": 5,
    "start_time": "2021-11-06T15:33:26.184Z"
   },
   {
    "duration": 295,
    "start_time": "2021-11-06T15:33:26.191Z"
   },
   {
    "duration": 21,
    "start_time": "2021-11-06T15:33:26.467Z"
   },
   {
    "duration": 21,
    "start_time": "2021-11-06T15:33:26.469Z"
   },
   {
    "duration": 18,
    "start_time": "2021-11-06T15:33:26.474Z"
   },
   {
    "duration": 17,
    "start_time": "2021-11-06T15:33:26.476Z"
   },
   {
    "duration": 15,
    "start_time": "2021-11-06T15:33:26.479Z"
   },
   {
    "duration": 14,
    "start_time": "2021-11-06T15:33:26.481Z"
   },
   {
    "duration": 13,
    "start_time": "2021-11-06T15:33:26.484Z"
   },
   {
    "duration": 11,
    "start_time": "2021-11-06T15:33:26.487Z"
   },
   {
    "duration": 9,
    "start_time": "2021-11-06T15:34:22.360Z"
   },
   {
    "duration": 10,
    "start_time": "2021-11-06T15:34:26.577Z"
   },
   {
    "duration": 1061,
    "start_time": "2021-11-06T15:34:26.589Z"
   },
   {
    "duration": 6,
    "start_time": "2021-11-06T15:34:27.653Z"
   },
   {
    "duration": 32,
    "start_time": "2021-11-06T15:34:27.662Z"
   },
   {
    "duration": 5,
    "start_time": "2021-11-06T15:34:27.696Z"
   },
   {
    "duration": 37,
    "start_time": "2021-11-06T15:34:27.703Z"
   },
   {
    "duration": 4,
    "start_time": "2021-11-06T15:34:27.742Z"
   },
   {
    "duration": 328,
    "start_time": "2021-11-06T15:34:27.749Z"
   },
   {
    "duration": 32,
    "start_time": "2021-11-06T15:34:28.083Z"
   },
   {
    "duration": 5,
    "start_time": "2021-11-06T15:34:28.118Z"
   },
   {
    "duration": 23,
    "start_time": "2021-11-06T15:34:28.125Z"
   },
   {
    "duration": 33,
    "start_time": "2021-11-06T15:34:28.151Z"
   },
   {
    "duration": 3,
    "start_time": "2021-11-06T15:34:28.187Z"
   },
   {
    "duration": 808,
    "start_time": "2021-11-06T15:34:28.193Z"
   },
   {
    "duration": 34,
    "start_time": "2021-11-06T15:34:29.003Z"
   },
   {
    "duration": 61,
    "start_time": "2021-11-06T15:34:29.040Z"
   },
   {
    "duration": 5,
    "start_time": "2021-11-06T15:35:07.584Z"
   },
   {
    "duration": 38,
    "start_time": "2021-11-06T15:35:07.592Z"
   },
   {
    "duration": 13,
    "start_time": "2021-11-06T15:35:07.633Z"
   },
   {
    "duration": 44,
    "start_time": "2021-11-06T15:35:07.648Z"
   },
   {
    "duration": 20,
    "start_time": "2021-11-06T15:35:07.695Z"
   },
   {
    "duration": 6,
    "start_time": "2021-11-06T15:35:07.717Z"
   },
   {
    "duration": 84,
    "start_time": "2021-11-06T15:35:07.725Z"
   },
   {
    "duration": 16,
    "start_time": "2021-11-06T15:35:07.813Z"
   },
   {
    "duration": 83,
    "start_time": "2021-11-06T15:35:07.832Z"
   },
   {
    "duration": 65,
    "start_time": "2021-11-06T15:35:07.918Z"
   },
   {
    "duration": 9,
    "start_time": "2021-11-06T15:35:07.985Z"
   },
   {
    "duration": 1024,
    "start_time": "2021-11-06T15:35:07.996Z"
   },
   {
    "duration": 7,
    "start_time": "2021-11-06T15:35:09.023Z"
   },
   {
    "duration": 20,
    "start_time": "2021-11-06T15:35:09.033Z"
   },
   {
    "duration": 4,
    "start_time": "2021-11-06T15:35:09.083Z"
   },
   {
    "duration": 37,
    "start_time": "2021-11-06T15:35:09.089Z"
   },
   {
    "duration": 4,
    "start_time": "2021-11-06T15:35:09.128Z"
   },
   {
    "duration": 346,
    "start_time": "2021-11-06T15:35:09.135Z"
   },
   {
    "duration": 37,
    "start_time": "2021-11-06T15:35:09.484Z"
   },
   {
    "duration": 6,
    "start_time": "2021-11-06T15:35:09.524Z"
   },
   {
    "duration": 49,
    "start_time": "2021-11-06T15:35:09.533Z"
   },
   {
    "duration": 9,
    "start_time": "2021-11-06T15:35:09.584Z"
   },
   {
    "duration": 4,
    "start_time": "2021-11-06T15:35:09.598Z"
   },
   {
    "duration": 764,
    "start_time": "2021-11-06T15:35:09.605Z"
   },
   {
    "duration": 41,
    "start_time": "2021-11-06T15:35:10.372Z"
   },
   {
    "duration": 41,
    "start_time": "2021-11-06T15:35:10.416Z"
   },
   {
    "duration": 1277,
    "start_time": "2021-11-08T09:34:49.899Z"
   },
   {
    "duration": 40,
    "start_time": "2021-11-08T09:34:51.178Z"
   },
   {
    "duration": 10,
    "start_time": "2021-11-08T09:34:51.220Z"
   },
   {
    "duration": 23,
    "start_time": "2021-11-08T09:34:51.232Z"
   },
   {
    "duration": 11,
    "start_time": "2021-11-08T09:34:51.258Z"
   },
   {
    "duration": 4,
    "start_time": "2021-11-08T09:34:51.271Z"
   },
   {
    "duration": 36,
    "start_time": "2021-11-08T09:34:51.277Z"
   },
   {
    "duration": 11,
    "start_time": "2021-11-08T09:34:51.315Z"
   },
   {
    "duration": 60,
    "start_time": "2021-11-08T09:34:51.329Z"
   },
   {
    "duration": 32,
    "start_time": "2021-11-08T09:34:51.392Z"
   },
   {
    "duration": 7,
    "start_time": "2021-11-08T09:34:51.425Z"
   },
   {
    "duration": 724,
    "start_time": "2021-11-08T09:34:51.434Z"
   },
   {
    "duration": 7,
    "start_time": "2021-11-08T09:34:52.160Z"
   },
   {
    "duration": 24,
    "start_time": "2021-11-08T09:34:52.169Z"
   },
   {
    "duration": 8,
    "start_time": "2021-11-08T09:34:52.195Z"
   },
   {
    "duration": 26,
    "start_time": "2021-11-08T09:34:52.205Z"
   },
   {
    "duration": 4,
    "start_time": "2021-11-08T09:34:52.233Z"
   },
   {
    "duration": 233,
    "start_time": "2021-11-08T09:34:52.239Z"
   },
   {
    "duration": 26,
    "start_time": "2021-11-08T09:34:52.474Z"
   },
   {
    "duration": 4,
    "start_time": "2021-11-08T09:34:52.502Z"
   },
   {
    "duration": 17,
    "start_time": "2021-11-08T09:34:52.508Z"
   },
   {
    "duration": 7,
    "start_time": "2021-11-08T09:34:52.527Z"
   },
   {
    "duration": 30,
    "start_time": "2021-11-08T09:34:52.535Z"
   },
   {
    "duration": 464,
    "start_time": "2021-11-08T09:34:52.567Z"
   },
   {
    "duration": 37,
    "start_time": "2021-11-08T09:34:53.033Z"
   },
   {
    "duration": 24,
    "start_time": "2021-11-08T09:34:53.072Z"
   },
   {
    "duration": 3,
    "start_time": "2021-11-08T09:46:19.308Z"
   },
   {
    "duration": 4,
    "start_time": "2021-11-08T09:50:01.589Z"
   },
   {
    "duration": 44,
    "start_time": "2021-11-08T09:50:01.595Z"
   },
   {
    "duration": 9,
    "start_time": "2021-11-08T09:50:01.641Z"
   },
   {
    "duration": 78,
    "start_time": "2021-11-08T09:50:01.652Z"
   },
   {
    "duration": 106,
    "start_time": "2021-11-08T09:50:01.732Z"
   },
   {
    "duration": 50,
    "start_time": "2021-11-08T09:50:01.840Z"
   },
   {
    "duration": 45,
    "start_time": "2021-11-08T09:50:01.892Z"
   },
   {
    "duration": 36,
    "start_time": "2021-11-08T09:50:01.938Z"
   },
   {
    "duration": 112,
    "start_time": "2021-11-08T09:50:01.976Z"
   },
   {
    "duration": 37,
    "start_time": "2021-11-08T09:50:02.091Z"
   },
   {
    "duration": 8,
    "start_time": "2021-11-08T09:50:02.130Z"
   },
   {
    "duration": 713,
    "start_time": "2021-11-08T09:50:02.140Z"
   },
   {
    "duration": 9,
    "start_time": "2021-11-08T09:50:02.855Z"
   },
   {
    "duration": 22,
    "start_time": "2021-11-08T09:50:02.866Z"
   },
   {
    "duration": 4,
    "start_time": "2021-11-08T09:50:02.890Z"
   },
   {
    "duration": 25,
    "start_time": "2021-11-08T09:50:02.896Z"
   },
   {
    "duration": 9,
    "start_time": "2021-11-08T09:50:02.923Z"
   },
   {
    "duration": 223,
    "start_time": "2021-11-08T09:50:02.933Z"
   },
   {
    "duration": 27,
    "start_time": "2021-11-08T09:50:03.157Z"
   },
   {
    "duration": 6,
    "start_time": "2021-11-08T09:50:03.186Z"
   },
   {
    "duration": 20,
    "start_time": "2021-11-08T09:50:03.194Z"
   },
   {
    "duration": 10,
    "start_time": "2021-11-08T09:50:03.215Z"
   },
   {
    "duration": 15,
    "start_time": "2021-11-08T09:50:03.226Z"
   },
   {
    "duration": 676,
    "start_time": "2021-11-08T09:50:03.243Z"
   },
   {
    "duration": 24,
    "start_time": "2021-11-08T09:50:03.921Z"
   },
   {
    "duration": 36,
    "start_time": "2021-11-08T09:50:03.947Z"
   },
   {
    "duration": 3,
    "start_time": "2021-11-08T09:50:03.986Z"
   },
   {
    "duration": 367,
    "start_time": "2021-11-08T09:50:03.990Z"
   },
   {
    "duration": 427,
    "start_time": "2021-11-08T09:50:35.498Z"
   },
   {
    "duration": 4,
    "start_time": "2021-11-08T09:50:57.918Z"
   },
   {
    "duration": 1254,
    "start_time": "2021-11-08T09:51:00.170Z"
   },
   {
    "duration": 52,
    "start_time": "2021-11-08T09:57:39.918Z"
   },
   {
    "duration": 268,
    "start_time": "2021-11-08T10:10:02.227Z"
   },
   {
    "duration": 4,
    "start_time": "2021-11-08T10:10:08.208Z"
   },
   {
    "duration": 38,
    "start_time": "2021-11-08T10:10:08.214Z"
   },
   {
    "duration": 9,
    "start_time": "2021-11-08T10:10:08.255Z"
   },
   {
    "duration": 11,
    "start_time": "2021-11-08T10:10:08.266Z"
   },
   {
    "duration": 12,
    "start_time": "2021-11-08T10:10:08.279Z"
   },
   {
    "duration": 4,
    "start_time": "2021-11-08T10:10:08.292Z"
   },
   {
    "duration": 35,
    "start_time": "2021-11-08T10:10:08.298Z"
   },
   {
    "duration": 39,
    "start_time": "2021-11-08T10:10:08.334Z"
   },
   {
    "duration": 31,
    "start_time": "2021-11-08T10:10:08.375Z"
   },
   {
    "duration": 56,
    "start_time": "2021-11-08T10:10:08.409Z"
   },
   {
    "duration": 8,
    "start_time": "2021-11-08T10:10:08.468Z"
   },
   {
    "duration": 745,
    "start_time": "2021-11-08T10:10:08.477Z"
   },
   {
    "duration": 5,
    "start_time": "2021-11-08T10:10:09.223Z"
   },
   {
    "duration": 19,
    "start_time": "2021-11-08T10:10:09.229Z"
   },
   {
    "duration": 13,
    "start_time": "2021-11-08T10:10:09.250Z"
   },
   {
    "duration": 22,
    "start_time": "2021-11-08T10:10:09.265Z"
   },
   {
    "duration": 3,
    "start_time": "2021-11-08T10:10:09.288Z"
   },
   {
    "duration": 214,
    "start_time": "2021-11-08T10:10:09.293Z"
   },
   {
    "duration": 22,
    "start_time": "2021-11-08T10:10:09.509Z"
   },
   {
    "duration": 4,
    "start_time": "2021-11-08T10:10:09.533Z"
   },
   {
    "duration": 31,
    "start_time": "2021-11-08T10:10:09.538Z"
   },
   {
    "duration": 5,
    "start_time": "2021-11-08T10:10:09.571Z"
   },
   {
    "duration": 6,
    "start_time": "2021-11-08T10:10:09.578Z"
   },
   {
    "duration": 659,
    "start_time": "2021-11-08T10:10:09.586Z"
   },
   {
    "duration": 31,
    "start_time": "2021-11-08T10:10:10.247Z"
   },
   {
    "duration": 23,
    "start_time": "2021-11-08T10:10:10.280Z"
   },
   {
    "duration": 3,
    "start_time": "2021-11-08T10:10:10.306Z"
   },
   {
    "duration": 1244,
    "start_time": "2021-11-08T10:10:10.310Z"
   },
   {
    "duration": 403,
    "start_time": "2021-11-08T10:10:11.556Z"
   },
   {
    "duration": 380,
    "start_time": "2021-11-08T10:13:26.886Z"
   },
   {
    "duration": 275,
    "start_time": "2021-11-08T10:13:58.290Z"
   },
   {
    "duration": 245,
    "start_time": "2021-11-08T10:14:53.389Z"
   },
   {
    "duration": 28,
    "start_time": "2021-11-08T10:15:36.733Z"
   },
   {
    "duration": 29,
    "start_time": "2021-11-08T10:15:45.840Z"
   },
   {
    "duration": 1878,
    "start_time": "2021-11-08T10:17:38.998Z"
   },
   {
    "duration": 2167,
    "start_time": "2021-11-08T10:18:02.388Z"
   },
   {
    "duration": 2005,
    "start_time": "2021-11-08T10:18:17.538Z"
   },
   {
    "duration": 1660,
    "start_time": "2021-11-08T16:21:51.441Z"
   },
   {
    "duration": 7,
    "start_time": "2021-11-08T16:21:55.845Z"
   },
   {
    "duration": 224,
    "start_time": "2021-11-08T16:21:55.854Z"
   },
   {
    "duration": 12,
    "start_time": "2021-11-08T16:21:56.081Z"
   },
   {
    "duration": 24,
    "start_time": "2021-11-08T16:21:56.095Z"
   },
   {
    "duration": 53,
    "start_time": "2021-11-08T16:21:56.122Z"
   },
   {
    "duration": 6,
    "start_time": "2021-11-08T16:21:56.178Z"
   },
   {
    "duration": 99,
    "start_time": "2021-11-08T16:21:56.187Z"
   },
   {
    "duration": 21,
    "start_time": "2021-11-08T16:21:56.289Z"
   },
   {
    "duration": 110,
    "start_time": "2021-11-08T16:21:56.315Z"
   },
   {
    "duration": 71,
    "start_time": "2021-11-08T16:21:56.430Z"
   },
   {
    "duration": 9,
    "start_time": "2021-11-08T16:21:56.504Z"
   },
   {
    "duration": 1081,
    "start_time": "2021-11-08T16:21:56.515Z"
   },
   {
    "duration": 7,
    "start_time": "2021-11-08T16:21:57.599Z"
   },
   {
    "duration": 22,
    "start_time": "2021-11-08T16:21:57.608Z"
   },
   {
    "duration": 5,
    "start_time": "2021-11-08T16:21:57.633Z"
   },
   {
    "duration": 33,
    "start_time": "2021-11-08T16:21:57.668Z"
   },
   {
    "duration": 4,
    "start_time": "2021-11-08T16:21:57.703Z"
   },
   {
    "duration": 358,
    "start_time": "2021-11-08T16:21:57.709Z"
   },
   {
    "duration": 36,
    "start_time": "2021-11-08T16:21:58.070Z"
   },
   {
    "duration": 6,
    "start_time": "2021-11-08T16:21:58.109Z"
   },
   {
    "duration": 50,
    "start_time": "2021-11-08T16:21:58.117Z"
   },
   {
    "duration": 8,
    "start_time": "2021-11-08T16:21:58.170Z"
   },
   {
    "duration": 5,
    "start_time": "2021-11-08T16:21:58.182Z"
   },
   {
    "duration": 1063,
    "start_time": "2021-11-08T16:21:58.189Z"
   },
   {
    "duration": 40,
    "start_time": "2021-11-08T16:21:59.254Z"
   },
   {
    "duration": 33,
    "start_time": "2021-11-08T16:21:59.297Z"
   },
   {
    "duration": 33,
    "start_time": "2021-11-08T16:21:59.335Z"
   },
   {
    "duration": 2071,
    "start_time": "2021-11-08T16:21:59.370Z"
   },
   {
    "duration": 3254,
    "start_time": "2021-11-08T16:22:01.444Z"
   },
   {
    "duration": 7,
    "start_time": "2021-11-08T16:35:06.172Z"
   },
   {
    "duration": 230995,
    "start_time": "2021-11-08T16:37:27.402Z"
   },
   {
    "duration": 9,
    "start_time": "2021-11-08T16:43:57.671Z"
   },
   {
    "duration": 70,
    "start_time": "2021-11-08T16:44:53.078Z"
   },
   {
    "duration": 6,
    "start_time": "2021-11-08T16:49:01.262Z"
   },
   {
    "duration": 4,
    "start_time": "2021-11-08T16:50:04.444Z"
   },
   {
    "duration": 74,
    "start_time": "2021-11-08T16:50:36.147Z"
   },
   {
    "duration": 4,
    "start_time": "2021-11-08T16:53:23.933Z"
   },
   {
    "duration": 218683,
    "start_time": "2021-11-08T16:53:25.303Z"
   },
   {
    "duration": 4,
    "start_time": "2021-11-08T16:57:41.602Z"
   },
   {
    "duration": 55,
    "start_time": "2021-11-08T16:57:42.409Z"
   },
   {
    "duration": 7,
    "start_time": "2021-11-08T16:58:15.508Z"
   },
   {
    "duration": 5,
    "start_time": "2021-11-08T17:03:30.296Z"
   },
   {
    "duration": 175299,
    "start_time": "2021-11-08T17:03:32.192Z"
   },
   {
    "duration": 4,
    "start_time": "2021-11-08T17:06:33.232Z"
   },
   {
    "duration": 33,
    "start_time": "2021-11-08T17:06:34.325Z"
   },
   {
    "duration": 7,
    "start_time": "2021-11-08T17:06:43.288Z"
   },
   {
    "duration": 4,
    "start_time": "2021-11-08T17:11:25.251Z"
   },
   {
    "duration": 448,
    "start_time": "2021-11-08T17:15:07.560Z"
   },
   {
    "duration": 167,
    "start_time": "2021-11-08T17:15:23.445Z"
   },
   {
    "duration": 284,
    "start_time": "2021-11-08T17:15:33.283Z"
   },
   {
    "duration": 272,
    "start_time": "2021-11-08T17:16:11.510Z"
   },
   {
    "duration": 6,
    "start_time": "2021-11-08T17:16:27.028Z"
   },
   {
    "duration": 6,
    "start_time": "2021-11-08T17:16:51.396Z"
   },
   {
    "duration": 15,
    "start_time": "2021-11-08T17:17:08.106Z"
   },
   {
    "duration": 4,
    "start_time": "2021-11-08T17:17:47.616Z"
   },
   {
    "duration": 103,
    "start_time": "2021-11-08T17:17:56.790Z"
   },
   {
    "duration": 5,
    "start_time": "2021-11-08T17:18:02.779Z"
   },
   {
    "duration": 3,
    "start_time": "2021-11-08T17:18:36.578Z"
   },
   {
    "duration": 5,
    "start_time": "2021-11-08T17:22:34.242Z"
   },
   {
    "duration": 4,
    "start_time": "2021-11-08T17:22:59.720Z"
   },
   {
    "duration": 2,
    "start_time": "2021-11-08T17:23:00.264Z"
   },
   {
    "duration": 3,
    "start_time": "2021-11-08T17:23:00.490Z"
   },
   {
    "duration": 13,
    "start_time": "2021-11-08T17:23:01.120Z"
   },
   {
    "duration": 3,
    "start_time": "2021-11-08T17:28:40.808Z"
   },
   {
    "duration": 5,
    "start_time": "2021-11-08T17:28:47.061Z"
   },
   {
    "duration": 3,
    "start_time": "2021-11-08T17:29:03.027Z"
   },
   {
    "duration": 6,
    "start_time": "2021-11-08T17:29:08.480Z"
   },
   {
    "duration": 3,
    "start_time": "2021-11-08T17:29:55.390Z"
   },
   {
    "duration": 353,
    "start_time": "2021-11-08T17:38:39.963Z"
   },
   {
    "duration": 3,
    "start_time": "2021-11-08T17:38:56.441Z"
   },
   {
    "duration": 291,
    "start_time": "2021-11-08T17:38:58.067Z"
   },
   {
    "duration": 23241,
    "start_time": "2021-11-08T17:41:19.983Z"
   },
   {
    "duration": 18465,
    "start_time": "2021-11-08T17:42:09.941Z"
   },
   {
    "duration": 3,
    "start_time": "2021-11-08T17:42:31.133Z"
   },
   {
    "duration": 23131,
    "start_time": "2021-11-08T17:42:33.694Z"
   },
   {
    "duration": 4,
    "start_time": "2021-11-08T17:43:55.944Z"
   },
   {
    "duration": 22925,
    "start_time": "2021-11-08T17:43:56.552Z"
   },
   {
    "duration": 5,
    "start_time": "2021-11-08T17:44:47.600Z"
   },
   {
    "duration": 4,
    "start_time": "2021-11-08T17:44:49.664Z"
   },
   {
    "duration": 4,
    "start_time": "2021-11-08T17:44:52.002Z"
   },
   {
    "duration": 25120,
    "start_time": "2021-11-08T17:44:53.504Z"
   },
   {
    "duration": 6,
    "start_time": "2021-11-08T17:45:34.533Z"
   },
   {
    "duration": 62,
    "start_time": "2021-11-08T17:45:49.650Z"
   },
   {
    "duration": 8393,
    "start_time": "2021-11-08T17:49:16.872Z"
   },
   {
    "duration": 4,
    "start_time": "2021-11-08T17:49:27.404Z"
   },
   {
    "duration": 25226,
    "start_time": "2021-11-08T17:49:28.966Z"
   },
   {
    "duration": 6,
    "start_time": "2021-11-08T17:59:19.450Z"
   },
   {
    "duration": 4,
    "start_time": "2021-11-08T17:59:47.687Z"
   },
   {
    "duration": 6,
    "start_time": "2021-11-08T18:00:41.463Z"
   },
   {
    "duration": 181,
    "start_time": "2021-11-08T18:00:53.036Z"
   },
   {
    "duration": 290,
    "start_time": "2021-11-08T18:01:19.786Z"
   },
   {
    "duration": 291,
    "start_time": "2021-11-08T18:01:25.529Z"
   },
   {
    "duration": 6,
    "start_time": "2021-11-08T18:01:40.273Z"
   },
   {
    "duration": 7,
    "start_time": "2021-11-08T18:02:53.660Z"
   },
   {
    "duration": 4,
    "start_time": "2021-11-08T18:02:59.607Z"
   },
   {
    "duration": 3,
    "start_time": "2021-11-08T18:03:01.948Z"
   },
   {
    "duration": 202874,
    "start_time": "2021-11-08T18:03:05.220Z"
   },
   {
    "duration": 4919,
    "start_time": "2021-11-08T18:07:09.220Z"
   },
   {
    "duration": 4,
    "start_time": "2021-11-08T18:07:16.846Z"
   },
   {
    "duration": 12591,
    "start_time": "2021-11-08T18:07:18.646Z"
   },
   {
    "duration": 4,
    "start_time": "2021-11-08T18:07:48.085Z"
   },
   {
    "duration": 239183,
    "start_time": "2021-11-08T18:07:50.412Z"
   },
   {
    "duration": 298,
    "start_time": "2021-11-08T18:13:20.341Z"
   },
   {
    "duration": 7,
    "start_time": "2021-11-08T18:13:35.745Z"
   },
   {
    "duration": 4,
    "start_time": "2021-11-08T18:13:41.541Z"
   },
   {
    "duration": 6,
    "start_time": "2021-11-08T18:13:43.880Z"
   },
   {
    "duration": 5,
    "start_time": "2021-11-08T18:14:00.597Z"
   },
   {
    "duration": 6,
    "start_time": "2021-11-08T18:14:02.843Z"
   },
   {
    "duration": 98103,
    "start_time": "2021-11-08T18:15:04.384Z"
   },
   {
    "duration": 4,
    "start_time": "2021-11-08T18:18:05.704Z"
   },
   {
    "duration": 3056637,
    "start_time": "2021-11-08T18:18:07.530Z"
   },
   {
    "duration": 8,
    "start_time": "2021-11-08T19:38:06.440Z"
   },
   {
    "duration": 4,
    "start_time": "2021-11-08T19:38:31.132Z"
   },
   {
    "duration": 4,
    "start_time": "2021-11-08T19:39:55.865Z"
   },
   {
    "duration": 7,
    "start_time": "2021-11-08T19:39:57.323Z"
   },
   {
    "duration": 5,
    "start_time": "2021-11-08T19:40:16.919Z"
   },
   {
    "duration": 6,
    "start_time": "2021-11-08T19:40:19.885Z"
   },
   {
    "duration": 4,
    "start_time": "2021-11-08T19:40:28.784Z"
   },
   {
    "duration": 8381,
    "start_time": "2021-11-08T19:40:30.441Z"
   },
   {
    "duration": 5,
    "start_time": "2021-11-08T19:41:10.491Z"
   },
   {
    "duration": 3,
    "start_time": "2021-11-08T19:41:14.621Z"
   },
   {
    "duration": 40076,
    "start_time": "2021-11-08T19:41:18.585Z"
   },
   {
    "duration": 3,
    "start_time": "2021-11-08T19:43:29.962Z"
   },
   {
    "duration": 4,
    "start_time": "2021-11-08T19:43:36.064Z"
   },
   {
    "duration": 40576,
    "start_time": "2021-11-08T19:43:40.158Z"
   },
   {
    "duration": 3,
    "start_time": "2021-11-08T19:44:53.279Z"
   },
   {
    "duration": 40996,
    "start_time": "2021-11-08T19:44:55.733Z"
   },
   {
    "duration": 4,
    "start_time": "2021-11-08T19:45:49.420Z"
   },
   {
    "duration": 369,
    "start_time": "2021-11-08T19:45:51.057Z"
   },
   {
    "duration": 48030,
    "start_time": "2021-11-08T19:46:20.850Z"
   },
   {
    "duration": 4,
    "start_time": "2021-11-08T19:47:27.015Z"
   },
   {
    "duration": 6,
    "start_time": "2021-11-08T19:47:29.264Z"
   },
   {
    "duration": 3,
    "start_time": "2021-11-08T19:47:35.478Z"
   },
   {
    "duration": 277,
    "start_time": "2021-11-08T19:47:37.183Z"
   },
   {
    "duration": 436,
    "start_time": "2021-11-08T19:47:57.820Z"
   },
   {
    "duration": 4,
    "start_time": "2021-11-08T19:48:05.090Z"
   },
   {
    "duration": 6,
    "start_time": "2021-11-08T19:48:06.513Z"
   },
   {
    "duration": 4,
    "start_time": "2021-11-08T19:48:08.980Z"
   },
   {
    "duration": 17077,
    "start_time": "2021-11-08T19:48:10.402Z"
   },
   {
    "duration": 4,
    "start_time": "2021-11-08T19:49:07.264Z"
   },
   {
    "duration": 6,
    "start_time": "2021-11-08T19:49:08.545Z"
   },
   {
    "duration": 305,
    "start_time": "2021-11-08T19:49:23.004Z"
   },
   {
    "duration": 14714,
    "start_time": "2021-11-08T19:50:03.219Z"
   },
   {
    "duration": 4,
    "start_time": "2021-11-08T19:50:22.511Z"
   },
   {
    "duration": 5,
    "start_time": "2021-11-08T19:50:27.429Z"
   },
   {
    "duration": 66,
    "start_time": "2021-11-08T19:50:31.857Z"
   },
   {
    "duration": 5,
    "start_time": "2021-11-08T19:50:53.618Z"
   },
   {
    "duration": 4,
    "start_time": "2021-11-08T19:51:06.375Z"
   },
   {
    "duration": 4,
    "start_time": "2021-11-08T19:51:08.303Z"
   },
   {
    "duration": 6703,
    "start_time": "2021-11-08T19:51:16.829Z"
   },
   {
    "duration": 3046,
    "start_time": "2021-11-08T19:51:29.601Z"
   },
   {
    "duration": 4,
    "start_time": "2021-11-08T19:51:34.852Z"
   },
   {
    "duration": 89484,
    "start_time": "2021-11-08T19:51:36.182Z"
   },
   {
    "duration": 3,
    "start_time": "2021-11-08T19:53:20.374Z"
   },
   {
    "duration": 147983,
    "start_time": "2021-11-08T19:53:22.970Z"
   },
   {
    "duration": 4,
    "start_time": "2021-11-08T19:56:00.254Z"
   },
   {
    "duration": 2054306,
    "start_time": "2021-11-08T19:56:02.202Z"
   },
   {
    "duration": 3,
    "start_time": "2021-11-08T20:30:16.511Z"
   },
   {
    "duration": 7,
    "start_time": "2021-11-08T20:30:16.517Z"
   },
   {
    "duration": 6,
    "start_time": "2021-11-08T20:43:51.637Z"
   },
   {
    "duration": 60660,
    "start_time": "2021-11-08T20:44:08.648Z"
   },
   {
    "duration": 6,
    "start_time": "2021-11-08T20:46:07.884Z"
   },
   {
    "duration": 41,
    "start_time": "2021-11-08T20:46:07.892Z"
   },
   {
    "duration": 11,
    "start_time": "2021-11-08T20:46:07.936Z"
   },
   {
    "duration": 22,
    "start_time": "2021-11-08T20:46:07.951Z"
   },
   {
    "duration": 21,
    "start_time": "2021-11-08T20:46:07.975Z"
   },
   {
    "duration": 6,
    "start_time": "2021-11-08T20:46:07.998Z"
   },
   {
    "duration": 98,
    "start_time": "2021-11-08T20:46:08.006Z"
   },
   {
    "duration": 18,
    "start_time": "2021-11-08T20:46:08.106Z"
   },
   {
    "duration": 85,
    "start_time": "2021-11-08T20:46:08.126Z"
   },
   {
    "duration": 72,
    "start_time": "2021-11-08T20:46:08.213Z"
   },
   {
    "duration": 9,
    "start_time": "2021-11-08T20:46:08.289Z"
   },
   {
    "duration": 1083,
    "start_time": "2021-11-08T20:46:08.302Z"
   },
   {
    "duration": 7,
    "start_time": "2021-11-08T20:46:09.387Z"
   },
   {
    "duration": 31,
    "start_time": "2021-11-08T20:46:09.396Z"
   },
   {
    "duration": 5,
    "start_time": "2021-11-08T20:46:09.430Z"
   },
   {
    "duration": 50,
    "start_time": "2021-11-08T20:46:09.437Z"
   },
   {
    "duration": 4,
    "start_time": "2021-11-08T20:46:09.490Z"
   },
   {
    "duration": 325,
    "start_time": "2021-11-08T20:46:09.496Z"
   },
   {
    "duration": 47,
    "start_time": "2021-11-08T20:46:09.824Z"
   },
   {
    "duration": 6,
    "start_time": "2021-11-08T20:46:09.873Z"
   },
   {
    "duration": 28,
    "start_time": "2021-11-08T20:46:09.881Z"
   },
   {
    "duration": 8,
    "start_time": "2021-11-08T20:46:09.912Z"
   },
   {
    "duration": 16,
    "start_time": "2021-11-08T20:46:09.922Z"
   },
   {
    "duration": 1039,
    "start_time": "2021-11-08T20:46:09.941Z"
   },
   {
    "duration": 33,
    "start_time": "2021-11-08T20:46:10.983Z"
   },
   {
    "duration": 60,
    "start_time": "2021-11-08T20:46:11.021Z"
   },
   {
    "duration": 4,
    "start_time": "2021-11-08T20:46:11.084Z"
   },
   {
    "duration": 2033,
    "start_time": "2021-11-08T20:46:11.090Z"
   },
   {
    "duration": 3167,
    "start_time": "2021-11-08T20:46:13.130Z"
   },
   {
    "duration": 4,
    "start_time": "2021-11-08T20:46:16.300Z"
   },
   {
    "duration": 7,
    "start_time": "2021-11-08T20:46:16.306Z"
   },
   {
    "duration": 6,
    "start_time": "2021-11-08T20:46:16.316Z"
   },
   {
    "duration": 8,
    "start_time": "2021-11-08T20:46:16.325Z"
   },
   {
    "duration": 110848,
    "start_time": "2021-11-08T20:46:16.336Z"
   },
   {
    "duration": 751,
    "start_time": "2021-11-08T20:48:06.436Z"
   },
   {
    "duration": 747,
    "start_time": "2021-11-08T20:48:06.441Z"
   },
   {
    "duration": 3,
    "start_time": "2021-11-08T20:49:12.126Z"
   },
   {
    "duration": 5,
    "start_time": "2021-11-08T21:03:41.781Z"
   },
   {
    "duration": 92,
    "start_time": "2021-11-08T21:04:45.948Z"
   },
   {
    "duration": 292,
    "start_time": "2021-11-08T21:04:48.742Z"
   },
   {
    "duration": 5,
    "start_time": "2021-11-08T21:05:02.984Z"
   },
   {
    "duration": 5,
    "start_time": "2021-11-08T21:08:15.474Z"
   },
   {
    "duration": 90,
    "start_time": "2021-11-08T21:10:37.276Z"
   },
   {
    "duration": 6,
    "start_time": "2021-11-08T21:10:42.017Z"
   },
   {
    "duration": 306,
    "start_time": "2021-11-08T21:10:53.683Z"
   },
   {
    "duration": 9,
    "start_time": "2021-11-08T21:10:59.697Z"
   },
   {
    "duration": 6,
    "start_time": "2021-11-08T21:11:17.655Z"
   },
   {
    "duration": 7,
    "start_time": "2021-11-08T21:13:51.385Z"
   },
   {
    "duration": 540,
    "start_time": "2021-11-08T21:14:13.440Z"
   },
   {
    "duration": 9,
    "start_time": "2021-11-08T21:14:45.908Z"
   },
   {
    "duration": 8220,
    "start_time": "2021-11-08T21:14:48.489Z"
   },
   {
    "duration": 8,
    "start_time": "2021-11-08T21:15:14.114Z"
   },
   {
    "duration": 5,
    "start_time": "2021-11-08T21:15:16.812Z"
   },
   {
    "duration": 7,
    "start_time": "2021-11-08T21:16:51.525Z"
   },
   {
    "duration": 6,
    "start_time": "2021-11-08T21:16:54.224Z"
   },
   {
    "duration": 8,
    "start_time": "2021-11-08T21:17:24.708Z"
   },
   {
    "duration": 8,
    "start_time": "2021-11-08T21:17:27.864Z"
   },
   {
    "duration": 4,
    "start_time": "2021-11-08T21:17:37.752Z"
   },
   {
    "duration": 8,
    "start_time": "2021-11-08T21:17:44.375Z"
   },
   {
    "duration": 100095,
    "start_time": "2021-11-08T21:17:46.158Z"
   },
   {
    "duration": 5,
    "start_time": "2021-11-08T21:20:25.921Z"
   },
   {
    "duration": 6,
    "start_time": "2021-11-08T21:20:27.767Z"
   },
   {
    "duration": 4,
    "start_time": "2021-11-08T21:20:28.801Z"
   },
   {
    "duration": 3,
    "start_time": "2021-11-08T21:20:29.253Z"
   },
   {
    "duration": 4,
    "start_time": "2021-11-08T21:20:29.709Z"
   },
   {
    "duration": 8,
    "start_time": "2021-11-08T21:20:30.577Z"
   },
   {
    "duration": 79727,
    "start_time": "2021-11-08T21:20:31.415Z"
   },
   {
    "duration": 12,
    "start_time": "2021-11-08T21:22:28.612Z"
   },
   {
    "duration": 3,
    "start_time": "2021-11-08T21:22:31.384Z"
   },
   {
    "duration": 7,
    "start_time": "2021-11-08T21:22:56.406Z"
   },
   {
    "duration": 5,
    "start_time": "2021-11-08T21:22:57.522Z"
   },
   {
    "duration": 5,
    "start_time": "2021-11-08T21:23:04.782Z"
   },
   {
    "duration": 4,
    "start_time": "2021-11-08T21:23:08.256Z"
   },
   {
    "duration": 8,
    "start_time": "2021-11-08T21:23:09.432Z"
   },
   {
    "duration": 46629,
    "start_time": "2021-11-08T21:23:12.715Z"
   },
   {
    "duration": 7,
    "start_time": "2021-11-08T21:24:25.588Z"
   },
   {
    "duration": 12,
    "start_time": "2021-11-08T21:24:33.438Z"
   },
   {
    "duration": 6,
    "start_time": "2021-11-08T21:24:33.884Z"
   },
   {
    "duration": 3,
    "start_time": "2021-11-08T21:24:34.486Z"
   },
   {
    "duration": 3,
    "start_time": "2021-11-08T21:24:35.003Z"
   },
   {
    "duration": 3,
    "start_time": "2021-11-08T21:24:36.080Z"
   },
   {
    "duration": 7,
    "start_time": "2021-11-08T21:24:36.619Z"
   },
   {
    "duration": 74886,
    "start_time": "2021-11-08T21:24:37.236Z"
   },
   {
    "duration": 7,
    "start_time": "2021-11-08T21:27:07.594Z"
   },
   {
    "duration": 5,
    "start_time": "2021-11-08T21:27:15.125Z"
   },
   {
    "duration": 3,
    "start_time": "2021-11-08T21:27:15.504Z"
   },
   {
    "duration": 4,
    "start_time": "2021-11-08T21:27:15.771Z"
   },
   {
    "duration": 3,
    "start_time": "2021-11-08T21:27:16.095Z"
   },
   {
    "duration": 7,
    "start_time": "2021-11-08T21:27:16.705Z"
   },
   {
    "duration": 816,
    "start_time": "2021-11-08T21:28:51.283Z"
   },
   {
    "duration": 802,
    "start_time": "2021-11-08T21:28:51.299Z"
   },
   {
    "duration": 800,
    "start_time": "2021-11-08T21:28:51.302Z"
   },
   {
    "duration": 798,
    "start_time": "2021-11-08T21:28:51.305Z"
   },
   {
    "duration": 795,
    "start_time": "2021-11-08T21:28:51.310Z"
   },
   {
    "duration": 793,
    "start_time": "2021-11-08T21:28:51.313Z"
   },
   {
    "duration": 4,
    "start_time": "2021-11-08T21:28:55.073Z"
   },
   {
    "duration": 3,
    "start_time": "2021-11-08T21:28:55.269Z"
   },
   {
    "duration": 4,
    "start_time": "2021-11-08T21:28:55.479Z"
   },
   {
    "duration": 5,
    "start_time": "2021-11-08T21:28:55.846Z"
   },
   {
    "duration": 6,
    "start_time": "2021-11-08T21:28:56.227Z"
   },
   {
    "duration": 25,
    "start_time": "2021-11-08T21:28:59.003Z"
   },
   {
    "duration": 6,
    "start_time": "2021-11-08T21:30:59.885Z"
   },
   {
    "duration": 4,
    "start_time": "2021-11-08T21:31:03.118Z"
   },
   {
    "duration": 3,
    "start_time": "2021-11-08T21:31:03.516Z"
   },
   {
    "duration": 3,
    "start_time": "2021-11-08T21:31:03.750Z"
   },
   {
    "duration": 4,
    "start_time": "2021-11-08T21:31:03.967Z"
   },
   {
    "duration": 7,
    "start_time": "2021-11-08T21:31:04.304Z"
   },
   {
    "duration": 34,
    "start_time": "2021-11-08T21:31:05.025Z"
   },
   {
    "duration": 4,
    "start_time": "2021-11-08T21:31:21.236Z"
   },
   {
    "duration": 4,
    "start_time": "2021-11-08T21:31:21.779Z"
   },
   {
    "duration": 4,
    "start_time": "2021-11-08T21:31:22.069Z"
   },
   {
    "duration": 5,
    "start_time": "2021-11-08T21:31:22.598Z"
   },
   {
    "duration": 10,
    "start_time": "2021-11-08T21:31:23.290Z"
   },
   {
    "duration": 32,
    "start_time": "2021-11-08T21:31:25.036Z"
   },
   {
    "duration": 4,
    "start_time": "2021-11-08T21:32:04.373Z"
   },
   {
    "duration": 3,
    "start_time": "2021-11-08T21:32:04.891Z"
   },
   {
    "duration": 4,
    "start_time": "2021-11-08T21:32:05.147Z"
   },
   {
    "duration": 4,
    "start_time": "2021-11-08T21:32:05.372Z"
   },
   {
    "duration": 7,
    "start_time": "2021-11-08T21:32:05.680Z"
   },
   {
    "duration": 28,
    "start_time": "2021-11-08T21:32:06.618Z"
   },
   {
    "duration": 4,
    "start_time": "2021-11-08T21:32:39.997Z"
   },
   {
    "duration": 3,
    "start_time": "2021-11-08T21:32:40.178Z"
   },
   {
    "duration": 3,
    "start_time": "2021-11-08T21:32:40.356Z"
   },
   {
    "duration": 3,
    "start_time": "2021-11-08T21:32:40.545Z"
   },
   {
    "duration": 6,
    "start_time": "2021-11-08T21:32:40.733Z"
   },
   {
    "duration": 575,
    "start_time": "2021-11-08T21:32:41.605Z"
   },
   {
    "duration": 6,
    "start_time": "2021-11-08T21:32:50.316Z"
   },
   {
    "duration": 91490,
    "start_time": "2021-11-08T21:32:50.549Z"
   },
   {
    "duration": 7,
    "start_time": "2021-11-08T21:35:55.995Z"
   },
   {
    "duration": 4,
    "start_time": "2021-11-08T21:35:58.699Z"
   },
   {
    "duration": 4,
    "start_time": "2021-11-08T21:35:59.029Z"
   },
   {
    "duration": 4,
    "start_time": "2021-11-08T21:35:59.234Z"
   },
   {
    "duration": 4,
    "start_time": "2021-11-08T21:35:59.446Z"
   },
   {
    "duration": 7,
    "start_time": "2021-11-08T21:35:59.787Z"
   },
   {
    "duration": 81618,
    "start_time": "2021-11-08T21:36:00.780Z"
   },
   {
    "duration": 6,
    "start_time": "2021-11-08T21:37:22.401Z"
   },
   {
    "duration": 4,
    "start_time": "2021-11-08T21:37:23.821Z"
   },
   {
    "duration": 3,
    "start_time": "2021-11-08T21:37:24.031Z"
   },
   {
    "duration": 3,
    "start_time": "2021-11-08T21:37:24.233Z"
   },
   {
    "duration": 4,
    "start_time": "2021-11-08T21:37:24.437Z"
   },
   {
    "duration": 6,
    "start_time": "2021-11-08T21:37:24.729Z"
   },
   {
    "duration": 1582,
    "start_time": "2021-11-08T21:37:25.609Z"
   },
   {
    "duration": 4,
    "start_time": "2021-11-08T21:37:47.106Z"
   },
   {
    "duration": 3,
    "start_time": "2021-11-08T21:37:47.332Z"
   },
   {
    "duration": 3,
    "start_time": "2021-11-08T21:37:47.551Z"
   },
   {
    "duration": 5,
    "start_time": "2021-11-08T21:37:47.778Z"
   },
   {
    "duration": 7,
    "start_time": "2021-11-08T21:37:48.492Z"
   },
   {
    "duration": 4,
    "start_time": "2021-11-08T21:38:12.284Z"
   },
   {
    "duration": 6,
    "start_time": "2021-11-08T21:38:12.290Z"
   },
   {
    "duration": 4,
    "start_time": "2021-11-08T21:38:12.300Z"
   },
   {
    "duration": 7,
    "start_time": "2021-11-08T21:38:12.307Z"
   },
   {
    "duration": 9,
    "start_time": "2021-11-08T21:38:12.316Z"
   },
   {
    "duration": 1089,
    "start_time": "2021-11-08T21:38:12.327Z"
   },
   {
    "duration": 4,
    "start_time": "2021-11-08T21:38:52.990Z"
   },
   {
    "duration": 3,
    "start_time": "2021-11-08T21:38:53.228Z"
   },
   {
    "duration": 3,
    "start_time": "2021-11-08T21:38:53.435Z"
   },
   {
    "duration": 4,
    "start_time": "2021-11-08T21:38:53.651Z"
   },
   {
    "duration": 6,
    "start_time": "2021-11-08T21:38:54.313Z"
   },
   {
    "duration": 913,
    "start_time": "2021-11-08T21:38:55.320Z"
   },
   {
    "duration": 4,
    "start_time": "2021-11-08T21:39:16.131Z"
   },
   {
    "duration": 4,
    "start_time": "2021-11-08T21:39:16.302Z"
   },
   {
    "duration": 3,
    "start_time": "2021-11-08T21:39:16.491Z"
   },
   {
    "duration": 4,
    "start_time": "2021-11-08T21:39:16.679Z"
   },
   {
    "duration": 7,
    "start_time": "2021-11-08T21:39:17.055Z"
   },
   {
    "duration": 10,
    "start_time": "2021-11-08T21:40:40.078Z"
   },
   {
    "duration": 8,
    "start_time": "2021-11-08T21:40:40.091Z"
   },
   {
    "duration": 7,
    "start_time": "2021-11-08T21:40:40.101Z"
   },
   {
    "duration": 6,
    "start_time": "2021-11-08T21:40:40.110Z"
   },
   {
    "duration": 9,
    "start_time": "2021-11-08T21:40:40.118Z"
   },
   {
    "duration": 9174,
    "start_time": "2021-11-08T21:40:40.129Z"
   },
   {
    "duration": 4,
    "start_time": "2021-11-08T21:42:22.663Z"
   },
   {
    "duration": 3,
    "start_time": "2021-11-08T21:42:23.244Z"
   },
   {
    "duration": 3,
    "start_time": "2021-11-08T21:42:23.716Z"
   },
   {
    "duration": 4,
    "start_time": "2021-11-08T21:42:24.059Z"
   },
   {
    "duration": 6,
    "start_time": "2021-11-08T21:42:27.831Z"
   },
   {
    "duration": 10475,
    "start_time": "2021-11-08T21:42:27.839Z"
   },
   {
    "duration": 5,
    "start_time": "2021-11-08T21:43:24.143Z"
   },
   {
    "duration": 3,
    "start_time": "2021-11-08T21:43:24.467Z"
   },
   {
    "duration": 3,
    "start_time": "2021-11-08T21:43:24.675Z"
   },
   {
    "duration": 4,
    "start_time": "2021-11-08T21:43:24.887Z"
   },
   {
    "duration": 6,
    "start_time": "2021-11-08T21:43:25.205Z"
   },
   {
    "duration": 943,
    "start_time": "2021-11-08T21:43:26.549Z"
   },
   {
    "duration": 4,
    "start_time": "2021-11-08T21:44:23.248Z"
   },
   {
    "duration": 3,
    "start_time": "2021-11-08T21:44:23.437Z"
   },
   {
    "duration": 3,
    "start_time": "2021-11-08T21:44:23.646Z"
   },
   {
    "duration": 3,
    "start_time": "2021-11-08T21:44:24.082Z"
   },
   {
    "duration": 6,
    "start_time": "2021-11-08T21:44:24.488Z"
   },
   {
    "duration": 996,
    "start_time": "2021-11-08T21:44:25.971Z"
   },
   {
    "duration": 6,
    "start_time": "2021-11-08T21:45:10.472Z"
   },
   {
    "duration": 562,
    "start_time": "2021-11-08T21:45:10.985Z"
   },
   {
    "duration": 7,
    "start_time": "2021-11-08T21:45:25.256Z"
   },
   {
    "duration": 741,
    "start_time": "2021-11-08T21:45:29.243Z"
   },
   {
    "duration": 4,
    "start_time": "2021-11-08T21:45:39.478Z"
   },
   {
    "duration": 3,
    "start_time": "2021-11-08T21:45:39.823Z"
   },
   {
    "duration": 3,
    "start_time": "2021-11-08T21:45:40.014Z"
   },
   {
    "duration": 3,
    "start_time": "2021-11-08T21:45:40.215Z"
   },
   {
    "duration": 7,
    "start_time": "2021-11-08T21:45:41.219Z"
   },
   {
    "duration": 753,
    "start_time": "2021-11-08T21:45:41.992Z"
   },
   {
    "duration": 6,
    "start_time": "2021-11-08T21:46:10.009Z"
   },
   {
    "duration": 4,
    "start_time": "2021-11-08T21:46:37.330Z"
   },
   {
    "duration": 3,
    "start_time": "2021-11-08T21:46:37.506Z"
   },
   {
    "duration": 3,
    "start_time": "2021-11-08T21:46:37.692Z"
   },
   {
    "duration": 4,
    "start_time": "2021-11-08T21:46:37.896Z"
   },
   {
    "duration": 6,
    "start_time": "2021-11-08T21:46:38.558Z"
   },
   {
    "duration": 5,
    "start_time": "2021-11-08T21:46:39.305Z"
   },
   {
    "duration": 56003,
    "start_time": "2021-11-08T21:46:41.408Z"
   },
   {
    "duration": 800,
    "start_time": "2021-11-08T21:47:36.614Z"
   },
   {
    "duration": 795,
    "start_time": "2021-11-08T21:47:36.620Z"
   },
   {
    "duration": 6,
    "start_time": "2021-11-08T21:47:40.234Z"
   },
   {
    "duration": 5,
    "start_time": "2021-11-08T21:47:41.064Z"
   },
   {
    "duration": 82787,
    "start_time": "2021-11-08T21:47:42.890Z"
   },
   {
    "duration": 3,
    "start_time": "2021-11-08T21:52:26.175Z"
   },
   {
    "duration": 6,
    "start_time": "2021-11-08T21:55:32.257Z"
   },
   {
    "duration": 8022,
    "start_time": "2021-11-08T21:55:32.897Z"
   },
   {
    "duration": 6,
    "start_time": "2021-11-08T21:56:04.671Z"
   },
   {
    "duration": 7,
    "start_time": "2021-11-08T21:57:27.388Z"
   },
   {
    "duration": 6,
    "start_time": "2021-11-08T21:58:46.774Z"
   },
   {
    "duration": 70635,
    "start_time": "2021-11-08T21:58:46.783Z"
   },
   {
    "duration": 3,
    "start_time": "2021-11-08T22:02:59.696Z"
   },
   {
    "duration": 8,
    "start_time": "2021-11-08T22:03:03.154Z"
   },
   {
    "duration": 52343,
    "start_time": "2021-11-08T22:03:06.759Z"
   },
   {
    "duration": 22029910,
    "start_time": "2021-11-08T22:04:07.123Z"
   },
   {
    "duration": 9,
    "start_time": "2021-11-09T04:11:17.040Z"
   },
   {
    "duration": 49055089,
    "start_time": "2021-11-09T04:11:24.580Z"
   },
   {
    "duration": 10,
    "start_time": "2021-11-09T17:50:01.389Z"
   },
   {
    "duration": 7622,
    "start_time": "2021-11-09T17:50:04.299Z"
   },
   {
    "duration": 32500,
    "start_time": "2021-11-09T17:50:41.704Z"
   },
   {
    "duration": 7,
    "start_time": "2021-11-09T17:51:58.826Z"
   },
   {
    "duration": 5,
    "start_time": "2021-11-09T17:52:02.931Z"
   },
   {
    "duration": 4,
    "start_time": "2021-11-09T17:53:02.484Z"
   },
   {
    "duration": 12,
    "start_time": "2021-11-09T17:53:14.285Z"
   },
   {
    "duration": 120477,
    "start_time": "2021-11-09T17:53:21.693Z"
   },
   {
    "duration": 3,
    "start_time": "2021-11-09T17:55:22.173Z"
   },
   {
    "duration": 15,
    "start_time": "2021-11-09T17:55:22.179Z"
   },
   {
    "duration": 12,
    "start_time": "2021-11-09T17:55:22.197Z"
   },
   {
    "duration": 11,
    "start_time": "2021-11-09T17:55:22.212Z"
   },
   {
    "duration": 8,
    "start_time": "2021-11-09T17:55:22.225Z"
   },
   {
    "duration": 88984,
    "start_time": "2021-11-09T17:55:28.648Z"
   },
   {
    "duration": 4,
    "start_time": "2021-11-09T17:57:23.465Z"
   },
   {
    "duration": 4,
    "start_time": "2021-11-09T17:57:25.492Z"
   },
   {
    "duration": 11,
    "start_time": "2021-11-09T17:57:27.010Z"
   },
   {
    "duration": 5,
    "start_time": "2021-11-09T17:57:33.823Z"
   },
   {
    "duration": 8,
    "start_time": "2021-11-09T17:57:57.705Z"
   },
   {
    "duration": 454,
    "start_time": "2021-11-09T17:58:03.327Z"
   },
   {
    "duration": 8,
    "start_time": "2021-11-09T17:58:27.722Z"
   },
   {
    "duration": 8,
    "start_time": "2021-11-09T17:58:51.720Z"
   },
   {
    "duration": 97854,
    "start_time": "2021-11-09T17:58:55.114Z"
   },
   {
    "duration": 8,
    "start_time": "2021-11-09T18:01:33.156Z"
   },
   {
    "duration": 1208,
    "start_time": "2021-11-09T18:01:36.305Z"
   },
   {
    "duration": 265,
    "start_time": "2021-11-09T18:02:09.522Z"
   },
   {
    "duration": 8,
    "start_time": "2021-11-09T18:02:12.353Z"
   },
   {
    "duration": 277,
    "start_time": "2021-11-09T18:02:14.046Z"
   },
   {
    "duration": 3,
    "start_time": "2021-11-09T18:02:18.096Z"
   },
   {
    "duration": 8,
    "start_time": "2021-11-09T18:02:20.200Z"
   },
   {
    "duration": 541,
    "start_time": "2021-11-09T18:02:22.700Z"
   },
   {
    "duration": 1638,
    "start_time": "2021-11-09T18:02:37.476Z"
   },
   {
    "duration": 288,
    "start_time": "2021-11-09T18:03:01.626Z"
   },
   {
    "duration": 6,
    "start_time": "2021-11-09T18:03:11.009Z"
   },
   {
    "duration": 40,
    "start_time": "2021-11-09T18:03:11.018Z"
   },
   {
    "duration": 12,
    "start_time": "2021-11-09T18:03:11.061Z"
   },
   {
    "duration": 18,
    "start_time": "2021-11-09T18:03:11.076Z"
   },
   {
    "duration": 22,
    "start_time": "2021-11-09T18:03:11.096Z"
   },
   {
    "duration": 6,
    "start_time": "2021-11-09T18:03:11.120Z"
   },
   {
    "duration": 53,
    "start_time": "2021-11-09T18:03:11.168Z"
   },
   {
    "duration": 44,
    "start_time": "2021-11-09T18:03:11.223Z"
   },
   {
    "duration": 54,
    "start_time": "2021-11-09T18:03:11.271Z"
   },
   {
    "duration": 81,
    "start_time": "2021-11-09T18:03:11.328Z"
   },
   {
    "duration": 11,
    "start_time": "2021-11-09T18:03:11.412Z"
   },
   {
    "duration": 1089,
    "start_time": "2021-11-09T18:03:11.425Z"
   },
   {
    "duration": 8,
    "start_time": "2021-11-09T18:03:12.518Z"
   },
   {
    "duration": 39,
    "start_time": "2021-11-09T18:03:12.528Z"
   },
   {
    "duration": 6,
    "start_time": "2021-11-09T18:03:12.569Z"
   },
   {
    "duration": 39,
    "start_time": "2021-11-09T18:03:12.577Z"
   },
   {
    "duration": 4,
    "start_time": "2021-11-09T18:03:12.618Z"
   },
   {
    "duration": 482,
    "start_time": "2021-11-09T18:03:12.624Z"
   },
   {
    "duration": 33,
    "start_time": "2021-11-09T18:03:13.108Z"
   },
   {
    "duration": 23,
    "start_time": "2021-11-09T18:03:13.144Z"
   },
   {
    "duration": 23,
    "start_time": "2021-11-09T18:03:13.169Z"
   },
   {
    "duration": 7,
    "start_time": "2021-11-09T18:03:13.195Z"
   },
   {
    "duration": 7,
    "start_time": "2021-11-09T18:03:13.204Z"
   },
   {
    "duration": 1038,
    "start_time": "2021-11-09T18:03:13.213Z"
   },
   {
    "duration": 41,
    "start_time": "2021-11-09T18:03:14.254Z"
   },
   {
    "duration": 33,
    "start_time": "2021-11-09T18:03:14.297Z"
   },
   {
    "duration": 3,
    "start_time": "2021-11-09T18:03:14.335Z"
   },
   {
    "duration": 2064,
    "start_time": "2021-11-09T18:03:14.341Z"
   },
   {
    "duration": 3448,
    "start_time": "2021-11-09T18:03:16.407Z"
   },
   {
    "duration": 10,
    "start_time": "2021-11-09T18:03:19.858Z"
   },
   {
    "duration": 14,
    "start_time": "2021-11-09T18:03:19.870Z"
   },
   {
    "duration": 13,
    "start_time": "2021-11-09T18:03:19.887Z"
   },
   {
    "duration": 9,
    "start_time": "2021-11-09T18:03:19.903Z"
   },
   {
    "duration": 9,
    "start_time": "2021-11-09T18:03:19.914Z"
   },
   {
    "duration": 538,
    "start_time": "2021-11-09T18:03:26.181Z"
   },
   {
    "duration": 8,
    "start_time": "2021-11-09T18:04:00.462Z"
   },
   {
    "duration": 31665,
    "start_time": "2021-11-09T18:04:03.210Z"
   },
   {
    "duration": 11,
    "start_time": "2021-11-09T18:04:55.191Z"
   },
   {
    "duration": 4,
    "start_time": "2021-11-09T18:05:01.119Z"
   },
   {
    "duration": 9,
    "start_time": "2021-11-09T18:05:01.647Z"
   },
   {
    "duration": 4460,
    "start_time": "2021-11-09T18:05:02.337Z"
   },
   {
    "duration": 9,
    "start_time": "2021-11-09T18:06:09.636Z"
   },
   {
    "duration": 4,
    "start_time": "2021-11-09T18:06:17.152Z"
   },
   {
    "duration": 155137,
    "start_time": "2021-11-09T18:06:22.686Z"
   },
   {
    "duration": 8,
    "start_time": "2021-11-09T18:10:17.713Z"
   },
   {
    "duration": 4,
    "start_time": "2021-11-09T18:10:20.691Z"
   },
   {
    "duration": 1140,
    "start_time": "2021-11-09T18:10:24.585Z"
   },
   {
    "duration": 3,
    "start_time": "2021-11-09T18:12:07.214Z"
   },
   {
    "duration": 8,
    "start_time": "2021-11-09T18:12:07.525Z"
   },
   {
    "duration": 35455,
    "start_time": "2021-11-09T18:12:07.955Z"
   },
   {
    "duration": 8,
    "start_time": "2021-11-09T18:13:09.243Z"
   },
   {
    "duration": 92591,
    "start_time": "2021-11-09T18:13:10.669Z"
   },
   {
    "duration": 4,
    "start_time": "2021-11-09T18:16:10.593Z"
   },
   {
    "duration": 3,
    "start_time": "2021-11-09T18:16:10.875Z"
   },
   {
    "duration": 3,
    "start_time": "2021-11-09T18:16:11.060Z"
   },
   {
    "duration": 3,
    "start_time": "2021-11-09T18:16:11.262Z"
   },
   {
    "duration": 9,
    "start_time": "2021-11-09T18:16:11.975Z"
   },
   {
    "duration": 5,
    "start_time": "2021-11-09T18:16:12.867Z"
   },
   {
    "duration": 56932,
    "start_time": "2021-11-09T18:17:20.283Z"
   },
   {
    "duration": 7,
    "start_time": "2021-11-09T18:19:30.962Z"
   },
   {
    "duration": 4,
    "start_time": "2021-11-09T18:20:01.647Z"
   },
   {
    "duration": 2,
    "start_time": "2021-11-09T18:20:01.932Z"
   },
   {
    "duration": 3,
    "start_time": "2021-11-09T18:20:02.120Z"
   },
   {
    "duration": 5,
    "start_time": "2021-11-09T18:20:02.307Z"
   },
   {
    "duration": 8,
    "start_time": "2021-11-09T18:20:02.992Z"
   },
   {
    "duration": 1126,
    "start_time": "2021-11-09T18:20:03.867Z"
   },
   {
    "duration": 7,
    "start_time": "2021-11-09T18:20:49.845Z"
   },
   {
    "duration": 55661,
    "start_time": "2021-11-09T18:20:51.847Z"
   },
   {
    "duration": 4,
    "start_time": "2021-11-09T18:22:04.314Z"
   },
   {
    "duration": 4,
    "start_time": "2021-11-09T18:22:06.190Z"
   },
   {
    "duration": 3,
    "start_time": "2021-11-09T18:22:06.366Z"
   },
   {
    "duration": 4,
    "start_time": "2021-11-09T18:22:06.547Z"
   },
   {
    "duration": 4,
    "start_time": "2021-11-09T18:22:06.733Z"
   },
   {
    "duration": 7,
    "start_time": "2021-11-09T18:22:06.941Z"
   },
   {
    "duration": 150041,
    "start_time": "2021-11-09T18:22:07.578Z"
   },
   {
    "duration": 4,
    "start_time": "2021-11-09T18:25:05.472Z"
   },
   {
    "duration": 3,
    "start_time": "2021-11-09T18:25:05.905Z"
   },
   {
    "duration": 3,
    "start_time": "2021-11-09T18:25:06.105Z"
   },
   {
    "duration": 5,
    "start_time": "2021-11-09T18:25:06.336Z"
   },
   {
    "duration": 7,
    "start_time": "2021-11-09T18:25:06.965Z"
   },
   {
    "duration": 1047558,
    "start_time": "2021-11-09T18:25:07.683Z"
   },
   {
    "duration": 4,
    "start_time": "2021-11-09T18:42:43.792Z"
   },
   {
    "duration": 3,
    "start_time": "2021-11-09T18:42:44.210Z"
   },
   {
    "duration": 3,
    "start_time": "2021-11-09T18:42:44.390Z"
   },
   {
    "duration": 4,
    "start_time": "2021-11-09T18:42:45.985Z"
   },
   {
    "duration": 7,
    "start_time": "2021-11-09T18:43:12.640Z"
   },
   {
    "duration": 1088,
    "start_time": "2021-11-09T18:43:14.678Z"
   },
   {
    "duration": 7,
    "start_time": "2021-11-09T18:43:52.641Z"
   },
   {
    "duration": 483,
    "start_time": "2021-11-09T18:43:53.394Z"
   },
   {
    "duration": 9,
    "start_time": "2021-11-09T18:44:15.146Z"
   },
   {
    "duration": 280315,
    "start_time": "2021-11-09T18:44:15.986Z"
   },
   {
    "duration": 4,
    "start_time": "2021-11-09T18:51:37.006Z"
   },
   {
    "duration": 3,
    "start_time": "2021-11-09T18:51:37.522Z"
   },
   {
    "duration": 3,
    "start_time": "2021-11-09T18:51:37.815Z"
   },
   {
    "duration": 3,
    "start_time": "2021-11-09T18:51:38.050Z"
   },
   {
    "duration": 7,
    "start_time": "2021-11-09T18:51:38.806Z"
   },
   {
    "duration": 56770,
    "start_time": "2021-11-09T18:52:48.334Z"
   },
   {
    "duration": 146940,
    "start_time": "2021-11-09T18:53:56.547Z"
   },
   {
    "duration": 4,
    "start_time": "2021-11-09T18:57:01.158Z"
   },
   {
    "duration": 3,
    "start_time": "2021-11-09T18:57:01.466Z"
   },
   {
    "duration": 3,
    "start_time": "2021-11-09T18:57:01.662Z"
   },
   {
    "duration": 4,
    "start_time": "2021-11-09T18:57:01.868Z"
   },
   {
    "duration": 8,
    "start_time": "2021-11-09T18:57:02.336Z"
   },
   {
    "duration": 56252,
    "start_time": "2021-11-09T18:57:22.618Z"
   },
   {
    "duration": 226,
    "start_time": "2021-11-09T18:58:59.600Z"
   },
   {
    "duration": 714,
    "start_time": "2021-11-09T18:59:16.256Z"
   },
   {
    "duration": 6,
    "start_time": "2021-11-09T18:59:23.864Z"
   },
   {
    "duration": 92384,
    "start_time": "2021-11-09T18:59:39.696Z"
   },
   {
    "duration": 7,
    "start_time": "2021-11-09T19:01:43.413Z"
   },
   {
    "duration": 4,
    "start_time": "2021-11-09T19:01:43.579Z"
   },
   {
    "duration": 3,
    "start_time": "2021-11-09T19:01:43.750Z"
   },
   {
    "duration": 4,
    "start_time": "2021-11-09T19:01:43.939Z"
   },
   {
    "duration": 7,
    "start_time": "2021-11-09T19:01:44.167Z"
   },
   {
    "duration": 8,
    "start_time": "2021-11-09T19:01:47.447Z"
   },
   {
    "duration": 42136,
    "start_time": "2021-11-09T19:01:55.349Z"
   },
   {
    "duration": 5,
    "start_time": "2021-11-09T19:02:43.894Z"
   },
   {
    "duration": 7,
    "start_time": "2021-11-09T19:04:00.303Z"
   },
   {
    "duration": 7,
    "start_time": "2021-11-09T19:04:13.453Z"
   },
   {
    "duration": 5,
    "start_time": "2021-11-09T19:05:25.366Z"
   },
   {
    "duration": 5,
    "start_time": "2021-11-09T19:05:27.230Z"
   },
   {
    "duration": 3,
    "start_time": "2021-11-09T19:05:27.479Z"
   },
   {
    "duration": 4,
    "start_time": "2021-11-09T19:05:27.752Z"
   },
   {
    "duration": 4,
    "start_time": "2021-11-09T19:05:28.365Z"
   },
   {
    "duration": 7,
    "start_time": "2021-11-09T19:05:29.072Z"
   },
   {
    "duration": 102542,
    "start_time": "2021-11-09T19:05:42.473Z"
   },
   {
    "duration": 5,
    "start_time": "2021-11-09T19:07:29.783Z"
   },
   {
    "duration": 288,
    "start_time": "2021-11-09T19:07:40.255Z"
   },
   {
    "duration": 275,
    "start_time": "2021-11-09T19:08:07.478Z"
   },
   {
    "duration": 352,
    "start_time": "2021-11-09T19:08:35.806Z"
   },
   {
    "duration": 269,
    "start_time": "2021-11-09T19:08:40.834Z"
   },
   {
    "duration": 5,
    "start_time": "2021-11-09T19:08:44.345Z"
   },
   {
    "duration": 137355,
    "start_time": "2021-11-09T19:09:07.301Z"
   },
   {
    "duration": 6,
    "start_time": "2021-11-09T19:11:31.170Z"
   },
   {
    "duration": 97352,
    "start_time": "2021-11-09T19:11:44.620Z"
   },
   {
    "duration": 6,
    "start_time": "2021-11-09T19:13:25.382Z"
   },
   {
    "duration": 4,
    "start_time": "2021-11-09T19:14:27.827Z"
   },
   {
    "duration": 3,
    "start_time": "2021-11-09T19:14:28.111Z"
   },
   {
    "duration": 4,
    "start_time": "2021-11-09T19:14:28.509Z"
   },
   {
    "duration": 4,
    "start_time": "2021-11-09T19:14:28.868Z"
   },
   {
    "duration": 7,
    "start_time": "2021-11-09T19:14:29.712Z"
   },
   {
    "duration": 64808,
    "start_time": "2021-11-09T19:14:36.193Z"
   },
   {
    "duration": 5,
    "start_time": "2021-11-09T19:15:41.003Z"
   },
   {
    "duration": 15,
    "start_time": "2021-11-09T19:16:07.543Z"
   },
   {
    "duration": 7,
    "start_time": "2021-11-09T19:18:55.718Z"
   },
   {
    "duration": 3,
    "start_time": "2021-11-09T19:18:59.726Z"
   },
   {
    "duration": 3,
    "start_time": "2021-11-09T19:18:59.862Z"
   },
   {
    "duration": 4,
    "start_time": "2021-11-09T19:19:00.042Z"
   },
   {
    "duration": 4,
    "start_time": "2021-11-09T19:19:00.208Z"
   },
   {
    "duration": 7,
    "start_time": "2021-11-09T19:19:00.818Z"
   },
   {
    "duration": 64872,
    "start_time": "2021-11-09T19:19:01.988Z"
   },
   {
    "duration": 14,
    "start_time": "2021-11-09T19:20:13.918Z"
   },
   {
    "duration": 4,
    "start_time": "2021-11-09T19:23:12.952Z"
   },
   {
    "duration": 4,
    "start_time": "2021-11-09T19:23:14.596Z"
   },
   {
    "duration": 3,
    "start_time": "2021-11-09T19:23:14.758Z"
   },
   {
    "duration": 3,
    "start_time": "2021-11-09T19:23:14.935Z"
   },
   {
    "duration": 4,
    "start_time": "2021-11-09T19:23:15.100Z"
   },
   {
    "duration": 7,
    "start_time": "2021-11-09T19:23:15.913Z"
   },
   {
    "duration": 55,
    "start_time": "2021-11-09T19:23:17.746Z"
   },
   {
    "duration": 7,
    "start_time": "2021-11-09T19:23:30.264Z"
   },
   {
    "duration": 6,
    "start_time": "2021-11-09T19:24:00.937Z"
   },
   {
    "duration": 3,
    "start_time": "2021-11-09T19:24:01.172Z"
   },
   {
    "duration": 3,
    "start_time": "2021-11-09T19:24:01.386Z"
   },
   {
    "duration": 4,
    "start_time": "2021-11-09T19:24:01.742Z"
   },
   {
    "duration": 8,
    "start_time": "2021-11-09T19:24:02.210Z"
   },
   {
    "duration": 193,
    "start_time": "2021-11-09T19:24:03.201Z"
   },
   {
    "duration": 9,
    "start_time": "2021-11-09T19:24:05.248Z"
   },
   {
    "duration": 7,
    "start_time": "2021-11-09T19:26:01.241Z"
   },
   {
    "duration": 9,
    "start_time": "2021-11-09T19:26:16.003Z"
   },
   {
    "duration": 203,
    "start_time": "2021-11-09T19:26:18.000Z"
   },
   {
    "duration": 13,
    "start_time": "2021-11-09T19:26:42.478Z"
   },
   {
    "duration": 11,
    "start_time": "2021-11-09T19:28:00.219Z"
   },
   {
    "duration": 4,
    "start_time": "2021-11-09T19:28:04.417Z"
   },
   {
    "duration": 3,
    "start_time": "2021-11-09T19:28:04.748Z"
   },
   {
    "duration": 3,
    "start_time": "2021-11-09T19:28:05.108Z"
   },
   {
    "duration": 4,
    "start_time": "2021-11-09T19:28:05.456Z"
   },
   {
    "duration": 7,
    "start_time": "2021-11-09T19:28:06.067Z"
   },
   {
    "duration": 215,
    "start_time": "2021-11-09T19:28:06.960Z"
   },
   {
    "duration": 4,
    "start_time": "2021-11-09T19:29:03.751Z"
   },
   {
    "duration": 3,
    "start_time": "2021-11-09T19:29:03.921Z"
   },
   {
    "duration": 4,
    "start_time": "2021-11-09T19:29:04.081Z"
   },
   {
    "duration": 3,
    "start_time": "2021-11-09T19:29:04.271Z"
   },
   {
    "duration": 7,
    "start_time": "2021-11-09T19:29:04.665Z"
   },
   {
    "duration": 203,
    "start_time": "2021-11-09T19:29:05.065Z"
   },
   {
    "duration": 9,
    "start_time": "2021-11-09T19:29:08.937Z"
   },
   {
    "duration": 8,
    "start_time": "2021-11-09T19:29:51.602Z"
   },
   {
    "duration": 199,
    "start_time": "2021-11-09T19:29:52.596Z"
   },
   {
    "duration": 13,
    "start_time": "2021-11-09T19:29:57.218Z"
   },
   {
    "duration": 4,
    "start_time": "2021-11-09T19:30:22.456Z"
   },
   {
    "duration": 3,
    "start_time": "2021-11-09T19:30:22.658Z"
   },
   {
    "duration": 3,
    "start_time": "2021-11-09T19:30:22.840Z"
   },
   {
    "duration": 3,
    "start_time": "2021-11-09T19:30:23.066Z"
   },
   {
    "duration": 7,
    "start_time": "2021-11-09T19:30:23.685Z"
   },
   {
    "duration": 195,
    "start_time": "2021-11-09T19:30:24.722Z"
   },
   {
    "duration": 13,
    "start_time": "2021-11-09T19:30:26.159Z"
   },
   {
    "duration": 4,
    "start_time": "2021-11-09T19:30:48.012Z"
   },
   {
    "duration": 7,
    "start_time": "2021-11-09T19:30:48.197Z"
   },
   {
    "duration": 1125,
    "start_time": "2021-11-09T19:30:48.528Z"
   },
   {
    "duration": 9,
    "start_time": "2021-11-09T19:31:17.130Z"
   },
   {
    "duration": 5,
    "start_time": "2021-11-09T19:31:24.672Z"
   },
   {
    "duration": 3137,
    "start_time": "2021-11-09T19:31:28.861Z"
   },
   {
    "duration": 4,
    "start_time": "2021-11-09T19:33:35.252Z"
   },
   {
    "duration": 3,
    "start_time": "2021-11-09T19:33:35.532Z"
   },
   {
    "duration": 3,
    "start_time": "2021-11-09T19:33:35.686Z"
   },
   {
    "duration": 3,
    "start_time": "2021-11-09T19:33:35.868Z"
   },
   {
    "duration": 7,
    "start_time": "2021-11-09T19:33:36.374Z"
   },
   {
    "duration": 55,
    "start_time": "2021-11-09T19:33:37.300Z"
   },
   {
    "duration": 6,
    "start_time": "2021-11-09T19:33:41.038Z"
   },
   {
    "duration": 7,
    "start_time": "2021-11-09T19:34:25.054Z"
   },
   {
    "duration": 4,
    "start_time": "2021-11-09T19:34:28.072Z"
   },
   {
    "duration": 3,
    "start_time": "2021-11-09T19:34:28.313Z"
   },
   {
    "duration": 3,
    "start_time": "2021-11-09T19:34:28.515Z"
   },
   {
    "duration": 4,
    "start_time": "2021-11-09T19:34:28.749Z"
   },
   {
    "duration": 8,
    "start_time": "2021-11-09T19:34:29.045Z"
   },
   {
    "duration": 57,
    "start_time": "2021-11-09T19:34:29.952Z"
   },
   {
    "duration": 7,
    "start_time": "2021-11-09T19:34:31.208Z"
   },
   {
    "duration": 4,
    "start_time": "2021-11-09T19:42:44.595Z"
   },
   {
    "duration": 4,
    "start_time": "2021-11-09T19:42:46.082Z"
   },
   {
    "duration": 3,
    "start_time": "2021-11-09T19:42:46.243Z"
   },
   {
    "duration": 3,
    "start_time": "2021-11-09T19:42:46.412Z"
   },
   {
    "duration": 3,
    "start_time": "2021-11-09T19:42:46.602Z"
   },
   {
    "duration": 7,
    "start_time": "2021-11-09T19:42:46.880Z"
   },
   {
    "duration": 655,
    "start_time": "2021-11-09T19:42:47.692Z"
   },
   {
    "duration": 8,
    "start_time": "2021-11-09T19:42:58.792Z"
   },
   {
    "duration": 648,
    "start_time": "2021-11-09T19:42:58.970Z"
   },
   {
    "duration": 8,
    "start_time": "2021-11-09T19:43:14.162Z"
   },
   {
    "duration": 51,
    "start_time": "2021-11-09T19:43:14.291Z"
   },
   {
    "duration": 5,
    "start_time": "2021-11-09T19:43:24.411Z"
   },
   {
    "duration": 8,
    "start_time": "2021-11-09T19:44:10.213Z"
   },
   {
    "duration": 53,
    "start_time": "2021-11-09T19:44:10.897Z"
   },
   {
    "duration": 5,
    "start_time": "2021-11-09T19:44:14.580Z"
   },
   {
    "duration": 7,
    "start_time": "2021-11-09T19:44:34.002Z"
   },
   {
    "duration": 56,
    "start_time": "2021-11-09T19:44:34.508Z"
   },
   {
    "duration": 5,
    "start_time": "2021-11-09T19:44:35.552Z"
   },
   {
    "duration": 3,
    "start_time": "2021-11-09T19:44:57.791Z"
   },
   {
    "duration": 3,
    "start_time": "2021-11-09T19:44:57.971Z"
   },
   {
    "duration": 4,
    "start_time": "2021-11-09T19:44:58.158Z"
   },
   {
    "duration": 4,
    "start_time": "2021-11-09T19:44:58.354Z"
   },
   {
    "duration": 8,
    "start_time": "2021-11-09T19:44:58.582Z"
   },
   {
    "duration": 55,
    "start_time": "2021-11-09T19:44:59.318Z"
   },
   {
    "duration": 5,
    "start_time": "2021-11-09T19:45:01.360Z"
   },
   {
    "duration": 4,
    "start_time": "2021-11-09T19:45:21.252Z"
   },
   {
    "duration": 165,
    "start_time": "2021-11-09T19:45:21.645Z"
   },
   {
    "duration": 156,
    "start_time": "2021-11-09T19:45:40.115Z"
   },
   {
    "duration": 3,
    "start_time": "2021-11-09T19:45:41.311Z"
   },
   {
    "duration": 4,
    "start_time": "2021-11-09T19:45:41.755Z"
   },
   {
    "duration": 16,
    "start_time": "2021-11-09T19:46:00.194Z"
   },
   {
    "duration": 4,
    "start_time": "2021-11-09T19:46:24.570Z"
   },
   {
    "duration": 14892,
    "start_time": "2021-11-09T19:46:25.088Z"
   },
   {
    "duration": 4,
    "start_time": "2021-11-09T19:46:39.982Z"
   },
   {
    "duration": 82,
    "start_time": "2021-11-09T19:46:39.988Z"
   },
   {
    "duration": 5,
    "start_time": "2021-11-09T19:47:06.153Z"
   },
   {
    "duration": 4,
    "start_time": "2021-11-09T19:47:18.778Z"
   },
   {
    "duration": 8,
    "start_time": "2021-11-09T19:47:19.423Z"
   },
   {
    "duration": 13829,
    "start_time": "2021-11-09T19:47:20.411Z"
   },
   {
    "duration": 5,
    "start_time": "2021-11-09T19:47:38.648Z"
   },
   {
    "duration": 4,
    "start_time": "2021-11-09T19:47:54.142Z"
   },
   {
    "duration": 161,
    "start_time": "2021-11-09T19:47:56.419Z"
   },
   {
    "duration": 4,
    "start_time": "2021-11-09T19:47:56.645Z"
   },
   {
    "duration": 4,
    "start_time": "2021-11-09T19:47:57.276Z"
   },
   {
    "duration": 8,
    "start_time": "2021-11-09T19:47:58.009Z"
   },
   {
    "duration": 56,
    "start_time": "2021-11-09T19:47:58.343Z"
   },
   {
    "duration": 5,
    "start_time": "2021-11-09T19:47:59.600Z"
   },
   {
    "duration": 6,
    "start_time": "2021-11-09T19:49:28.794Z"
   },
   {
    "duration": 8,
    "start_time": "2021-11-09T19:49:33.174Z"
   },
   {
    "duration": 4,
    "start_time": "2021-11-09T19:50:00.605Z"
   },
   {
    "duration": 4,
    "start_time": "2021-11-09T19:50:03.416Z"
   },
   {
    "duration": 6,
    "start_time": "2021-11-09T19:50:04.034Z"
   },
   {
    "duration": 76030,
    "start_time": "2021-11-09T19:50:19.271Z"
   },
   {
    "duration": 11,
    "start_time": "2021-11-09T19:51:56.908Z"
   },
   {
    "duration": 17161,
    "start_time": "2021-11-09T19:51:58.335Z"
   },
   {
    "duration": 5,
    "start_time": "2021-11-09T19:52:15.498Z"
   },
   {
    "duration": 6,
    "start_time": "2021-11-09T19:52:20.472Z"
   },
   {
    "duration": 8,
    "start_time": "2021-11-09T19:53:32.240Z"
   },
   {
    "duration": 7250,
    "start_time": "2021-11-09T19:53:33.006Z"
   },
   {
    "duration": 5,
    "start_time": "2021-11-09T19:53:40.258Z"
   },
   {
    "duration": 5,
    "start_time": "2021-11-09T19:53:46.228Z"
   },
   {
    "duration": 8,
    "start_time": "2021-11-09T19:54:03.618Z"
   },
   {
    "duration": 134347,
    "start_time": "2021-11-09T19:54:05.815Z"
   },
   {
    "duration": 4,
    "start_time": "2021-11-09T19:56:21.931Z"
   },
   {
    "duration": 4902,
    "start_time": "2021-11-09T19:56:23.081Z"
   },
   {
    "duration": 4,
    "start_time": "2021-11-09T19:56:27.985Z"
   },
   {
    "duration": 7,
    "start_time": "2021-11-09T19:56:27.992Z"
   },
   {
    "duration": 8,
    "start_time": "2021-11-09T19:56:28.001Z"
   },
   {
    "duration": 53457,
    "start_time": "2021-11-09T19:56:28.011Z"
   },
   {
    "duration": 4,
    "start_time": "2021-11-09T19:57:56.917Z"
   },
   {
    "duration": 4497,
    "start_time": "2021-11-09T19:57:57.257Z"
   },
   {
    "duration": 3,
    "start_time": "2021-11-09T19:58:01.757Z"
   },
   {
    "duration": 32,
    "start_time": "2021-11-09T19:58:05.477Z"
   },
   {
    "duration": 4,
    "start_time": "2021-11-09T19:58:12.981Z"
   },
   {
    "duration": 7,
    "start_time": "2021-11-09T19:58:13.231Z"
   },
   {
    "duration": 848886,
    "start_time": "2021-11-09T19:58:14.207Z"
   },
   {
    "duration": 4,
    "start_time": "2021-11-09T20:12:25.150Z"
   },
   {
    "duration": 8,
    "start_time": "2021-11-09T20:14:41.257Z"
   },
   {
    "duration": 10818,
    "start_time": "2021-11-09T20:14:44.370Z"
   },
   {
    "duration": 6,
    "start_time": "2021-11-09T20:14:58.426Z"
   },
   {
    "duration": 5,
    "start_time": "2021-11-09T20:15:35.480Z"
   },
   {
    "duration": 3,
    "start_time": "2021-11-09T20:16:24.477Z"
   },
   {
    "duration": 8,
    "start_time": "2021-11-09T20:16:24.697Z"
   },
   {
    "duration": 71480,
    "start_time": "2021-11-09T20:16:24.889Z"
   },
   {
    "duration": 5,
    "start_time": "2021-11-09T20:17:43.323Z"
   },
   {
    "duration": 5,
    "start_time": "2021-11-09T20:17:54.700Z"
   },
   {
    "duration": 4,
    "start_time": "2021-11-09T20:17:57.457Z"
   },
   {
    "duration": 8,
    "start_time": "2021-11-09T20:17:57.665Z"
   },
   {
    "duration": 11396,
    "start_time": "2021-11-09T20:17:58.275Z"
   },
   {
    "duration": 5,
    "start_time": "2021-11-09T20:18:09.674Z"
   },
   {
    "duration": 8,
    "start_time": "2021-11-09T20:18:24.881Z"
   },
   {
    "duration": 11481,
    "start_time": "2021-11-09T20:18:25.293Z"
   },
   {
    "duration": 5,
    "start_time": "2021-11-09T20:18:40.950Z"
   },
   {
    "duration": 7,
    "start_time": "2021-11-09T20:19:08.449Z"
   },
   {
    "duration": 11308,
    "start_time": "2021-11-09T20:19:08.668Z"
   },
   {
    "duration": 6,
    "start_time": "2021-11-09T20:19:19.979Z"
   },
   {
    "duration": 3,
    "start_time": "2021-11-09T20:19:53.729Z"
   },
   {
    "duration": 4,
    "start_time": "2021-11-09T20:19:56.393Z"
   },
   {
    "duration": 275,
    "start_time": "2021-11-09T20:19:57.231Z"
   },
   {
    "duration": 4,
    "start_time": "2021-11-09T20:20:11.103Z"
   },
   {
    "duration": 278,
    "start_time": "2021-11-09T20:20:13.775Z"
   },
   {
    "duration": 6,
    "start_time": "2021-11-09T20:20:29.421Z"
   },
   {
    "duration": 6,
    "start_time": "2021-11-09T20:20:37.704Z"
   },
   {
    "duration": 2071,
    "start_time": "2021-11-09T20:21:14.947Z"
   },
   {
    "duration": 17,
    "start_time": "2021-11-09T20:21:27.216Z"
   },
   {
    "duration": 18,
    "start_time": "2021-11-09T20:21:31.375Z"
   },
   {
    "duration": 9,
    "start_time": "2021-11-09T20:24:24.338Z"
   },
   {
    "duration": 11364,
    "start_time": "2021-11-09T20:24:25.125Z"
   },
   {
    "duration": 6,
    "start_time": "2021-11-09T20:24:36.491Z"
   },
   {
    "duration": 19,
    "start_time": "2021-11-09T20:24:36.500Z"
   },
   {
    "duration": 8,
    "start_time": "2021-11-09T20:25:43.395Z"
   },
   {
    "duration": 3,
    "start_time": "2021-11-09T20:25:47.410Z"
   },
   {
    "duration": 8,
    "start_time": "2021-11-09T20:25:47.591Z"
   },
   {
    "duration": 11015,
    "start_time": "2021-11-09T20:25:48.936Z"
   },
   {
    "duration": 6,
    "start_time": "2021-11-09T20:26:00.039Z"
   },
   {
    "duration": 3,
    "start_time": "2021-11-09T20:27:25.541Z"
   },
   {
    "duration": 11871,
    "start_time": "2021-11-09T20:27:27.825Z"
   },
   {
    "duration": 7,
    "start_time": "2021-11-09T20:27:47.891Z"
   },
   {
    "duration": 8,
    "start_time": "2021-11-09T20:28:21.149Z"
   },
   {
    "duration": 8,
    "start_time": "2021-11-09T20:28:25.062Z"
   },
   {
    "duration": 11235,
    "start_time": "2021-11-09T20:28:25.467Z"
   },
   {
    "duration": 8,
    "start_time": "2021-11-09T20:28:45.147Z"
   },
   {
    "duration": 1157,
    "start_time": "2021-11-09T20:28:45.902Z"
   },
   {
    "duration": 7,
    "start_time": "2021-11-09T20:29:26.762Z"
   },
   {
    "duration": 4,
    "start_time": "2021-11-09T20:29:30.237Z"
   },
   {
    "duration": 8,
    "start_time": "2021-11-09T20:29:30.480Z"
   },
   {
    "duration": 11152,
    "start_time": "2021-11-09T20:29:31.215Z"
   },
   {
    "duration": 3,
    "start_time": "2021-11-09T20:30:07.616Z"
   },
   {
    "duration": 8,
    "start_time": "2021-11-09T20:30:07.790Z"
   },
   {
    "duration": 11812,
    "start_time": "2021-11-09T20:30:08.638Z"
   },
   {
    "duration": 5,
    "start_time": "2021-11-09T20:30:20.453Z"
   },
   {
    "duration": 8,
    "start_time": "2021-11-09T20:31:16.691Z"
   },
   {
    "duration": 11294,
    "start_time": "2021-11-09T20:31:17.443Z"
   },
   {
    "duration": 6,
    "start_time": "2021-11-09T20:31:28.740Z"
   },
   {
    "duration": 12,
    "start_time": "2021-11-09T20:31:50.564Z"
   },
   {
    "duration": 14300,
    "start_time": "2021-11-09T20:31:51.893Z"
   },
   {
    "duration": 9,
    "start_time": "2021-11-09T20:32:58.866Z"
   },
   {
    "duration": 12362,
    "start_time": "2021-11-09T20:32:59.601Z"
   },
   {
    "duration": 4,
    "start_time": "2021-11-09T20:33:51.388Z"
   },
   {
    "duration": 6290,
    "start_time": "2021-11-09T20:33:51.580Z"
   },
   {
    "duration": 4,
    "start_time": "2021-11-09T20:33:57.872Z"
   },
   {
    "duration": 7,
    "start_time": "2021-11-09T20:33:57.879Z"
   },
   {
    "duration": 8,
    "start_time": "2021-11-09T20:33:57.888Z"
   },
   {
    "duration": 8,
    "start_time": "2021-11-09T20:34:36.753Z"
   },
   {
    "duration": 35756,
    "start_time": "2021-11-09T20:34:37.499Z"
   },
   {
    "duration": 735,
    "start_time": "2021-11-09T20:35:12.523Z"
   },
   {
    "duration": 733,
    "start_time": "2021-11-09T20:35:12.526Z"
   },
   {
    "duration": 731,
    "start_time": "2021-11-09T20:35:12.530Z"
   },
   {
    "duration": 729,
    "start_time": "2021-11-09T20:35:12.533Z"
   },
   {
    "duration": 43464,
    "start_time": "2021-11-09T20:35:16.420Z"
   },
   {
    "duration": 711,
    "start_time": "2021-11-09T20:35:59.176Z"
   },
   {
    "duration": 4,
    "start_time": "2021-11-09T20:36:00.766Z"
   },
   {
    "duration": 684,
    "start_time": "2021-11-09T20:36:01.082Z"
   },
   {
    "duration": 4,
    "start_time": "2021-11-09T20:36:01.769Z"
   },
   {
    "duration": 3,
    "start_time": "2021-11-09T20:36:02.639Z"
   },
   {
    "duration": 8,
    "start_time": "2021-11-09T20:36:03.092Z"
   },
   {
    "duration": 12376,
    "start_time": "2021-11-09T20:36:03.773Z"
   },
   {
    "duration": 772,
    "start_time": "2021-11-09T20:36:15.380Z"
   },
   {
    "duration": 12186,
    "start_time": "2021-11-09T20:36:26.515Z"
   },
   {
    "duration": 7,
    "start_time": "2021-11-09T20:36:38.703Z"
   },
   {
    "duration": 4,
    "start_time": "2021-11-09T20:37:16.363Z"
   },
   {
    "duration": 6144,
    "start_time": "2021-11-09T20:37:16.573Z"
   },
   {
    "duration": 3,
    "start_time": "2021-11-09T20:37:22.720Z"
   },
   {
    "duration": 10,
    "start_time": "2021-11-09T20:37:22.727Z"
   },
   {
    "duration": 9,
    "start_time": "2021-11-09T20:37:22.739Z"
   },
   {
    "duration": 20403,
    "start_time": "2021-11-09T20:37:22.768Z"
   },
   {
    "duration": 5504033,
    "start_time": "2021-11-09T20:37:52.183Z"
   },
   {
    "duration": 17,
    "start_time": "2021-11-10T04:01:02.516Z"
   },
   {
    "duration": 18,
    "start_time": "2021-11-10T04:01:05.877Z"
   },
   {
    "duration": 1153,
    "start_time": "2021-11-10T11:35:33.223Z"
   },
   {
    "duration": 31,
    "start_time": "2021-11-10T11:35:34.378Z"
   },
   {
    "duration": 8,
    "start_time": "2021-11-10T11:35:34.411Z"
   },
   {
    "duration": 14,
    "start_time": "2021-11-10T11:35:34.420Z"
   },
   {
    "duration": 9,
    "start_time": "2021-11-10T11:35:34.436Z"
   },
   {
    "duration": 3,
    "start_time": "2021-11-10T11:35:34.447Z"
   },
   {
    "duration": 60,
    "start_time": "2021-11-10T11:35:34.452Z"
   },
   {
    "duration": 11,
    "start_time": "2021-11-10T11:35:34.513Z"
   },
   {
    "duration": 32,
    "start_time": "2021-11-10T11:35:34.526Z"
   },
   {
    "duration": 55,
    "start_time": "2021-11-10T11:35:34.560Z"
   },
   {
    "duration": 6,
    "start_time": "2021-11-10T11:35:34.616Z"
   },
   {
    "duration": 729,
    "start_time": "2021-11-10T11:35:34.624Z"
   },
   {
    "duration": 4,
    "start_time": "2021-11-10T11:35:35.355Z"
   },
   {
    "duration": 20,
    "start_time": "2021-11-10T11:35:35.361Z"
   },
   {
    "duration": 8,
    "start_time": "2021-11-10T11:35:35.383Z"
   },
   {
    "duration": 22,
    "start_time": "2021-11-10T11:35:35.393Z"
   },
   {
    "duration": 3,
    "start_time": "2021-11-10T11:35:35.416Z"
   },
   {
    "duration": 203,
    "start_time": "2021-11-10T11:35:35.420Z"
   },
   {
    "duration": 23,
    "start_time": "2021-11-10T11:35:35.625Z"
   },
   {
    "duration": 3,
    "start_time": "2021-11-10T11:35:35.650Z"
   },
   {
    "duration": 25,
    "start_time": "2021-11-10T11:35:35.655Z"
   },
   {
    "duration": 5,
    "start_time": "2021-11-10T11:35:35.691Z"
   },
   {
    "duration": 5,
    "start_time": "2021-11-10T11:35:35.697Z"
   },
   {
    "duration": 636,
    "start_time": "2021-11-10T11:35:35.704Z"
   },
   {
    "duration": 21,
    "start_time": "2021-11-10T11:35:36.342Z"
   },
   {
    "duration": 37,
    "start_time": "2021-11-10T11:35:36.364Z"
   },
   {
    "duration": 2,
    "start_time": "2021-11-10T11:35:36.404Z"
   },
   {
    "duration": 1329,
    "start_time": "2021-11-10T11:35:36.408Z"
   },
   {
    "duration": 1878,
    "start_time": "2021-11-10T11:35:37.738Z"
   },
   {
    "duration": 3,
    "start_time": "2021-11-10T11:35:39.617Z"
   },
   {
    "duration": 3541,
    "start_time": "2021-11-10T11:35:39.621Z"
   },
   {
    "duration": 2,
    "start_time": "2021-11-10T11:35:43.164Z"
   },
   {
    "duration": 6,
    "start_time": "2021-11-10T11:35:43.167Z"
   },
   {
    "duration": 17,
    "start_time": "2021-11-10T11:35:43.174Z"
   },
   {
    "duration": 5,
    "start_time": "2021-11-10T11:35:43.193Z"
   },
   {
    "duration": 85,
    "start_time": "2021-11-10T11:35:43.199Z"
   },
   {
    "duration": 18,
    "start_time": "2021-11-10T11:35:43.286Z"
   },
   {
    "duration": 284,
    "start_time": "2021-11-10T11:40:14.988Z"
   },
   {
    "duration": 4,
    "start_time": "2021-11-10T11:40:22.075Z"
   },
   {
    "duration": 35,
    "start_time": "2021-11-10T11:40:22.080Z"
   },
   {
    "duration": 7,
    "start_time": "2021-11-10T11:40:22.117Z"
   },
   {
    "duration": 11,
    "start_time": "2021-11-10T11:40:22.126Z"
   },
   {
    "duration": 13,
    "start_time": "2021-11-10T11:40:22.139Z"
   },
   {
    "duration": 4,
    "start_time": "2021-11-10T11:40:22.153Z"
   },
   {
    "duration": 56,
    "start_time": "2021-11-10T11:40:22.158Z"
   },
   {
    "duration": 10,
    "start_time": "2021-11-10T11:40:22.216Z"
   },
   {
    "duration": 32,
    "start_time": "2021-11-10T11:40:22.229Z"
   },
   {
    "duration": 58,
    "start_time": "2021-11-10T11:40:22.263Z"
   },
   {
    "duration": 6,
    "start_time": "2021-11-10T11:40:22.322Z"
   },
   {
    "duration": 711,
    "start_time": "2021-11-10T11:40:22.329Z"
   },
   {
    "duration": 4,
    "start_time": "2021-11-10T11:40:23.042Z"
   },
   {
    "duration": 29,
    "start_time": "2021-11-10T11:40:23.048Z"
   },
   {
    "duration": 10,
    "start_time": "2021-11-10T11:40:23.078Z"
   },
   {
    "duration": 36,
    "start_time": "2021-11-10T11:40:23.090Z"
   },
   {
    "duration": 4,
    "start_time": "2021-11-10T11:40:23.128Z"
   },
   {
    "duration": 212,
    "start_time": "2021-11-10T11:40:23.134Z"
   },
   {
    "duration": 93,
    "start_time": "2021-11-10T11:40:23.347Z"
   },
   {
    "duration": 4,
    "start_time": "2021-11-10T11:40:23.441Z"
   },
   {
    "duration": 32,
    "start_time": "2021-11-10T11:40:23.446Z"
   },
   {
    "duration": 12,
    "start_time": "2021-11-10T11:40:23.480Z"
   },
   {
    "duration": 23,
    "start_time": "2021-11-10T11:40:23.494Z"
   },
   {
    "duration": 639,
    "start_time": "2021-11-10T11:40:23.519Z"
   },
   {
    "duration": 21,
    "start_time": "2021-11-10T11:40:24.160Z"
   },
   {
    "duration": 21,
    "start_time": "2021-11-10T11:40:24.192Z"
   },
   {
    "duration": 2,
    "start_time": "2021-11-10T11:40:24.216Z"
   },
   {
    "duration": 1265,
    "start_time": "2021-11-10T11:40:24.220Z"
   },
   {
    "duration": 1948,
    "start_time": "2021-11-10T11:40:25.490Z"
   },
   {
    "duration": 2,
    "start_time": "2021-11-10T11:40:27.440Z"
   },
   {
    "duration": 3747,
    "start_time": "2021-11-10T11:40:27.444Z"
   },
   {
    "duration": 2,
    "start_time": "2021-11-10T11:40:31.193Z"
   },
   {
    "duration": 12,
    "start_time": "2021-11-10T11:40:31.196Z"
   },
   {
    "duration": 11,
    "start_time": "2021-11-10T11:40:31.209Z"
   },
   {
    "duration": 10,
    "start_time": "2021-11-10T11:40:31.221Z"
   },
   {
    "duration": 86,
    "start_time": "2021-11-10T11:40:31.233Z"
   },
   {
    "duration": 21,
    "start_time": "2021-11-10T11:40:31.321Z"
   },
   {
    "duration": 13,
    "start_time": "2021-11-10T11:40:31.343Z"
   },
   {
    "duration": 6,
    "start_time": "2021-11-10T11:41:13.713Z"
   },
   {
    "duration": 5,
    "start_time": "2021-11-10T11:52:04.278Z"
   },
   {
    "duration": 459,
    "start_time": "2021-11-10T11:53:35.033Z"
   },
   {
    "duration": 3,
    "start_time": "2021-11-10T11:54:26.313Z"
   },
   {
    "duration": 5,
    "start_time": "2021-11-10T11:54:51.521Z"
   },
   {
    "duration": 301,
    "start_time": "2021-11-10T11:54:53.593Z"
   },
   {
    "duration": 4,
    "start_time": "2021-11-10T11:55:01.433Z"
   },
   {
    "duration": 4,
    "start_time": "2021-11-10T11:55:18.253Z"
   },
   {
    "duration": 4,
    "start_time": "2021-11-10T11:55:57.797Z"
   },
   {
    "duration": 4,
    "start_time": "2021-11-10T11:56:08.893Z"
   },
   {
    "duration": 5,
    "start_time": "2021-11-10T11:58:12.711Z"
   },
   {
    "duration": 658,
    "start_time": "2021-11-10T11:58:15.610Z"
   },
   {
    "duration": 5,
    "start_time": "2021-11-10T11:58:36.114Z"
   },
   {
    "duration": 446,
    "start_time": "2021-11-10T11:58:38.114Z"
   },
   {
    "duration": 5,
    "start_time": "2021-11-10T11:59:12.322Z"
   },
   {
    "duration": 427,
    "start_time": "2021-11-10T11:59:12.982Z"
   },
   {
    "duration": 5,
    "start_time": "2021-11-10T11:59:36.356Z"
   },
   {
    "duration": 438,
    "start_time": "2021-11-10T11:59:38.627Z"
   },
   {
    "duration": 5,
    "start_time": "2021-11-10T11:59:59.964Z"
   },
   {
    "duration": 556,
    "start_time": "2021-11-10T12:00:01.896Z"
   },
   {
    "duration": 4,
    "start_time": "2021-11-10T12:01:15.955Z"
   },
   {
    "duration": 296,
    "start_time": "2021-11-10T12:01:17.892Z"
   },
   {
    "duration": 11,
    "start_time": "2021-11-10T12:01:20.273Z"
   },
   {
    "duration": 5,
    "start_time": "2021-11-10T12:02:16.861Z"
   },
   {
    "duration": 300,
    "start_time": "2021-11-10T12:02:19.792Z"
   },
   {
    "duration": 12,
    "start_time": "2021-11-10T12:02:22.273Z"
   },
   {
    "duration": 5,
    "start_time": "2021-11-10T12:02:55.384Z"
   },
   {
    "duration": 304,
    "start_time": "2021-11-10T12:03:01.992Z"
   },
   {
    "duration": 10,
    "start_time": "2021-11-10T12:03:03.842Z"
   },
   {
    "duration": 5,
    "start_time": "2021-11-10T12:03:10.383Z"
   },
   {
    "duration": 800,
    "start_time": "2021-11-10T12:03:12.973Z"
   },
   {
    "duration": 12,
    "start_time": "2021-11-10T12:03:14.973Z"
   },
   {
    "duration": 5,
    "start_time": "2021-11-10T12:09:26.114Z"
   },
   {
    "duration": 5,
    "start_time": "2021-11-10T12:09:39.247Z"
   },
   {
    "duration": 373,
    "start_time": "2021-11-10T12:09:39.824Z"
   },
   {
    "duration": 860,
    "start_time": "2021-11-10T12:11:16.385Z"
   },
   {
    "duration": 14,
    "start_time": "2021-11-10T12:11:30.683Z"
   },
   {
    "duration": 440,
    "start_time": "2021-11-10T12:11:35.858Z"
   },
   {
    "duration": 6,
    "start_time": "2021-11-10T12:18:26.936Z"
   },
   {
    "duration": 862,
    "start_time": "2021-11-10T12:18:28.183Z"
   },
   {
    "duration": 16,
    "start_time": "2021-11-10T12:18:30.590Z"
   },
   {
    "duration": 174,
    "start_time": "2021-11-10T12:19:06.412Z"
   },
   {
    "duration": 4,
    "start_time": "2021-11-10T12:19:14.503Z"
   },
   {
    "duration": 1577,
    "start_time": "2021-11-10T17:01:46.633Z"
   },
   {
    "duration": 37,
    "start_time": "2021-11-10T17:01:48.212Z"
   },
   {
    "duration": 11,
    "start_time": "2021-11-10T17:01:48.252Z"
   },
   {
    "duration": 26,
    "start_time": "2021-11-10T17:01:48.266Z"
   },
   {
    "duration": 16,
    "start_time": "2021-11-10T17:01:48.294Z"
   },
   {
    "duration": 5,
    "start_time": "2021-11-10T17:01:48.312Z"
   },
   {
    "duration": 73,
    "start_time": "2021-11-10T17:01:48.319Z"
   },
   {
    "duration": 16,
    "start_time": "2021-11-10T17:01:48.394Z"
   },
   {
    "duration": 74,
    "start_time": "2021-11-10T17:01:48.413Z"
   },
   {
    "duration": 46,
    "start_time": "2021-11-10T17:01:48.490Z"
   },
   {
    "duration": 26,
    "start_time": "2021-11-10T17:01:48.538Z"
   },
   {
    "duration": 976,
    "start_time": "2021-11-10T17:01:48.566Z"
   },
   {
    "duration": 15,
    "start_time": "2021-11-10T17:01:49.545Z"
   },
   {
    "duration": 22,
    "start_time": "2021-11-10T17:01:49.563Z"
   },
   {
    "duration": 4,
    "start_time": "2021-11-10T17:01:49.587Z"
   },
   {
    "duration": 30,
    "start_time": "2021-11-10T17:01:49.593Z"
   },
   {
    "duration": 3,
    "start_time": "2021-11-10T17:01:49.625Z"
   },
   {
    "duration": 337,
    "start_time": "2021-11-10T17:01:49.631Z"
   },
   {
    "duration": 32,
    "start_time": "2021-11-10T17:01:49.970Z"
   },
   {
    "duration": 6,
    "start_time": "2021-11-10T17:01:50.004Z"
   },
   {
    "duration": 35,
    "start_time": "2021-11-10T17:01:50.012Z"
   },
   {
    "duration": 8,
    "start_time": "2021-11-10T17:01:50.060Z"
   },
   {
    "duration": 9,
    "start_time": "2021-11-10T17:01:50.070Z"
   },
   {
    "duration": 967,
    "start_time": "2021-11-10T17:01:50.082Z"
   },
   {
    "duration": 40,
    "start_time": "2021-11-10T17:01:51.051Z"
   },
   {
    "duration": 36,
    "start_time": "2021-11-10T17:01:51.093Z"
   },
   {
    "duration": 4,
    "start_time": "2021-11-10T17:01:51.158Z"
   },
   {
    "duration": 1899,
    "start_time": "2021-11-10T17:01:51.165Z"
   },
   {
    "duration": 2960,
    "start_time": "2021-11-10T17:01:53.067Z"
   },
   {
    "duration": 3,
    "start_time": "2021-11-10T17:01:56.030Z"
   },
   {
    "duration": 5477,
    "start_time": "2021-11-10T17:01:56.035Z"
   },
   {
    "duration": 3,
    "start_time": "2021-11-10T17:02:01.514Z"
   },
   {
    "duration": 10,
    "start_time": "2021-11-10T17:02:01.520Z"
   },
   {
    "duration": 11,
    "start_time": "2021-11-10T17:02:01.533Z"
   },
   {
    "duration": 4,
    "start_time": "2021-11-10T17:02:01.559Z"
   },
   {
    "duration": 138,
    "start_time": "2021-11-10T17:02:01.565Z"
   },
   {
    "duration": 32,
    "start_time": "2021-11-10T17:02:01.705Z"
   },
   {
    "duration": 33,
    "start_time": "2021-11-10T17:02:01.739Z"
   },
   {
    "duration": 9,
    "start_time": "2021-11-10T17:02:01.774Z"
   },
   {
    "duration": 16,
    "start_time": "2021-11-10T17:02:01.785Z"
   },
   {
    "duration": 14,
    "start_time": "2021-11-10T17:02:01.803Z"
   },
   {
    "duration": 521,
    "start_time": "2021-11-10T17:02:01.820Z"
   },
   {
    "duration": 5,
    "start_time": "2021-11-10T17:02:27.198Z"
   },
   {
    "duration": 5,
    "start_time": "2021-11-10T17:02:27.856Z"
   },
   {
    "duration": 1336,
    "start_time": "2021-11-10T17:02:28.508Z"
   },
   {
    "duration": 1713,
    "start_time": "2021-11-10T17:03:14.277Z"
   },
   {
    "duration": 2430,
    "start_time": "2021-11-10T17:03:59.368Z"
   },
   {
    "duration": 5,
    "start_time": "2021-11-10T17:04:28.477Z"
   },
   {
    "duration": 2237,
    "start_time": "2021-11-10T17:04:30.317Z"
   },
   {
    "duration": 5,
    "start_time": "2021-11-10T17:06:45.861Z"
   },
   {
    "duration": 2374,
    "start_time": "2021-11-10T17:06:48.089Z"
   },
   {
    "duration": 5,
    "start_time": "2021-11-10T17:07:01.195Z"
   },
   {
    "duration": 1367,
    "start_time": "2021-11-10T17:07:02.858Z"
   },
   {
    "duration": 1384,
    "start_time": "2021-11-10T17:07:56.711Z"
   },
   {
    "duration": 76,
    "start_time": "2021-11-10T17:08:56.563Z"
   },
   {
    "duration": 142,
    "start_time": "2021-11-10T17:10:22.925Z"
   },
   {
    "duration": 11,
    "start_time": "2021-11-10T17:12:26.272Z"
   },
   {
    "duration": 5,
    "start_time": "2021-11-10T17:12:26.750Z"
   },
   {
    "duration": 5,
    "start_time": "2021-11-10T17:12:27.630Z"
   },
   {
    "duration": 1432,
    "start_time": "2021-11-10T17:12:29.877Z"
   },
   {
    "duration": 8,
    "start_time": "2021-11-10T17:13:06.948Z"
   },
   {
    "duration": 7,
    "start_time": "2021-11-10T17:13:09.388Z"
   },
   {
    "duration": 5,
    "start_time": "2021-11-10T17:13:09.669Z"
   },
   {
    "duration": 5,
    "start_time": "2021-11-10T17:13:10.145Z"
   },
   {
    "duration": 1454,
    "start_time": "2021-11-10T17:13:10.787Z"
   },
   {
    "duration": 393,
    "start_time": "2021-11-10T17:14:24.421Z"
   },
   {
    "duration": 7,
    "start_time": "2021-11-10T17:17:06.897Z"
   },
   {
    "duration": 4,
    "start_time": "2021-11-10T17:17:07.371Z"
   },
   {
    "duration": 5,
    "start_time": "2021-11-10T17:17:07.905Z"
   },
   {
    "duration": 1323,
    "start_time": "2021-11-10T17:17:08.469Z"
   },
   {
    "duration": 5,
    "start_time": "2021-11-10T17:17:23.594Z"
   },
   {
    "duration": 51,
    "start_time": "2021-11-10T17:17:23.602Z"
   },
   {
    "duration": 12,
    "start_time": "2021-11-10T17:17:23.656Z"
   },
   {
    "duration": 17,
    "start_time": "2021-11-10T17:17:23.671Z"
   },
   {
    "duration": 17,
    "start_time": "2021-11-10T17:17:23.690Z"
   },
   {
    "duration": 5,
    "start_time": "2021-11-10T17:17:23.709Z"
   },
   {
    "duration": 91,
    "start_time": "2021-11-10T17:17:23.716Z"
   },
   {
    "duration": 16,
    "start_time": "2021-11-10T17:17:23.811Z"
   },
   {
    "duration": 50,
    "start_time": "2021-11-10T17:17:23.859Z"
   },
   {
    "duration": 70,
    "start_time": "2021-11-10T17:17:23.911Z"
   },
   {
    "duration": 9,
    "start_time": "2021-11-10T17:17:23.983Z"
   },
   {
    "duration": 1043,
    "start_time": "2021-11-10T17:17:23.994Z"
   },
   {
    "duration": 6,
    "start_time": "2021-11-10T17:17:25.040Z"
   },
   {
    "duration": 17,
    "start_time": "2021-11-10T17:17:25.060Z"
   },
   {
    "duration": 6,
    "start_time": "2021-11-10T17:17:25.080Z"
   },
   {
    "duration": 38,
    "start_time": "2021-11-10T17:17:25.089Z"
   },
   {
    "duration": 32,
    "start_time": "2021-11-10T17:17:25.129Z"
   },
   {
    "duration": 316,
    "start_time": "2021-11-10T17:17:25.164Z"
   },
   {
    "duration": 31,
    "start_time": "2021-11-10T17:17:25.482Z"
   },
   {
    "duration": 6,
    "start_time": "2021-11-10T17:17:25.515Z"
   },
   {
    "duration": 44,
    "start_time": "2021-11-10T17:17:25.523Z"
   },
   {
    "duration": 9,
    "start_time": "2021-11-10T17:17:25.570Z"
   },
   {
    "duration": 4,
    "start_time": "2021-11-10T17:17:25.587Z"
   },
   {
    "duration": 1043,
    "start_time": "2021-11-10T17:17:25.595Z"
   },
   {
    "duration": 42,
    "start_time": "2021-11-10T17:17:26.640Z"
   },
   {
    "duration": 33,
    "start_time": "2021-11-10T17:17:26.685Z"
   },
   {
    "duration": 4,
    "start_time": "2021-11-10T17:17:26.720Z"
   },
   {
    "duration": 1932,
    "start_time": "2021-11-10T17:17:26.726Z"
   },
   {
    "duration": 2996,
    "start_time": "2021-11-10T17:17:28.661Z"
   },
   {
    "duration": 4,
    "start_time": "2021-11-10T17:17:31.660Z"
   },
   {
    "duration": 5471,
    "start_time": "2021-11-10T17:17:31.666Z"
   },
   {
    "duration": 3,
    "start_time": "2021-11-10T17:17:37.140Z"
   },
   {
    "duration": 7,
    "start_time": "2021-11-10T17:17:37.145Z"
   },
   {
    "duration": 8,
    "start_time": "2021-11-10T17:17:37.159Z"
   },
   {
    "duration": 5,
    "start_time": "2021-11-10T17:17:37.169Z"
   },
   {
    "duration": 145,
    "start_time": "2021-11-10T17:17:37.177Z"
   },
   {
    "duration": 40,
    "start_time": "2021-11-10T17:17:37.325Z"
   },
   {
    "duration": 23,
    "start_time": "2021-11-10T17:17:37.368Z"
   },
   {
    "duration": 9,
    "start_time": "2021-11-10T17:17:37.394Z"
   },
   {
    "duration": 10,
    "start_time": "2021-11-10T17:17:37.406Z"
   },
   {
    "duration": 9,
    "start_time": "2021-11-10T17:17:37.418Z"
   },
   {
    "duration": 1391,
    "start_time": "2021-11-10T17:17:37.459Z"
   },
   {
    "duration": 396,
    "start_time": "2021-11-10T17:18:19.885Z"
   },
   {
    "duration": 781,
    "start_time": "2021-11-10T17:20:15.977Z"
   },
   {
    "duration": 162,
    "start_time": "2021-11-10T17:20:37.682Z"
   },
   {
    "duration": 354,
    "start_time": "2021-11-10T17:20:58.727Z"
   },
   {
    "duration": 8,
    "start_time": "2021-11-10T17:25:28.300Z"
   },
   {
    "duration": 5,
    "start_time": "2021-11-10T17:25:30.553Z"
   },
   {
    "duration": 6,
    "start_time": "2021-11-10T17:25:31.187Z"
   },
   {
    "duration": 1468,
    "start_time": "2021-11-10T17:25:31.798Z"
   },
   {
    "duration": 313,
    "start_time": "2021-11-10T17:25:43.265Z"
   },
   {
    "duration": 76,
    "start_time": "2021-11-10T17:26:02.718Z"
   },
   {
    "duration": 8,
    "start_time": "2021-11-10T17:29:02.612Z"
   },
   {
    "duration": 4,
    "start_time": "2021-11-10T17:29:03.269Z"
   },
   {
    "duration": 6,
    "start_time": "2021-11-10T17:29:04.150Z"
   },
   {
    "duration": 1996,
    "start_time": "2021-11-10T17:29:05.338Z"
   },
   {
    "duration": 325,
    "start_time": "2021-11-10T17:33:57.341Z"
   },
   {
    "duration": 9,
    "start_time": "2021-11-10T17:48:49.635Z"
   },
   {
    "duration": 12,
    "start_time": "2021-11-10T17:49:06.166Z"
   },
   {
    "duration": 5,
    "start_time": "2021-11-10T17:49:07.206Z"
   },
   {
    "duration": 8,
    "start_time": "2021-11-10T17:49:09.225Z"
   },
   {
    "duration": 12,
    "start_time": "2021-11-10T17:52:02.251Z"
   },
   {
    "duration": 6,
    "start_time": "2021-11-10T17:52:03.262Z"
   },
   {
    "duration": 7,
    "start_time": "2021-11-10T17:52:04.096Z"
   },
   {
    "duration": 2579,
    "start_time": "2021-11-10T17:52:04.936Z"
   },
   {
    "duration": 447,
    "start_time": "2021-11-10T17:52:25.672Z"
   },
   {
    "duration": 5,
    "start_time": "2021-11-10T18:27:13.118Z"
   },
   {
    "duration": 5,
    "start_time": "2021-11-10T18:27:17.614Z"
   },
   {
    "duration": 5,
    "start_time": "2021-11-10T18:27:33.786Z"
   },
   {
    "duration": 5,
    "start_time": "2021-11-10T18:28:30.444Z"
   },
   {
    "duration": 10,
    "start_time": "2021-11-10T18:28:42.711Z"
   },
   {
    "duration": 4,
    "start_time": "2021-11-10T18:28:43.268Z"
   },
   {
    "duration": 7,
    "start_time": "2021-11-10T18:28:43.997Z"
   },
   {
    "duration": 1814,
    "start_time": "2021-11-10T18:28:52.148Z"
   },
   {
    "duration": 310,
    "start_time": "2021-11-10T18:28:55.716Z"
   },
   {
    "duration": 76,
    "start_time": "2021-11-10T18:30:37.497Z"
   },
   {
    "duration": 1259,
    "start_time": "2021-11-11T04:20:25.685Z"
   },
   {
    "duration": 32,
    "start_time": "2021-11-11T04:20:26.946Z"
   },
   {
    "duration": 12,
    "start_time": "2021-11-11T04:20:26.981Z"
   },
   {
    "duration": 20,
    "start_time": "2021-11-11T04:20:26.996Z"
   },
   {
    "duration": 31,
    "start_time": "2021-11-11T04:20:27.018Z"
   },
   {
    "duration": 4,
    "start_time": "2021-11-11T04:20:27.051Z"
   },
   {
    "duration": 37,
    "start_time": "2021-11-11T04:20:27.057Z"
   },
   {
    "duration": 12,
    "start_time": "2021-11-11T04:20:27.095Z"
   },
   {
    "duration": 59,
    "start_time": "2021-11-11T04:20:27.109Z"
   },
   {
    "duration": 31,
    "start_time": "2021-11-11T04:20:27.170Z"
   },
   {
    "duration": 6,
    "start_time": "2021-11-11T04:20:27.203Z"
   },
   {
    "duration": 740,
    "start_time": "2021-11-11T04:20:27.211Z"
   },
   {
    "duration": 4,
    "start_time": "2021-11-11T04:20:27.953Z"
   },
   {
    "duration": 19,
    "start_time": "2021-11-11T04:20:27.959Z"
   },
   {
    "duration": 3,
    "start_time": "2021-11-11T04:20:27.979Z"
   },
   {
    "duration": 20,
    "start_time": "2021-11-11T04:20:27.984Z"
   },
   {
    "duration": 3,
    "start_time": "2021-11-11T04:20:28.006Z"
   },
   {
    "duration": 328,
    "start_time": "2021-11-11T04:20:28.011Z"
   },
   {
    "duration": 32,
    "start_time": "2021-11-11T04:20:28.345Z"
   },
   {
    "duration": 5,
    "start_time": "2021-11-11T04:20:28.379Z"
   },
   {
    "duration": 25,
    "start_time": "2021-11-11T04:20:28.386Z"
   },
   {
    "duration": 7,
    "start_time": "2021-11-11T04:20:28.413Z"
   },
   {
    "duration": 25,
    "start_time": "2021-11-11T04:20:28.422Z"
   },
   {
    "duration": 663,
    "start_time": "2021-11-11T04:20:28.449Z"
   },
   {
    "duration": 30,
    "start_time": "2021-11-11T04:20:29.114Z"
   },
   {
    "duration": 21,
    "start_time": "2021-11-11T04:20:29.146Z"
   },
   {
    "duration": 3,
    "start_time": "2021-11-11T04:20:29.171Z"
   },
   {
    "duration": 1276,
    "start_time": "2021-11-11T04:20:29.176Z"
   },
   {
    "duration": 1992,
    "start_time": "2021-11-11T04:20:30.454Z"
   },
   {
    "duration": 2,
    "start_time": "2021-11-11T04:20:32.448Z"
   },
   {
    "duration": 3692,
    "start_time": "2021-11-11T04:20:32.452Z"
   },
   {
    "duration": 2,
    "start_time": "2021-11-11T04:20:36.146Z"
   },
   {
    "duration": 6,
    "start_time": "2021-11-11T04:20:36.149Z"
   },
   {
    "duration": 5,
    "start_time": "2021-11-11T04:20:36.157Z"
   },
   {
    "duration": 5,
    "start_time": "2021-11-11T04:20:36.164Z"
   },
   {
    "duration": 93,
    "start_time": "2021-11-11T04:20:36.170Z"
   },
   {
    "duration": 22,
    "start_time": "2021-11-11T04:20:36.264Z"
   },
   {
    "duration": 15,
    "start_time": "2021-11-11T04:20:36.288Z"
   },
   {
    "duration": 5,
    "start_time": "2021-11-11T04:20:36.305Z"
   },
   {
    "duration": 6,
    "start_time": "2021-11-11T04:20:36.312Z"
   },
   {
    "duration": 25,
    "start_time": "2021-11-11T04:20:36.320Z"
   },
   {
    "duration": 1119,
    "start_time": "2021-11-11T04:20:36.347Z"
   },
   {
    "duration": 45,
    "start_time": "2021-11-11T04:20:37.468Z"
   },
   {
    "duration": 5,
    "start_time": "2021-11-11T04:20:37.515Z"
   },
   {
    "duration": 1211,
    "start_time": "2021-11-11T04:20:37.522Z"
   },
   {
    "duration": 891,
    "start_time": "2021-11-11T04:22:08.172Z"
   },
   {
    "duration": 1043,
    "start_time": "2021-11-11T04:22:36.373Z"
   },
   {
    "duration": 6,
    "start_time": "2021-11-11T04:22:46.480Z"
   },
   {
    "duration": 3,
    "start_time": "2021-11-11T04:22:46.722Z"
   },
   {
    "duration": 4,
    "start_time": "2021-11-11T04:22:47.151Z"
   },
   {
    "duration": 1274,
    "start_time": "2021-11-11T04:22:47.631Z"
   },
   {
    "duration": 239,
    "start_time": "2021-11-11T04:24:16.363Z"
   },
   {
    "duration": 24,
    "start_time": "2021-11-11T04:25:15.748Z"
   },
   {
    "duration": 27,
    "start_time": "2021-11-11T04:26:46.562Z"
   },
   {
    "duration": 5,
    "start_time": "2021-11-11T04:27:12.619Z"
   },
   {
    "duration": 4,
    "start_time": "2021-11-11T04:27:13.142Z"
   },
   {
    "duration": 4,
    "start_time": "2021-11-11T04:27:13.604Z"
   },
   {
    "duration": 1073,
    "start_time": "2021-11-11T04:27:14.487Z"
   },
   {
    "duration": 6,
    "start_time": "2021-11-11T04:29:01.762Z"
   },
   {
    "duration": 4,
    "start_time": "2021-11-11T04:29:02.078Z"
   },
   {
    "duration": 4,
    "start_time": "2021-11-11T04:29:03.261Z"
   },
   {
    "duration": 1052,
    "start_time": "2021-11-11T04:29:04.486Z"
   },
   {
    "duration": 5,
    "start_time": "2021-11-11T04:30:01.401Z"
   },
   {
    "duration": 4,
    "start_time": "2021-11-11T04:30:05.206Z"
   },
   {
    "duration": 4,
    "start_time": "2021-11-11T04:30:06.487Z"
   },
   {
    "duration": 1074,
    "start_time": "2021-11-11T04:30:07.479Z"
   },
   {
    "duration": 945,
    "start_time": "2021-11-11T04:35:29.605Z"
   },
   {
    "duration": 1671,
    "start_time": "2021-11-11T10:10:26.111Z"
   },
   {
    "duration": 36,
    "start_time": "2021-11-11T10:10:27.785Z"
   },
   {
    "duration": 13,
    "start_time": "2021-11-11T10:10:27.825Z"
   },
   {
    "duration": 25,
    "start_time": "2021-11-11T10:10:27.840Z"
   },
   {
    "duration": 20,
    "start_time": "2021-11-11T10:10:27.868Z"
   },
   {
    "duration": 5,
    "start_time": "2021-11-11T10:10:27.891Z"
   },
   {
    "duration": 78,
    "start_time": "2021-11-11T10:10:27.898Z"
   },
   {
    "duration": 18,
    "start_time": "2021-11-11T10:10:27.979Z"
   },
   {
    "duration": 76,
    "start_time": "2021-11-11T10:10:28.001Z"
   },
   {
    "duration": 69,
    "start_time": "2021-11-11T10:10:28.080Z"
   },
   {
    "duration": 8,
    "start_time": "2021-11-11T10:10:28.152Z"
   },
   {
    "duration": 1052,
    "start_time": "2021-11-11T10:10:28.162Z"
   },
   {
    "duration": 14,
    "start_time": "2021-11-11T10:10:29.217Z"
   },
   {
    "duration": 27,
    "start_time": "2021-11-11T10:10:29.233Z"
   },
   {
    "duration": 4,
    "start_time": "2021-11-11T10:10:29.262Z"
   },
   {
    "duration": 29,
    "start_time": "2021-11-11T10:10:29.269Z"
   },
   {
    "duration": 3,
    "start_time": "2021-11-11T10:10:29.301Z"
   },
   {
    "duration": 310,
    "start_time": "2021-11-11T10:10:29.329Z"
   },
   {
    "duration": 33,
    "start_time": "2021-11-11T10:10:29.641Z"
   },
   {
    "duration": 5,
    "start_time": "2021-11-11T10:10:29.676Z"
   },
   {
    "duration": 50,
    "start_time": "2021-11-11T10:10:29.683Z"
   },
   {
    "duration": 13,
    "start_time": "2021-11-11T10:10:29.736Z"
   },
   {
    "duration": 21,
    "start_time": "2021-11-11T10:10:29.751Z"
   },
   {
    "duration": 990,
    "start_time": "2021-11-11T10:10:29.774Z"
   },
   {
    "duration": 33,
    "start_time": "2021-11-11T10:10:30.766Z"
   },
   {
    "duration": 148,
    "start_time": "2021-11-11T10:10:30.802Z"
   },
   {
    "duration": 4,
    "start_time": "2021-11-11T10:10:30.955Z"
   },
   {
    "duration": 2019,
    "start_time": "2021-11-11T10:10:30.961Z"
   },
   {
    "duration": 3124,
    "start_time": "2021-11-11T10:10:32.982Z"
   },
   {
    "duration": 4,
    "start_time": "2021-11-11T10:10:36.109Z"
   },
   {
    "duration": 6471,
    "start_time": "2021-11-11T10:10:36.115Z"
   },
   {
    "duration": 4,
    "start_time": "2021-11-11T10:10:42.589Z"
   },
   {
    "duration": 31,
    "start_time": "2021-11-11T10:10:42.596Z"
   },
   {
    "duration": 21,
    "start_time": "2021-11-11T10:10:42.629Z"
   },
   {
    "duration": 24,
    "start_time": "2021-11-11T10:10:42.652Z"
   },
   {
    "duration": 158,
    "start_time": "2021-11-11T10:10:42.678Z"
   },
   {
    "duration": 33,
    "start_time": "2021-11-11T10:10:42.838Z"
   },
   {
    "duration": 20,
    "start_time": "2021-11-11T10:10:42.874Z"
   },
   {
    "duration": 33,
    "start_time": "2021-11-11T10:10:42.896Z"
   },
   {
    "duration": 19,
    "start_time": "2021-11-11T10:10:42.931Z"
   },
   {
    "duration": 16,
    "start_time": "2021-11-11T10:10:42.952Z"
   },
   {
    "duration": 1301,
    "start_time": "2021-11-11T10:10:42.970Z"
   },
   {
    "duration": 40,
    "start_time": "2021-11-11T10:10:44.274Z"
   },
   {
    "duration": 101,
    "start_time": "2021-11-11T10:10:44.328Z"
   },
   {
    "duration": 414,
    "start_time": "2021-11-11T10:11:54.438Z"
   },
   {
    "duration": 1164,
    "start_time": "2021-11-11T10:12:10.207Z"
   },
   {
    "duration": 23,
    "start_time": "2021-11-11T10:12:41.259Z"
   },
   {
    "duration": 103,
    "start_time": "2021-11-11T10:15:29.139Z"
   },
   {
    "duration": 7,
    "start_time": "2021-11-11T10:15:29.729Z"
   },
   {
    "duration": 7,
    "start_time": "2021-11-11T10:15:45.239Z"
   },
   {
    "duration": 7,
    "start_time": "2021-11-11T10:15:47.059Z"
   },
   {
    "duration": 4,
    "start_time": "2021-11-11T10:15:47.869Z"
   },
   {
    "duration": 5,
    "start_time": "2021-11-11T10:15:48.089Z"
   },
   {
    "duration": 1266,
    "start_time": "2021-11-11T10:15:49.179Z"
   },
   {
    "duration": 6,
    "start_time": "2021-11-11T10:15:51.598Z"
   },
   {
    "duration": 274,
    "start_time": "2021-11-11T10:15:56.488Z"
   },
   {
    "duration": 111,
    "start_time": "2021-11-11T10:16:38.169Z"
   },
   {
    "duration": 1052,
    "start_time": "2021-11-11T10:17:01.909Z"
   },
   {
    "duration": 4,
    "start_time": "2021-11-11T10:17:34.968Z"
   },
   {
    "duration": 605,
    "start_time": "2021-11-11T10:17:41.569Z"
   },
   {
    "duration": 7,
    "start_time": "2021-11-11T10:17:59.451Z"
   },
   {
    "duration": 5,
    "start_time": "2021-11-11T10:17:59.769Z"
   },
   {
    "duration": 6,
    "start_time": "2021-11-11T10:18:00.083Z"
   },
   {
    "duration": 1180,
    "start_time": "2021-11-11T10:18:00.649Z"
   },
   {
    "duration": 3,
    "start_time": "2021-11-11T10:18:03.009Z"
   },
   {
    "duration": 112,
    "start_time": "2021-11-11T10:18:04.058Z"
   },
   {
    "duration": 626,
    "start_time": "2021-11-11T10:18:08.018Z"
   },
   {
    "duration": 8,
    "start_time": "2021-11-11T10:20:01.860Z"
   },
   {
    "duration": 5,
    "start_time": "2021-11-11T10:20:02.119Z"
   },
   {
    "duration": 5,
    "start_time": "2021-11-11T10:20:02.509Z"
   },
   {
    "duration": 1154,
    "start_time": "2021-11-11T10:20:03.187Z"
   },
   {
    "duration": 4,
    "start_time": "2021-11-11T10:20:05.751Z"
   },
   {
    "duration": 111,
    "start_time": "2021-11-11T10:20:07.758Z"
   },
   {
    "duration": 559,
    "start_time": "2021-11-11T10:20:09.390Z"
   },
   {
    "duration": 5,
    "start_time": "2021-11-11T10:20:33.298Z"
   },
   {
    "duration": 1186,
    "start_time": "2021-11-11T10:20:34.328Z"
   },
   {
    "duration": 4,
    "start_time": "2021-11-11T10:20:35.517Z"
   },
   {
    "duration": 129,
    "start_time": "2021-11-11T10:20:35.523Z"
   },
   {
    "duration": 514,
    "start_time": "2021-11-11T10:20:37.010Z"
   },
   {
    "duration": 6,
    "start_time": "2021-11-11T10:21:05.465Z"
   },
   {
    "duration": 558,
    "start_time": "2021-11-11T10:21:09.478Z"
   },
   {
    "duration": 4,
    "start_time": "2021-11-11T10:21:41.849Z"
   },
   {
    "duration": 543,
    "start_time": "2021-11-11T10:21:46.158Z"
   },
   {
    "duration": 5,
    "start_time": "2021-11-11T10:23:08.159Z"
   },
   {
    "duration": 603,
    "start_time": "2021-11-11T10:23:21.250Z"
   },
   {
    "duration": 5,
    "start_time": "2021-11-11T10:23:38.239Z"
   },
   {
    "duration": 379,
    "start_time": "2021-11-11T10:23:41.018Z"
   },
   {
    "duration": 6,
    "start_time": "2021-11-11T10:36:33.540Z"
   },
   {
    "duration": 35,
    "start_time": "2021-11-11T10:40:09.829Z"
   },
   {
    "duration": 21,
    "start_time": "2021-11-11T10:40:15.170Z"
   },
   {
    "duration": 97,
    "start_time": "2021-11-11T10:46:12.531Z"
   },
   {
    "duration": 8,
    "start_time": "2021-11-11T10:46:24.261Z"
   },
   {
    "duration": 8,
    "start_time": "2021-11-11T10:46:38.180Z"
   },
   {
    "duration": 8,
    "start_time": "2021-11-11T10:46:54.771Z"
   },
   {
    "duration": 5,
    "start_time": "2021-11-11T10:46:55.170Z"
   },
   {
    "duration": 6,
    "start_time": "2021-11-11T10:46:55.779Z"
   },
   {
    "duration": 4,
    "start_time": "2021-11-11T10:46:56.760Z"
   },
   {
    "duration": 283,
    "start_time": "2021-11-11T10:46:57.959Z"
   },
   {
    "duration": 318,
    "start_time": "2021-11-11T10:47:07.139Z"
   },
   {
    "duration": 12,
    "start_time": "2021-11-11T10:47:53.721Z"
   },
   {
    "duration": 4,
    "start_time": "2021-11-11T10:47:56.370Z"
   },
   {
    "duration": 8,
    "start_time": "2021-11-11T10:48:02.120Z"
   },
   {
    "duration": 4,
    "start_time": "2021-11-11T10:48:03.610Z"
   },
   {
    "duration": 5,
    "start_time": "2021-11-11T10:48:03.878Z"
   },
   {
    "duration": 4,
    "start_time": "2021-11-11T10:48:04.970Z"
   },
   {
    "duration": 5,
    "start_time": "2021-11-11T10:48:35.740Z"
   },
   {
    "duration": 289,
    "start_time": "2021-11-11T10:48:37.718Z"
   },
   {
    "duration": 9,
    "start_time": "2021-11-11T10:49:01.882Z"
   },
   {
    "duration": 19,
    "start_time": "2021-11-11T10:49:01.894Z"
   },
   {
    "duration": 19,
    "start_time": "2021-11-11T10:49:01.916Z"
   },
   {
    "duration": 1727,
    "start_time": "2021-11-11T10:49:01.938Z"
   },
   {
    "duration": 8,
    "start_time": "2021-11-11T10:50:13.461Z"
   },
   {
    "duration": 1818,
    "start_time": "2021-11-11T10:50:16.685Z"
   },
   {
    "duration": 8,
    "start_time": "2021-11-11T10:50:40.118Z"
   },
   {
    "duration": 1754,
    "start_time": "2021-11-11T10:50:42.880Z"
   },
   {
    "duration": 7,
    "start_time": "2021-11-11T10:51:12.992Z"
   },
   {
    "duration": 11668,
    "start_time": "2021-11-11T10:51:16.420Z"
   },
   {
    "duration": 6,
    "start_time": "2021-11-11T10:51:36.143Z"
   },
   {
    "duration": 276,
    "start_time": "2021-11-11T10:51:36.571Z"
   },
   {
    "duration": 6,
    "start_time": "2021-11-11T10:51:47.121Z"
   },
   {
    "duration": 311,
    "start_time": "2021-11-11T10:51:47.569Z"
   },
   {
    "duration": 262,
    "start_time": "2021-11-11T10:52:05.821Z"
   },
   {
    "duration": 6,
    "start_time": "2021-11-11T10:52:32.700Z"
   },
   {
    "duration": 9,
    "start_time": "2021-11-11T10:52:40.809Z"
   },
   {
    "duration": 9,
    "start_time": "2021-11-11T10:53:42.136Z"
   },
   {
    "duration": 9,
    "start_time": "2021-11-11T10:53:50.990Z"
   },
   {
    "duration": 6,
    "start_time": "2021-11-11T10:54:03.800Z"
   },
   {
    "duration": 264,
    "start_time": "2021-11-11T10:54:11.230Z"
   },
   {
    "duration": 268,
    "start_time": "2021-11-11T10:54:51.690Z"
   },
   {
    "duration": 365,
    "start_time": "2021-11-11T10:55:03.674Z"
   },
   {
    "duration": 4,
    "start_time": "2021-11-11T10:55:28.450Z"
   },
   {
    "duration": 92,
    "start_time": "2021-11-11T10:55:43.052Z"
   },
   {
    "duration": 6,
    "start_time": "2021-11-11T10:55:49.569Z"
   },
   {
    "duration": 298,
    "start_time": "2021-11-11T10:56:09.111Z"
   },
   {
    "duration": 6,
    "start_time": "2021-11-11T10:57:05.362Z"
   },
   {
    "duration": 5,
    "start_time": "2021-11-11T10:57:21.108Z"
   },
   {
    "duration": 8,
    "start_time": "2021-11-11T10:57:28.420Z"
   },
   {
    "duration": 4,
    "start_time": "2021-11-11T10:57:29.497Z"
   },
   {
    "duration": 6,
    "start_time": "2021-11-11T10:57:29.750Z"
   },
   {
    "duration": 4601,
    "start_time": "2021-11-11T10:57:30.813Z"
   },
   {
    "duration": 8,
    "start_time": "2021-11-11T10:57:45.731Z"
   },
   {
    "duration": 4,
    "start_time": "2021-11-11T10:57:46.050Z"
   },
   {
    "duration": 5,
    "start_time": "2021-11-11T10:57:46.210Z"
   },
   {
    "duration": 2461,
    "start_time": "2021-11-11T10:57:46.689Z"
   },
   {
    "duration": 9,
    "start_time": "2021-11-11T10:59:05.446Z"
   },
   {
    "duration": 4405,
    "start_time": "2021-11-11T10:59:09.330Z"
   },
   {
    "duration": 7,
    "start_time": "2021-11-11T10:59:38.154Z"
   },
   {
    "duration": 4275,
    "start_time": "2021-11-11T10:59:41.279Z"
   },
   {
    "duration": 8,
    "start_time": "2021-11-11T11:00:09.360Z"
   },
   {
    "duration": 1776,
    "start_time": "2021-11-11T11:00:12.349Z"
   },
   {
    "duration": 8,
    "start_time": "2021-11-11T11:00:52.200Z"
   },
   {
    "duration": 8,
    "start_time": "2021-11-11T11:01:03.140Z"
   },
   {
    "duration": 4194,
    "start_time": "2021-11-11T11:01:14.289Z"
   },
   {
    "duration": 4422,
    "start_time": "2021-11-11T11:02:16.109Z"
   },
   {
    "duration": 8,
    "start_time": "2021-11-11T11:02:34.367Z"
   },
   {
    "duration": 4233,
    "start_time": "2021-11-11T11:02:37.079Z"
   },
   {
    "duration": 135,
    "start_time": "2021-11-11T11:02:52.409Z"
   },
   {
    "duration": 627,
    "start_time": "2021-11-11T11:03:34.639Z"
   },
   {
    "duration": 5,
    "start_time": "2021-11-11T11:04:32.939Z"
   },
   {
    "duration": 312,
    "start_time": "2021-11-11T11:04:37.139Z"
   },
   {
    "duration": 5,
    "start_time": "2021-11-11T11:05:31.451Z"
   },
   {
    "duration": 300,
    "start_time": "2021-11-11T11:05:34.980Z"
   },
   {
    "duration": 5,
    "start_time": "2021-11-11T11:05:52.980Z"
   },
   {
    "duration": 314,
    "start_time": "2021-11-11T11:05:55.729Z"
   },
   {
    "duration": 6,
    "start_time": "2021-11-11T11:07:31.131Z"
   },
   {
    "duration": 307,
    "start_time": "2021-11-11T11:07:34.220Z"
   },
   {
    "duration": 5,
    "start_time": "2021-11-11T11:07:55.309Z"
   },
   {
    "duration": 6,
    "start_time": "2021-11-11T11:08:04.269Z"
   },
   {
    "duration": 64,
    "start_time": "2021-11-11T11:08:10.152Z"
   },
   {
    "duration": 5,
    "start_time": "2021-11-11T11:09:04.917Z"
   },
   {
    "duration": 60,
    "start_time": "2021-11-11T11:09:04.925Z"
   },
   {
    "duration": 11,
    "start_time": "2021-11-11T11:09:04.989Z"
   },
   {
    "duration": 34,
    "start_time": "2021-11-11T11:09:05.003Z"
   },
   {
    "duration": 41,
    "start_time": "2021-11-11T11:09:05.040Z"
   },
   {
    "duration": 22,
    "start_time": "2021-11-11T11:09:05.083Z"
   },
   {
    "duration": 76,
    "start_time": "2021-11-11T11:09:05.107Z"
   },
   {
    "duration": 17,
    "start_time": "2021-11-11T11:09:05.187Z"
   },
   {
    "duration": 63,
    "start_time": "2021-11-11T11:09:05.207Z"
   },
   {
    "duration": 73,
    "start_time": "2021-11-11T11:09:05.273Z"
   },
   {
    "duration": 9,
    "start_time": "2021-11-11T11:09:05.348Z"
   },
   {
    "duration": 1155,
    "start_time": "2021-11-11T11:09:05.359Z"
   },
   {
    "duration": 15,
    "start_time": "2021-11-11T11:09:06.516Z"
   },
   {
    "duration": 30,
    "start_time": "2021-11-11T11:09:06.535Z"
   },
   {
    "duration": 17,
    "start_time": "2021-11-11T11:09:06.568Z"
   },
   {
    "duration": 55,
    "start_time": "2021-11-11T11:09:06.588Z"
   },
   {
    "duration": 8,
    "start_time": "2021-11-11T11:09:06.645Z"
   },
   {
    "duration": 338,
    "start_time": "2021-11-11T11:09:06.656Z"
   },
   {
    "duration": 47,
    "start_time": "2021-11-11T11:09:06.997Z"
   },
   {
    "duration": 6,
    "start_time": "2021-11-11T11:09:07.046Z"
   },
   {
    "duration": 42,
    "start_time": "2021-11-11T11:09:07.055Z"
   },
   {
    "duration": 21,
    "start_time": "2021-11-11T11:09:07.100Z"
   },
   {
    "duration": 22,
    "start_time": "2021-11-11T11:09:07.129Z"
   },
   {
    "duration": 1024,
    "start_time": "2021-11-11T11:09:07.155Z"
   },
   {
    "duration": 57,
    "start_time": "2021-11-11T11:09:08.181Z"
   },
   {
    "duration": 35,
    "start_time": "2021-11-11T11:09:08.241Z"
   },
   {
    "duration": 4,
    "start_time": "2021-11-11T11:09:08.279Z"
   },
   {
    "duration": 2228,
    "start_time": "2021-11-11T11:09:08.286Z"
   },
   {
    "duration": 3217,
    "start_time": "2021-11-11T11:09:10.529Z"
   },
   {
    "duration": 3,
    "start_time": "2021-11-11T11:09:13.748Z"
   },
   {
    "duration": 5749,
    "start_time": "2021-11-11T11:09:13.753Z"
   },
   {
    "duration": 3,
    "start_time": "2021-11-11T11:09:19.504Z"
   },
   {
    "duration": 8,
    "start_time": "2021-11-11T11:09:19.509Z"
   },
   {
    "duration": 7,
    "start_time": "2021-11-11T11:09:19.529Z"
   },
   {
    "duration": 8,
    "start_time": "2021-11-11T11:09:19.538Z"
   },
   {
    "duration": 10,
    "start_time": "2021-11-11T11:09:19.548Z"
   },
   {
    "duration": 36,
    "start_time": "2021-11-11T11:09:19.561Z"
   },
   {
    "duration": 48,
    "start_time": "2021-11-11T11:09:19.600Z"
   },
   {
    "duration": 10,
    "start_time": "2021-11-11T11:09:19.650Z"
   },
   {
    "duration": 10,
    "start_time": "2021-11-11T11:09:19.663Z"
   },
   {
    "duration": 8,
    "start_time": "2021-11-11T11:09:19.676Z"
   },
   {
    "duration": 4429,
    "start_time": "2021-11-11T11:09:19.686Z"
   },
   {
    "duration": 141,
    "start_time": "2021-11-11T11:09:24.117Z"
   },
   {
    "duration": 74,
    "start_time": "2021-11-11T11:09:24.260Z"
   },
   {
    "duration": 4985,
    "start_time": "2021-11-11T11:10:40.979Z"
   },
   {
    "duration": 59,
    "start_time": "2021-11-13T11:52:15.546Z"
   },
   {
    "duration": 55,
    "start_time": "2021-11-13T11:56:16.114Z"
   },
   {
    "duration": 1192,
    "start_time": "2021-11-13T12:27:06.672Z"
   },
   {
    "duration": 29,
    "start_time": "2021-11-13T12:27:07.866Z"
   },
   {
    "duration": 8,
    "start_time": "2021-11-13T12:27:07.897Z"
   },
   {
    "duration": 16,
    "start_time": "2021-11-13T12:27:07.907Z"
   },
   {
    "duration": 11,
    "start_time": "2021-11-13T12:27:07.925Z"
   },
   {
    "duration": 3,
    "start_time": "2021-11-13T12:27:07.938Z"
   },
   {
    "duration": 55,
    "start_time": "2021-11-13T12:27:07.943Z"
   },
   {
    "duration": 14,
    "start_time": "2021-11-13T12:27:08.000Z"
   },
   {
    "duration": 31,
    "start_time": "2021-11-13T12:27:08.018Z"
   },
   {
    "duration": 58,
    "start_time": "2021-11-13T12:27:08.052Z"
   },
   {
    "duration": 7,
    "start_time": "2021-11-13T12:27:08.112Z"
   },
   {
    "duration": 5,
    "start_time": "2021-11-13T12:27:08.121Z"
   },
   {
    "duration": 21,
    "start_time": "2021-11-13T12:27:08.128Z"
   },
   {
    "duration": 4,
    "start_time": "2021-11-13T12:27:08.150Z"
   },
   {
    "duration": 43,
    "start_time": "2021-11-13T12:27:08.156Z"
   },
   {
    "duration": 3,
    "start_time": "2021-11-13T12:27:08.200Z"
   },
   {
    "duration": 202,
    "start_time": "2021-11-13T12:27:08.205Z"
   },
   {
    "duration": 23,
    "start_time": "2021-11-13T12:27:08.409Z"
   },
   {
    "duration": 4,
    "start_time": "2021-11-13T12:27:08.434Z"
   },
   {
    "duration": 20,
    "start_time": "2021-11-13T12:27:08.440Z"
   },
   {
    "duration": 6,
    "start_time": "2021-11-13T12:27:08.462Z"
   },
   {
    "duration": 4,
    "start_time": "2021-11-13T12:27:08.492Z"
   },
   {
    "duration": 622,
    "start_time": "2021-11-13T12:27:08.497Z"
   },
   {
    "duration": 22,
    "start_time": "2021-11-13T12:27:09.120Z"
   },
   {
    "duration": 20,
    "start_time": "2021-11-13T12:27:09.144Z"
   },
   {
    "duration": 2,
    "start_time": "2021-11-13T12:27:09.166Z"
   },
   {
    "duration": 1163,
    "start_time": "2021-11-13T12:27:09.191Z"
   },
   {
    "duration": 1822,
    "start_time": "2021-11-13T12:27:10.356Z"
   },
   {
    "duration": 4,
    "start_time": "2021-11-13T12:27:12.180Z"
   },
   {
    "duration": 3687,
    "start_time": "2021-11-13T12:27:12.192Z"
   },
   {
    "duration": 2,
    "start_time": "2021-11-13T12:27:15.881Z"
   },
   {
    "duration": 2,
    "start_time": "2021-11-13T12:27:15.890Z"
   },
   {
    "duration": 5,
    "start_time": "2021-11-13T12:27:15.894Z"
   },
   {
    "duration": 8,
    "start_time": "2021-11-13T12:27:15.901Z"
   },
   {
    "duration": 10,
    "start_time": "2021-11-13T12:27:15.911Z"
   },
   {
    "duration": 24,
    "start_time": "2021-11-13T12:27:15.923Z"
   },
   {
    "duration": 294,
    "start_time": "2021-11-13T12:27:15.948Z"
   },
   {
    "duration": -741,
    "start_time": "2021-11-13T12:27:16.985Z"
   },
   {
    "duration": -744,
    "start_time": "2021-11-13T12:27:16.989Z"
   },
   {
    "duration": -748,
    "start_time": "2021-11-13T12:27:16.993Z"
   },
   {
    "duration": -751,
    "start_time": "2021-11-13T12:27:16.997Z"
   },
   {
    "duration": -753,
    "start_time": "2021-11-13T12:27:17.000Z"
   },
   {
    "duration": -756,
    "start_time": "2021-11-13T12:27:17.004Z"
   },
   {
    "duration": -759,
    "start_time": "2021-11-13T12:27:17.008Z"
   },
   {
    "duration": 1560,
    "start_time": "2021-11-14T09:32:03.921Z"
   },
   {
    "duration": 39,
    "start_time": "2021-11-14T09:32:05.484Z"
   },
   {
    "duration": 11,
    "start_time": "2021-11-14T09:32:05.526Z"
   },
   {
    "duration": 23,
    "start_time": "2021-11-14T09:32:05.540Z"
   },
   {
    "duration": 22,
    "start_time": "2021-11-14T09:32:05.566Z"
   },
   {
    "duration": 6,
    "start_time": "2021-11-14T09:32:05.590Z"
   },
   {
    "duration": 52,
    "start_time": "2021-11-14T09:32:05.624Z"
   },
   {
    "duration": 18,
    "start_time": "2021-11-14T09:32:05.679Z"
   },
   {
    "duration": 53,
    "start_time": "2021-11-14T09:32:05.725Z"
   },
   {
    "duration": 83,
    "start_time": "2021-11-14T09:32:05.782Z"
   },
   {
    "duration": 9,
    "start_time": "2021-11-14T09:32:05.867Z"
   },
   {
    "duration": 6,
    "start_time": "2021-11-14T09:32:05.879Z"
   },
   {
    "duration": 47,
    "start_time": "2021-11-14T09:32:05.888Z"
   },
   {
    "duration": 5,
    "start_time": "2021-11-14T09:32:05.937Z"
   },
   {
    "duration": 33,
    "start_time": "2021-11-14T09:32:05.945Z"
   },
   {
    "duration": 4,
    "start_time": "2021-11-14T09:32:05.981Z"
   },
   {
    "duration": 331,
    "start_time": "2021-11-14T09:32:05.988Z"
   },
   {
    "duration": 33,
    "start_time": "2021-11-14T09:32:06.322Z"
   },
   {
    "duration": 6,
    "start_time": "2021-11-14T09:32:06.358Z"
   },
   {
    "duration": 27,
    "start_time": "2021-11-14T09:32:06.366Z"
   },
   {
    "duration": 32,
    "start_time": "2021-11-14T09:32:06.395Z"
   },
   {
    "duration": 5,
    "start_time": "2021-11-14T09:32:06.430Z"
   },
   {
    "duration": 979,
    "start_time": "2021-11-14T09:32:06.438Z"
   },
   {
    "duration": 34,
    "start_time": "2021-11-14T09:32:07.423Z"
   },
   {
    "duration": 33,
    "start_time": "2021-11-14T09:32:07.460Z"
   },
   {
    "duration": 28,
    "start_time": "2021-11-14T09:32:07.495Z"
   },
   {
    "duration": 2023,
    "start_time": "2021-11-14T09:32:07.529Z"
   },
   {
    "duration": 3119,
    "start_time": "2021-11-14T09:32:09.554Z"
   },
   {
    "duration": 4,
    "start_time": "2021-11-14T09:32:12.675Z"
   },
   {
    "duration": 5964,
    "start_time": "2021-11-14T09:32:12.681Z"
   },
   {
    "duration": 3,
    "start_time": "2021-11-14T09:32:18.648Z"
   },
   {
    "duration": 10,
    "start_time": "2021-11-14T09:32:18.653Z"
   },
   {
    "duration": 8,
    "start_time": "2021-11-14T09:32:18.665Z"
   },
   {
    "duration": 20,
    "start_time": "2021-11-14T09:32:18.675Z"
   },
   {
    "duration": 25,
    "start_time": "2021-11-14T09:32:18.697Z"
   },
   {
    "duration": 43,
    "start_time": "2021-11-14T09:32:18.724Z"
   },
   {
    "duration": 433,
    "start_time": "2021-11-14T09:32:18.770Z"
   },
   {
    "duration": -39,
    "start_time": "2021-11-14T09:32:19.245Z"
   },
   {
    "duration": -54,
    "start_time": "2021-11-14T09:32:19.261Z"
   },
   {
    "duration": -60,
    "start_time": "2021-11-14T09:32:19.269Z"
   },
   {
    "duration": -67,
    "start_time": "2021-11-14T09:32:19.277Z"
   },
   {
    "duration": -74,
    "start_time": "2021-11-14T09:32:19.286Z"
   },
   {
    "duration": -80,
    "start_time": "2021-11-14T09:32:19.293Z"
   },
   {
    "duration": -86,
    "start_time": "2021-11-14T09:32:19.301Z"
   },
   {
    "duration": 124,
    "start_time": "2021-11-14T09:33:35.377Z"
   },
   {
    "duration": 120,
    "start_time": "2021-11-14T09:33:44.389Z"
   },
   {
    "duration": 37,
    "start_time": "2021-11-14T09:33:45.032Z"
   },
   {
    "duration": 24,
    "start_time": "2021-11-14T09:33:45.876Z"
   },
   {
    "duration": 9,
    "start_time": "2021-11-14T09:34:07.182Z"
   },
   {
    "duration": 4,
    "start_time": "2021-11-14T09:34:07.741Z"
   },
   {
    "duration": 5,
    "start_time": "2021-11-14T09:34:08.515Z"
   },
   {
    "duration": 4218,
    "start_time": "2021-11-14T09:34:09.250Z"
   },
   {
    "duration": 147,
    "start_time": "2021-11-14T09:34:13.471Z"
   },
   {
    "duration": 62,
    "start_time": "2021-11-14T09:34:13.751Z"
   },
   {
    "duration": 4982,
    "start_time": "2021-11-14T09:34:23.016Z"
   },
   {
    "duration": 9,
    "start_time": "2021-11-14T09:50:00.483Z"
   },
   {
    "duration": 5,
    "start_time": "2021-11-14T09:50:01.482Z"
   },
   {
    "duration": 5,
    "start_time": "2021-11-14T09:50:02.797Z"
   },
   {
    "duration": 1557,
    "start_time": "2021-11-14T09:50:03.938Z"
   },
   {
    "duration": 144,
    "start_time": "2021-11-14T09:50:05.498Z"
   },
   {
    "duration": 84,
    "start_time": "2021-11-14T09:50:05.644Z"
   },
   {
    "duration": 2529,
    "start_time": "2021-11-14T09:50:10.959Z"
   },
   {
    "duration": 8,
    "start_time": "2021-11-14T09:52:19.737Z"
   },
   {
    "duration": 4,
    "start_time": "2021-11-14T09:52:19.905Z"
   },
   {
    "duration": 6,
    "start_time": "2021-11-14T09:52:20.083Z"
   },
   {
    "duration": 2022,
    "start_time": "2021-11-14T09:52:20.887Z"
   },
   {
    "duration": 146,
    "start_time": "2021-11-14T09:52:22.912Z"
   },
   {
    "duration": 76,
    "start_time": "2021-11-14T09:52:23.061Z"
   },
   {
    "duration": 2639,
    "start_time": "2021-11-14T09:52:28.747Z"
   },
   {
    "duration": 7,
    "start_time": "2021-11-14T09:53:11.075Z"
   },
   {
    "duration": 5,
    "start_time": "2021-11-14T09:53:11.651Z"
   },
   {
    "duration": 6,
    "start_time": "2021-11-14T09:53:11.821Z"
   },
   {
    "duration": 4207,
    "start_time": "2021-11-14T09:53:12.064Z"
   },
   {
    "duration": 138,
    "start_time": "2021-11-14T09:53:16.274Z"
   },
   {
    "duration": 67,
    "start_time": "2021-11-14T09:53:16.415Z"
   },
   {
    "duration": 4838,
    "start_time": "2021-11-14T09:53:16.484Z"
   },
   {
    "duration": 4,
    "start_time": "2021-11-14T09:55:06.458Z"
   },
   {
    "duration": 9,
    "start_time": "2021-11-14T10:02:05.528Z"
   },
   {
    "duration": 3,
    "start_time": "2021-11-14T10:02:10.145Z"
   },
   {
    "duration": 1436,
    "start_time": "2021-11-14T10:02:29.997Z"
   },
   {
    "duration": 5,
    "start_time": "2021-11-14T10:02:47.197Z"
   },
   {
    "duration": 45,
    "start_time": "2021-11-14T10:02:47.205Z"
   },
   {
    "duration": 11,
    "start_time": "2021-11-14T10:02:47.253Z"
   },
   {
    "duration": 55,
    "start_time": "2021-11-14T10:02:47.267Z"
   },
   {
    "duration": 15,
    "start_time": "2021-11-14T10:02:47.325Z"
   },
   {
    "duration": 6,
    "start_time": "2021-11-14T10:02:47.342Z"
   },
   {
    "duration": 86,
    "start_time": "2021-11-14T10:02:47.350Z"
   },
   {
    "duration": 17,
    "start_time": "2021-11-14T10:02:47.439Z"
   },
   {
    "duration": 82,
    "start_time": "2021-11-14T10:02:47.459Z"
   },
   {
    "duration": 50,
    "start_time": "2021-11-14T10:02:47.543Z"
   },
   {
    "duration": 31,
    "start_time": "2021-11-14T10:02:47.595Z"
   },
   {
    "duration": 7,
    "start_time": "2021-11-14T10:02:47.628Z"
   },
   {
    "duration": 19,
    "start_time": "2021-11-14T10:02:47.637Z"
   },
   {
    "duration": 5,
    "start_time": "2021-11-14T10:02:47.658Z"
   },
   {
    "duration": 70,
    "start_time": "2021-11-14T10:02:47.666Z"
   },
   {
    "duration": 4,
    "start_time": "2021-11-14T10:02:47.738Z"
   },
   {
    "duration": 457,
    "start_time": "2021-11-14T10:02:47.746Z"
   },
   {
    "duration": 41,
    "start_time": "2021-11-14T10:02:48.206Z"
   },
   {
    "duration": 5,
    "start_time": "2021-11-14T10:02:48.250Z"
   },
   {
    "duration": 20,
    "start_time": "2021-11-14T10:02:48.258Z"
   },
   {
    "duration": 7,
    "start_time": "2021-11-14T10:02:48.280Z"
   },
   {
    "duration": 37,
    "start_time": "2021-11-14T10:02:48.290Z"
   },
   {
    "duration": 959,
    "start_time": "2021-11-14T10:02:48.332Z"
   },
   {
    "duration": 46,
    "start_time": "2021-11-14T10:02:49.295Z"
   },
   {
    "duration": 32,
    "start_time": "2021-11-14T10:02:49.344Z"
   },
   {
    "duration": 3,
    "start_time": "2021-11-14T10:02:49.379Z"
   },
   {
    "duration": 2000,
    "start_time": "2021-11-14T10:02:49.385Z"
   },
   {
    "duration": 3278,
    "start_time": "2021-11-14T10:02:51.387Z"
   },
   {
    "duration": 4,
    "start_time": "2021-11-14T10:02:54.668Z"
   },
   {
    "duration": 5847,
    "start_time": "2021-11-14T10:02:54.675Z"
   },
   {
    "duration": 3,
    "start_time": "2021-11-14T10:03:00.525Z"
   },
   {
    "duration": 8,
    "start_time": "2021-11-14T10:03:00.531Z"
   },
   {
    "duration": 13,
    "start_time": "2021-11-14T10:03:00.542Z"
   },
   {
    "duration": 2839930,
    "start_time": "2021-11-14T10:03:00.557Z"
   },
   {
    "duration": 118,
    "start_time": "2021-11-14T10:50:20.490Z"
   },
   {
    "duration": 38,
    "start_time": "2021-11-14T10:50:20.610Z"
   },
   {
    "duration": 23,
    "start_time": "2021-11-14T10:50:20.650Z"
   },
   {
    "duration": 8,
    "start_time": "2021-11-14T10:50:20.675Z"
   },
   {
    "duration": 13,
    "start_time": "2021-11-14T10:50:20.686Z"
   },
   {
    "duration": 6,
    "start_time": "2021-11-14T10:50:20.722Z"
   },
   {
    "duration": 4373,
    "start_time": "2021-11-14T10:50:20.730Z"
   },
   {
    "duration": 5,
    "start_time": "2021-11-14T10:50:30.223Z"
   },
   {
    "duration": 43,
    "start_time": "2021-11-14T10:50:30.231Z"
   },
   {
    "duration": 10,
    "start_time": "2021-11-14T10:50:30.276Z"
   },
   {
    "duration": 35,
    "start_time": "2021-11-14T10:50:30.289Z"
   },
   {
    "duration": 24,
    "start_time": "2021-11-14T10:50:30.326Z"
   },
   {
    "duration": 7,
    "start_time": "2021-11-14T10:50:30.353Z"
   },
   {
    "duration": 76,
    "start_time": "2021-11-14T10:50:30.363Z"
   },
   {
    "duration": 22,
    "start_time": "2021-11-14T10:50:30.442Z"
   },
   {
    "duration": 87,
    "start_time": "2021-11-14T10:50:30.466Z"
   },
   {
    "duration": 72,
    "start_time": "2021-11-14T10:50:30.556Z"
   },
   {
    "duration": 11,
    "start_time": "2021-11-14T10:50:30.632Z"
   },
   {
    "duration": 7,
    "start_time": "2021-11-14T10:50:30.645Z"
   },
   {
    "duration": 36,
    "start_time": "2021-11-14T10:50:30.654Z"
   },
   {
    "duration": 6,
    "start_time": "2021-11-14T10:50:30.693Z"
   },
   {
    "duration": 48,
    "start_time": "2021-11-14T10:50:30.701Z"
   },
   {
    "duration": 4,
    "start_time": "2021-11-14T10:50:30.751Z"
   },
   {
    "duration": 342,
    "start_time": "2021-11-14T10:50:30.757Z"
   },
   {
    "duration": 46,
    "start_time": "2021-11-14T10:50:31.101Z"
   },
   {
    "duration": 6,
    "start_time": "2021-11-14T10:50:31.150Z"
   },
   {
    "duration": 39,
    "start_time": "2021-11-14T10:50:31.158Z"
   },
   {
    "duration": 12,
    "start_time": "2021-11-14T10:50:31.200Z"
   },
   {
    "duration": 18,
    "start_time": "2021-11-14T10:50:31.214Z"
   },
   {
    "duration": 1078,
    "start_time": "2021-11-14T10:50:31.234Z"
   },
   {
    "duration": 35,
    "start_time": "2021-11-14T10:50:32.314Z"
   },
   {
    "duration": 32,
    "start_time": "2021-11-14T10:50:32.351Z"
   },
   {
    "duration": 3,
    "start_time": "2021-11-14T10:50:32.386Z"
   },
   {
    "duration": 2183,
    "start_time": "2021-11-14T10:50:32.392Z"
   },
   {
    "duration": 3025,
    "start_time": "2021-11-14T10:50:34.578Z"
   },
   {
    "duration": 4,
    "start_time": "2021-11-14T10:50:37.606Z"
   },
   {
    "duration": 5711,
    "start_time": "2021-11-14T10:50:37.622Z"
   },
   {
    "duration": 3,
    "start_time": "2021-11-14T10:50:43.336Z"
   },
   {
    "duration": 8,
    "start_time": "2021-11-14T10:50:43.348Z"
   },
   {
    "duration": 9,
    "start_time": "2021-11-14T10:50:43.359Z"
   },
   {
    "duration": 5268511,
    "start_time": "2021-11-14T10:50:43.370Z"
   },
   {
    "duration": 133,
    "start_time": "2021-11-14T12:18:31.884Z"
   },
   {
    "duration": 32,
    "start_time": "2021-11-14T12:18:32.022Z"
   },
   {
    "duration": 22,
    "start_time": "2021-11-14T12:18:32.056Z"
   },
   {
    "duration": 7,
    "start_time": "2021-11-14T12:18:32.081Z"
   },
   {
    "duration": 32,
    "start_time": "2021-11-14T12:18:32.090Z"
   },
   {
    "duration": 6,
    "start_time": "2021-11-14T12:18:32.125Z"
   },
   {
    "duration": 4256,
    "start_time": "2021-11-14T12:18:32.133Z"
   },
   {
    "duration": 143,
    "start_time": "2021-11-14T12:18:36.392Z"
   },
   {
    "duration": 62,
    "start_time": "2021-11-14T12:18:36.538Z"
   },
   {
    "duration": 5062,
    "start_time": "2021-11-14T12:18:36.602Z"
   },
   {
    "duration": 4,
    "start_time": "2021-11-14T12:26:22.050Z"
   },
   {
    "duration": 5,
    "start_time": "2021-11-14T12:26:47.360Z"
   },
   {
    "duration": 309,
    "start_time": "2021-11-14T12:35:47.563Z"
   },
   {
    "duration": 6,
    "start_time": "2021-11-14T12:36:03.777Z"
   },
   {
    "duration": 5,
    "start_time": "2021-11-14T12:36:10.587Z"
   },
   {
    "duration": 293,
    "start_time": "2021-11-14T12:36:21.910Z"
   },
   {
    "duration": 285,
    "start_time": "2021-11-14T12:36:35.237Z"
   },
   {
    "duration": 6,
    "start_time": "2021-11-14T12:36:42.952Z"
   },
   {
    "duration": 323,
    "start_time": "2021-11-14T12:36:52.872Z"
   },
   {
    "duration": 1386,
    "start_time": "2021-11-14T12:37:07.258Z"
   },
   {
    "duration": 13,
    "start_time": "2021-11-14T12:37:41.628Z"
   },
   {
    "duration": 310,
    "start_time": "2021-11-14T12:37:56.039Z"
   },
   {
    "duration": 4,
    "start_time": "2021-11-14T12:38:16.638Z"
   },
   {
    "duration": 6,
    "start_time": "2021-11-14T12:38:23.240Z"
   },
   {
    "duration": 5,
    "start_time": "2021-11-14T12:39:08.417Z"
   },
   {
    "duration": 5,
    "start_time": "2021-11-14T12:39:11.584Z"
   },
   {
    "duration": 4,
    "start_time": "2021-11-14T12:40:54.257Z"
   },
   {
    "duration": 6,
    "start_time": "2021-11-14T12:42:48.814Z"
   },
   {
    "duration": 6,
    "start_time": "2021-11-14T12:42:52.577Z"
   },
   {
    "duration": 131,
    "start_time": "2021-11-14T12:43:00.576Z"
   },
   {
    "duration": 35,
    "start_time": "2021-11-14T12:43:01.282Z"
   },
   {
    "duration": 24,
    "start_time": "2021-11-14T12:43:01.910Z"
   },
   {
    "duration": 8,
    "start_time": "2021-11-14T12:43:16.504Z"
   },
   {
    "duration": 5,
    "start_time": "2021-11-14T12:43:16.992Z"
   },
   {
    "duration": 7,
    "start_time": "2021-11-14T12:43:17.685Z"
   },
   {
    "duration": 4537,
    "start_time": "2021-11-14T12:43:18.492Z"
   },
   {
    "duration": 142,
    "start_time": "2021-11-14T12:43:23.031Z"
   },
   {
    "duration": 74,
    "start_time": "2021-11-14T12:43:23.176Z"
   },
   {
    "duration": 5028,
    "start_time": "2021-11-14T12:43:27.299Z"
   },
   {
    "duration": 587,
    "start_time": "2021-11-14T12:55:26.957Z"
   },
   {
    "duration": 62,
    "start_time": "2021-11-14T12:55:29.738Z"
   },
   {
    "duration": 4896,
    "start_time": "2021-11-14T12:55:33.102Z"
   },
   {
    "duration": 5,
    "start_time": "2021-11-14T13:01:57.073Z"
   },
   {
    "duration": 5,
    "start_time": "2021-11-14T13:02:02.336Z"
   },
   {
    "duration": 24,
    "start_time": "2021-11-14T13:36:02.045Z"
   },
   {
    "duration": 6,
    "start_time": "2021-11-14T13:36:53.095Z"
   },
   {
    "duration": 51,
    "start_time": "2021-11-14T13:36:53.105Z"
   },
   {
    "duration": 17,
    "start_time": "2021-11-14T13:36:53.160Z"
   },
   {
    "duration": 62,
    "start_time": "2021-11-14T13:36:53.180Z"
   },
   {
    "duration": 20,
    "start_time": "2021-11-14T13:36:53.244Z"
   },
   {
    "duration": 5,
    "start_time": "2021-11-14T13:36:53.267Z"
   },
   {
    "duration": 97,
    "start_time": "2021-11-14T13:36:53.275Z"
   },
   {
    "duration": 22,
    "start_time": "2021-11-14T13:36:53.375Z"
   },
   {
    "duration": 54,
    "start_time": "2021-11-14T13:36:53.425Z"
   },
   {
    "duration": 78,
    "start_time": "2021-11-14T13:36:53.482Z"
   },
   {
    "duration": 8,
    "start_time": "2021-11-14T13:36:53.562Z"
   },
   {
    "duration": 7,
    "start_time": "2021-11-14T13:36:53.572Z"
   },
   {
    "duration": 17,
    "start_time": "2021-11-14T13:36:53.581Z"
   },
   {
    "duration": 4,
    "start_time": "2021-11-14T13:36:53.623Z"
   },
   {
    "duration": 37,
    "start_time": "2021-11-14T13:36:53.630Z"
   },
   {
    "duration": 4,
    "start_time": "2021-11-14T13:36:53.669Z"
   },
   {
    "duration": 369,
    "start_time": "2021-11-14T13:36:53.675Z"
   },
   {
    "duration": 35,
    "start_time": "2021-11-14T13:36:54.046Z"
   },
   {
    "duration": 6,
    "start_time": "2021-11-14T13:36:54.083Z"
   },
   {
    "duration": 48,
    "start_time": "2021-11-14T13:36:54.091Z"
   },
   {
    "duration": 8,
    "start_time": "2021-11-14T13:36:54.142Z"
   },
   {
    "duration": 7,
    "start_time": "2021-11-14T13:36:54.153Z"
   },
   {
    "duration": 1114,
    "start_time": "2021-11-14T13:36:54.163Z"
   },
   {
    "duration": 52,
    "start_time": "2021-11-14T13:36:55.280Z"
   },
   {
    "duration": 35,
    "start_time": "2021-11-14T13:36:55.336Z"
   },
   {
    "duration": 3,
    "start_time": "2021-11-14T13:36:55.374Z"
   },
   {
    "duration": 2282,
    "start_time": "2021-11-14T13:36:55.382Z"
   },
   {
    "duration": 3467,
    "start_time": "2021-11-14T13:36:57.668Z"
   },
   {
    "duration": 4,
    "start_time": "2021-11-14T13:37:01.138Z"
   },
   {
    "duration": 6268,
    "start_time": "2021-11-14T13:37:01.144Z"
   },
   {
    "duration": 8,
    "start_time": "2021-11-14T13:37:07.414Z"
   },
   {
    "duration": 5,
    "start_time": "2021-11-14T13:37:07.424Z"
   },
   {
    "duration": 17,
    "start_time": "2021-11-14T13:37:07.431Z"
   },
   {
    "duration": 20,
    "start_time": "2021-11-14T13:37:07.450Z"
   },
   {
    "duration": 25,
    "start_time": "2021-11-14T13:37:07.473Z"
   },
   {
    "duration": 242,
    "start_time": "2021-11-14T13:37:07.501Z"
   },
   {
    "duration": 35,
    "start_time": "2021-11-14T13:37:07.746Z"
   },
   {
    "duration": 38,
    "start_time": "2021-11-14T13:37:07.784Z"
   },
   {
    "duration": 7,
    "start_time": "2021-11-14T13:37:07.825Z"
   },
   {
    "duration": 7,
    "start_time": "2021-11-14T13:37:07.835Z"
   },
   {
    "duration": 4782,
    "start_time": "2021-11-14T13:37:07.844Z"
   },
   {
    "duration": 157,
    "start_time": "2021-11-14T13:37:12.628Z"
   },
   {
    "duration": 78,
    "start_time": "2021-11-14T13:37:12.787Z"
   },
   {
    "duration": 5604,
    "start_time": "2021-11-14T13:37:12.867Z"
   },
   {
    "duration": 25,
    "start_time": "2021-11-14T13:37:18.474Z"
   },
   {
    "duration": 6,
    "start_time": "2021-11-14T13:39:04.981Z"
   },
   {
    "duration": 46,
    "start_time": "2021-11-14T13:39:04.989Z"
   },
   {
    "duration": 12,
    "start_time": "2021-11-14T13:39:05.038Z"
   },
   {
    "duration": 20,
    "start_time": "2021-11-14T13:39:05.054Z"
   },
   {
    "duration": 59,
    "start_time": "2021-11-14T13:39:05.077Z"
   },
   {
    "duration": 6,
    "start_time": "2021-11-14T13:39:05.138Z"
   },
   {
    "duration": 89,
    "start_time": "2021-11-14T13:39:05.146Z"
   },
   {
    "duration": 17,
    "start_time": "2021-11-14T13:39:05.237Z"
   },
   {
    "duration": 80,
    "start_time": "2021-11-14T13:39:05.258Z"
   },
   {
    "duration": 51,
    "start_time": "2021-11-14T13:39:05.342Z"
   },
   {
    "duration": 27,
    "start_time": "2021-11-14T13:39:05.395Z"
   },
   {
    "duration": 6,
    "start_time": "2021-11-14T13:39:05.425Z"
   },
   {
    "duration": 20,
    "start_time": "2021-11-14T13:39:05.434Z"
   },
   {
    "duration": 5,
    "start_time": "2021-11-14T13:39:05.457Z"
   },
   {
    "duration": 73,
    "start_time": "2021-11-14T13:39:05.465Z"
   },
   {
    "duration": 5,
    "start_time": "2021-11-14T13:39:05.540Z"
   },
   {
    "duration": 446,
    "start_time": "2021-11-14T13:39:05.548Z"
   },
   {
    "duration": 52,
    "start_time": "2021-11-14T13:39:05.997Z"
   },
   {
    "duration": 6,
    "start_time": "2021-11-14T13:39:06.052Z"
   },
   {
    "duration": 29,
    "start_time": "2021-11-14T13:39:06.061Z"
   },
   {
    "duration": 31,
    "start_time": "2021-11-14T13:39:06.093Z"
   },
   {
    "duration": 9,
    "start_time": "2021-11-14T13:39:06.128Z"
   },
   {
    "duration": 1061,
    "start_time": "2021-11-14T13:39:06.140Z"
   },
   {
    "duration": 44,
    "start_time": "2021-11-14T13:39:07.204Z"
   },
   {
    "duration": 36,
    "start_time": "2021-11-14T13:39:07.251Z"
   },
   {
    "duration": 33,
    "start_time": "2021-11-14T13:39:07.290Z"
   },
   {
    "duration": 2013,
    "start_time": "2021-11-14T13:39:07.332Z"
   },
   {
    "duration": 3307,
    "start_time": "2021-11-14T13:39:09.349Z"
   },
   {
    "duration": 4,
    "start_time": "2021-11-14T13:39:12.659Z"
   },
   {
    "duration": 6096,
    "start_time": "2021-11-14T13:39:12.666Z"
   },
   {
    "duration": 3,
    "start_time": "2021-11-14T13:39:18.765Z"
   },
   {
    "duration": 10,
    "start_time": "2021-11-14T13:39:18.770Z"
   },
   {
    "duration": 9,
    "start_time": "2021-11-14T13:39:18.782Z"
   },
   {
    "duration": 5843289,
    "start_time": "2021-11-14T13:39:18.793Z"
   },
   {
    "duration": 4,
    "start_time": "2021-11-14T15:16:42.084Z"
   },
   {
    "duration": 159,
    "start_time": "2021-11-14T15:16:42.090Z"
   },
   {
    "duration": 35,
    "start_time": "2021-11-14T15:16:42.251Z"
   },
   {
    "duration": 47,
    "start_time": "2021-11-14T15:16:42.288Z"
   },
   {
    "duration": 8,
    "start_time": "2021-11-14T15:16:42.338Z"
   },
   {
    "duration": 21,
    "start_time": "2021-11-14T15:16:42.348Z"
   },
   {
    "duration": 4922,
    "start_time": "2021-11-14T15:16:42.371Z"
   },
   {
    "duration": 149,
    "start_time": "2021-11-14T15:16:47.295Z"
   },
   {
    "duration": 64,
    "start_time": "2021-11-14T15:16:47.447Z"
   },
   {
    "duration": 5493,
    "start_time": "2021-11-14T15:16:47.513Z"
   },
   {
    "duration": 32,
    "start_time": "2021-11-14T15:16:53.008Z"
   },
   {
    "duration": 6,
    "start_time": "2021-11-14T15:19:59.088Z"
   },
   {
    "duration": 8,
    "start_time": "2021-11-14T15:20:06.802Z"
   },
   {
    "duration": 144,
    "start_time": "2021-11-14T15:20:06.813Z"
   },
   {
    "duration": 37,
    "start_time": "2021-11-14T15:20:06.960Z"
   },
   {
    "duration": 39,
    "start_time": "2021-11-14T15:20:07.000Z"
   },
   {
    "duration": 8,
    "start_time": "2021-11-14T15:20:07.041Z"
   },
   {
    "duration": 9,
    "start_time": "2021-11-14T15:20:07.051Z"
   },
   {
    "duration": 15303,
    "start_time": "2021-11-14T15:20:07.062Z"
   },
   {
    "duration": 192,
    "start_time": "2021-11-14T15:20:22.367Z"
   },
   {
    "duration": 143,
    "start_time": "2021-11-14T15:20:22.562Z"
   },
   {
    "duration": 15778,
    "start_time": "2021-11-14T15:20:22.707Z"
   },
   {
    "duration": 41,
    "start_time": "2021-11-14T15:20:38.488Z"
   },
   {
    "duration": 6,
    "start_time": "2021-11-14T15:21:33.307Z"
   },
   {
    "duration": 360,
    "start_time": "2021-11-14T15:21:33.966Z"
   },
   {
    "duration": 35,
    "start_time": "2021-11-14T15:21:35.647Z"
   },
   {
    "duration": 31,
    "start_time": "2021-11-14T15:21:36.794Z"
   },
   {
    "duration": 8,
    "start_time": "2021-11-14T15:21:56.636Z"
   },
   {
    "duration": 6,
    "start_time": "2021-11-14T15:21:57.498Z"
   },
   {
    "duration": 9956,
    "start_time": "2021-11-14T15:21:58.885Z"
   },
   {
    "duration": 159,
    "start_time": "2021-11-14T15:22:08.844Z"
   },
   {
    "duration": 99,
    "start_time": "2021-11-14T15:22:09.006Z"
   },
   {
    "duration": 11273,
    "start_time": "2021-11-14T15:22:09.108Z"
   },
   {
    "duration": 34,
    "start_time": "2021-11-14T15:22:25.279Z"
   },
   {
    "duration": 329,
    "start_time": "2021-11-15T16:36:17.239Z"
   },
   {
    "duration": 8,
    "start_time": "2021-11-15T16:48:43.063Z"
   },
   {
    "duration": 1586,
    "start_time": "2021-11-15T17:03:37.202Z"
   },
   {
    "duration": 157,
    "start_time": "2021-11-15T17:03:38.790Z"
   },
   {
    "duration": 11,
    "start_time": "2021-11-15T17:03:38.950Z"
   },
   {
    "duration": 22,
    "start_time": "2021-11-15T17:03:38.964Z"
   },
   {
    "duration": 16,
    "start_time": "2021-11-15T17:03:38.988Z"
   },
   {
    "duration": 5,
    "start_time": "2021-11-15T17:03:39.006Z"
   },
   {
    "duration": 87,
    "start_time": "2021-11-15T17:03:39.013Z"
   },
   {
    "duration": 17,
    "start_time": "2021-11-15T17:03:39.102Z"
   },
   {
    "duration": 76,
    "start_time": "2021-11-15T17:03:39.123Z"
   },
   {
    "duration": 49,
    "start_time": "2021-11-15T17:03:39.202Z"
   },
   {
    "duration": 8,
    "start_time": "2021-11-15T17:03:39.268Z"
   },
   {
    "duration": 7,
    "start_time": "2021-11-15T17:03:39.278Z"
   },
   {
    "duration": 23,
    "start_time": "2021-11-15T17:03:39.288Z"
   },
   {
    "duration": 5,
    "start_time": "2021-11-15T17:03:39.313Z"
   },
   {
    "duration": 66,
    "start_time": "2021-11-15T17:03:39.320Z"
   },
   {
    "duration": 3,
    "start_time": "2021-11-15T17:03:39.389Z"
   },
   {
    "duration": 362,
    "start_time": "2021-11-15T17:03:39.395Z"
   },
   {
    "duration": 419,
    "start_time": "2021-11-15T17:03:39.767Z"
   },
   {
    "duration": 1726,
    "start_time": "2021-11-15T17:03:38.464Z"
   },
   {
    "duration": 1722,
    "start_time": "2021-11-15T17:03:38.469Z"
   },
   {
    "duration": 1720,
    "start_time": "2021-11-15T17:03:38.473Z"
   },
   {
    "duration": 1716,
    "start_time": "2021-11-15T17:03:38.478Z"
   },
   {
    "duration": 1714,
    "start_time": "2021-11-15T17:03:38.482Z"
   },
   {
    "duration": 1711,
    "start_time": "2021-11-15T17:03:38.486Z"
   },
   {
    "duration": 1709,
    "start_time": "2021-11-15T17:03:38.490Z"
   },
   {
    "duration": 1705,
    "start_time": "2021-11-15T17:03:38.495Z"
   },
   {
    "duration": 1703,
    "start_time": "2021-11-15T17:03:38.499Z"
   },
   {
    "duration": 1698,
    "start_time": "2021-11-15T17:03:38.505Z"
   },
   {
    "duration": 1694,
    "start_time": "2021-11-15T17:03:38.510Z"
   },
   {
    "duration": 1691,
    "start_time": "2021-11-15T17:03:38.515Z"
   },
   {
    "duration": 1664,
    "start_time": "2021-11-15T17:03:38.543Z"
   },
   {
    "duration": 1660,
    "start_time": "2021-11-15T17:03:38.548Z"
   },
   {
    "duration": 1657,
    "start_time": "2021-11-15T17:03:38.553Z"
   },
   {
    "duration": 1653,
    "start_time": "2021-11-15T17:03:38.558Z"
   },
   {
    "duration": 1648,
    "start_time": "2021-11-15T17:03:38.564Z"
   },
   {
    "duration": 1645,
    "start_time": "2021-11-15T17:03:38.569Z"
   },
   {
    "duration": 1641,
    "start_time": "2021-11-15T17:03:38.575Z"
   },
   {
    "duration": 1637,
    "start_time": "2021-11-15T17:03:38.580Z"
   },
   {
    "duration": 1627,
    "start_time": "2021-11-15T17:03:38.592Z"
   },
   {
    "duration": 1622,
    "start_time": "2021-11-15T17:03:38.598Z"
   },
   {
    "duration": 1620,
    "start_time": "2021-11-15T17:03:38.602Z"
   },
   {
    "duration": 1614,
    "start_time": "2021-11-15T17:03:38.609Z"
   },
   {
    "duration": 1609,
    "start_time": "2021-11-15T17:03:38.616Z"
   },
   {
    "duration": 1645,
    "start_time": "2021-11-15T17:03:38.622Z"
   },
   {
    "duration": 1643,
    "start_time": "2021-11-15T17:03:38.626Z"
   },
   {
    "duration": 1639,
    "start_time": "2021-11-15T17:03:38.631Z"
   },
   {
    "duration": 54,
    "start_time": "2021-11-15T17:04:21.819Z"
   },
   {
    "duration": 6,
    "start_time": "2021-11-15T17:04:25.753Z"
   },
   {
    "duration": 39,
    "start_time": "2021-11-15T17:04:25.761Z"
   },
   {
    "duration": 12,
    "start_time": "2021-11-15T17:04:25.802Z"
   },
   {
    "duration": 19,
    "start_time": "2021-11-15T17:04:25.817Z"
   },
   {
    "duration": 43,
    "start_time": "2021-11-15T17:04:25.838Z"
   },
   {
    "duration": 5,
    "start_time": "2021-11-15T17:04:25.883Z"
   },
   {
    "duration": 77,
    "start_time": "2021-11-15T17:04:25.890Z"
   },
   {
    "duration": 25,
    "start_time": "2021-11-15T17:04:25.970Z"
   },
   {
    "duration": 84,
    "start_time": "2021-11-15T17:04:26.000Z"
   },
   {
    "duration": 57,
    "start_time": "2021-11-15T17:04:26.087Z"
   },
   {
    "duration": 26,
    "start_time": "2021-11-15T17:04:26.146Z"
   },
   {
    "duration": 9,
    "start_time": "2021-11-15T17:04:26.174Z"
   },
   {
    "duration": 21,
    "start_time": "2021-11-15T17:04:26.186Z"
   },
   {
    "duration": 7,
    "start_time": "2021-11-15T17:04:26.210Z"
   },
   {
    "duration": 67,
    "start_time": "2021-11-15T17:04:26.220Z"
   },
   {
    "duration": 5,
    "start_time": "2021-11-15T17:04:26.289Z"
   },
   {
    "duration": 349,
    "start_time": "2021-11-15T17:04:26.296Z"
   },
   {
    "duration": 63,
    "start_time": "2021-11-15T17:04:26.647Z"
   },
   {
    "duration": 61,
    "start_time": "2021-11-15T17:04:40.809Z"
   },
   {
    "duration": 7,
    "start_time": "2021-11-15T17:04:40.873Z"
   },
   {
    "duration": 25,
    "start_time": "2021-11-15T17:04:40.884Z"
   },
   {
    "duration": 8,
    "start_time": "2021-11-15T17:04:40.913Z"
   },
   {
    "duration": 7,
    "start_time": "2021-11-15T17:04:40.969Z"
   },
   {
    "duration": 1130,
    "start_time": "2021-11-15T17:04:40.979Z"
   },
   {
    "duration": 363,
    "start_time": "2021-11-15T17:04:42.111Z"
   },
   {
    "duration": 1722,
    "start_time": "2021-11-15T17:04:40.755Z"
   },
   {
    "duration": 1717,
    "start_time": "2021-11-15T17:04:40.761Z"
   },
   {
    "duration": 1711,
    "start_time": "2021-11-15T17:04:40.769Z"
   },
   {
    "duration": 1708,
    "start_time": "2021-11-15T17:04:40.773Z"
   },
   {
    "duration": 1703,
    "start_time": "2021-11-15T17:04:40.779Z"
   },
   {
    "duration": 1698,
    "start_time": "2021-11-15T17:04:40.785Z"
   },
   {
    "duration": 1695,
    "start_time": "2021-11-15T17:04:40.790Z"
   },
   {
    "duration": 1690,
    "start_time": "2021-11-15T17:04:40.796Z"
   },
   {
    "duration": 1687,
    "start_time": "2021-11-15T17:04:40.801Z"
   },
   {
    "duration": 1682,
    "start_time": "2021-11-15T17:04:40.807Z"
   },
   {
    "duration": 1676,
    "start_time": "2021-11-15T17:04:40.814Z"
   },
   {
    "duration": 1673,
    "start_time": "2021-11-15T17:04:40.819Z"
   },
   {
    "duration": 1668,
    "start_time": "2021-11-15T17:04:40.825Z"
   },
   {
    "duration": 1664,
    "start_time": "2021-11-15T17:04:40.830Z"
   },
   {
    "duration": 1660,
    "start_time": "2021-11-15T17:04:40.836Z"
   },
   {
    "duration": 1654,
    "start_time": "2021-11-15T17:04:40.843Z"
   },
   {
    "duration": 1640,
    "start_time": "2021-11-15T17:04:40.858Z"
   },
   {
    "duration": 1636,
    "start_time": "2021-11-15T17:04:40.863Z"
   },
   {
    "duration": 1631,
    "start_time": "2021-11-15T17:04:40.870Z"
   },
   {
    "duration": 1626,
    "start_time": "2021-11-15T17:04:40.876Z"
   },
   {
    "duration": 1621,
    "start_time": "2021-11-15T17:04:40.882Z"
   },
   {
    "duration": 1619,
    "start_time": "2021-11-15T17:04:40.886Z"
   },
   {
    "duration": 53,
    "start_time": "2021-11-15T17:04:56.483Z"
   },
   {
    "duration": 6,
    "start_time": "2021-11-15T17:05:47.486Z"
   },
   {
    "duration": 42,
    "start_time": "2021-11-15T17:05:47.496Z"
   },
   {
    "duration": 15,
    "start_time": "2021-11-15T17:05:47.542Z"
   },
   {
    "duration": 22,
    "start_time": "2021-11-15T17:05:47.569Z"
   },
   {
    "duration": 20,
    "start_time": "2021-11-15T17:05:47.594Z"
   },
   {
    "duration": 52,
    "start_time": "2021-11-15T17:05:47.617Z"
   },
   {
    "duration": 57,
    "start_time": "2021-11-15T17:05:47.671Z"
   },
   {
    "duration": 43,
    "start_time": "2021-11-15T17:05:47.730Z"
   },
   {
    "duration": 54,
    "start_time": "2021-11-15T17:05:47.777Z"
   },
   {
    "duration": 82,
    "start_time": "2021-11-15T17:05:47.835Z"
   },
   {
    "duration": 8,
    "start_time": "2021-11-15T17:05:47.919Z"
   },
   {
    "duration": 38,
    "start_time": "2021-11-15T17:05:47.929Z"
   },
   {
    "duration": 17,
    "start_time": "2021-11-15T17:05:47.969Z"
   },
   {
    "duration": 4,
    "start_time": "2021-11-15T17:05:47.988Z"
   },
   {
    "duration": 35,
    "start_time": "2021-11-15T17:05:47.995Z"
   },
   {
    "duration": 3,
    "start_time": "2021-11-15T17:05:48.033Z"
   },
   {
    "duration": 395,
    "start_time": "2021-11-15T17:05:48.038Z"
   },
   {
    "duration": 69,
    "start_time": "2021-11-15T17:05:48.435Z"
   },
   {
    "duration": 6,
    "start_time": "2021-11-15T17:05:48.506Z"
   },
   {
    "duration": 27,
    "start_time": "2021-11-15T17:05:48.514Z"
   },
   {
    "duration": 28,
    "start_time": "2021-11-15T17:05:48.544Z"
   },
   {
    "duration": 6,
    "start_time": "2021-11-15T17:05:48.574Z"
   },
   {
    "duration": 1134,
    "start_time": "2021-11-15T17:05:48.582Z"
   },
   {
    "duration": 71,
    "start_time": "2021-11-15T17:05:49.718Z"
   },
   {
    "duration": 57,
    "start_time": "2021-11-15T17:05:49.792Z"
   },
   {
    "duration": 5,
    "start_time": "2021-11-15T17:05:49.868Z"
   },
   {
    "duration": 2042,
    "start_time": "2021-11-15T17:05:49.880Z"
   },
   {
    "duration": 3590,
    "start_time": "2021-11-15T17:05:51.926Z"
   },
   {
    "duration": 4,
    "start_time": "2021-11-15T17:05:55.519Z"
   },
   {
    "duration": 4890,
    "start_time": "2021-11-15T17:05:55.525Z"
   },
   {
    "duration": 4,
    "start_time": "2021-11-15T17:06:00.418Z"
   },
   {
    "duration": 21,
    "start_time": "2021-11-15T17:06:00.424Z"
   },
   {
    "duration": 28,
    "start_time": "2021-11-15T17:06:00.448Z"
   },
   {
    "duration": 30,
    "start_time": "2021-11-15T17:06:00.479Z"
   },
   {
    "duration": 20,
    "start_time": "2021-11-15T17:06:00.512Z"
   },
   {
    "duration": 412,
    "start_time": "2021-11-15T17:06:00.534Z"
   },
   {
    "duration": 64,
    "start_time": "2021-11-15T17:06:00.948Z"
   },
   {
    "duration": 63,
    "start_time": "2021-11-15T17:06:01.014Z"
   },
   {
    "duration": 8,
    "start_time": "2021-11-15T17:06:01.079Z"
   },
   {
    "duration": 10,
    "start_time": "2021-11-15T17:06:01.090Z"
   },
   {
    "duration": 21382,
    "start_time": "2021-11-15T17:06:01.102Z"
   },
   {
    "duration": 161,
    "start_time": "2021-11-15T17:06:22.487Z"
   },
   {
    "duration": 95,
    "start_time": "2021-11-15T17:06:22.650Z"
   },
   {
    "duration": 22258,
    "start_time": "2021-11-15T17:06:22.747Z"
   },
   {
    "duration": 58,
    "start_time": "2021-11-15T17:06:45.009Z"
   },
   {
    "duration": 551,
    "start_time": "2021-11-15T17:06:45.069Z"
   },
   {
    "duration": 6,
    "start_time": "2021-11-15T17:08:03.274Z"
   },
   {
    "duration": 388,
    "start_time": "2021-11-15T17:08:09.650Z"
   },
   {
    "duration": 403,
    "start_time": "2021-11-15T17:08:22.069Z"
   },
   {
    "duration": 1764,
    "start_time": "2022-01-23T09:51:05.686Z"
   },
   {
    "duration": 39,
    "start_time": "2022-01-23T09:51:07.452Z"
   },
   {
    "duration": 11,
    "start_time": "2022-01-23T09:51:07.495Z"
   },
   {
    "duration": 23,
    "start_time": "2022-01-23T09:51:07.509Z"
   },
   {
    "duration": 44,
    "start_time": "2022-01-23T09:51:07.534Z"
   },
   {
    "duration": 5,
    "start_time": "2022-01-23T09:51:07.580Z"
   },
   {
    "duration": 85,
    "start_time": "2022-01-23T09:51:07.587Z"
   },
   {
    "duration": 17,
    "start_time": "2022-01-23T09:51:07.675Z"
   },
   {
    "duration": 91,
    "start_time": "2022-01-23T09:51:07.695Z"
   },
   {
    "duration": 51,
    "start_time": "2022-01-23T09:51:07.789Z"
   },
   {
    "duration": 28,
    "start_time": "2022-01-23T09:51:07.843Z"
   },
   {
    "duration": 8,
    "start_time": "2022-01-23T09:51:07.874Z"
   },
   {
    "duration": 21,
    "start_time": "2022-01-23T09:51:07.885Z"
   },
   {
    "duration": 4,
    "start_time": "2022-01-23T09:51:07.909Z"
   },
   {
    "duration": 74,
    "start_time": "2022-01-23T09:51:07.916Z"
   },
   {
    "duration": 4,
    "start_time": "2022-01-23T09:51:07.992Z"
   },
   {
    "duration": 354,
    "start_time": "2022-01-23T09:51:07.998Z"
   },
   {
    "duration": 78,
    "start_time": "2022-01-23T09:51:08.354Z"
   },
   {
    "duration": 7,
    "start_time": "2022-01-23T09:51:08.436Z"
   },
   {
    "duration": 28,
    "start_time": "2022-01-23T09:51:08.466Z"
   },
   {
    "duration": 10,
    "start_time": "2022-01-23T09:51:08.498Z"
   },
   {
    "duration": 10,
    "start_time": "2022-01-23T09:51:08.511Z"
   },
   {
    "duration": 1131,
    "start_time": "2022-01-23T09:51:08.523Z"
   },
   {
    "duration": 59,
    "start_time": "2022-01-23T09:51:09.665Z"
   },
   {
    "duration": 86,
    "start_time": "2022-01-23T09:51:09.727Z"
   },
   {
    "duration": 4,
    "start_time": "2022-01-23T09:51:09.816Z"
   },
   {
    "duration": 2022,
    "start_time": "2022-01-23T09:51:09.826Z"
   },
   {
    "duration": 3301,
    "start_time": "2022-01-23T09:51:11.851Z"
   },
   {
    "duration": 13,
    "start_time": "2022-01-23T09:51:15.156Z"
   },
   {
    "duration": 4739,
    "start_time": "2022-01-23T09:51:15.172Z"
   },
   {
    "duration": 5,
    "start_time": "2022-01-23T09:51:19.914Z"
   },
   {
    "duration": 8,
    "start_time": "2022-01-23T09:51:19.922Z"
   },
   {
    "duration": 36,
    "start_time": "2022-01-23T09:51:19.933Z"
   },
   {
    "duration": 12,
    "start_time": "2022-01-23T09:51:19.972Z"
   },
   {
    "duration": 14,
    "start_time": "2022-01-23T09:51:19.986Z"
   },
   {
    "duration": 531,
    "start_time": "2022-01-23T09:51:20.004Z"
   },
   {
    "duration": 70,
    "start_time": "2022-01-23T09:51:20.538Z"
   },
   {
    "duration": 60,
    "start_time": "2022-01-23T09:51:20.611Z"
   },
   {
    "duration": 8,
    "start_time": "2022-01-23T09:51:20.674Z"
   },
   {
    "duration": 7,
    "start_time": "2022-01-23T09:51:20.685Z"
   },
   {
    "duration": 24720,
    "start_time": "2022-01-23T09:51:20.695Z"
   },
   {
    "duration": 166,
    "start_time": "2022-01-23T09:51:45.419Z"
   },
   {
    "duration": 101,
    "start_time": "2022-01-23T09:51:45.587Z"
   },
   {
    "duration": 21128,
    "start_time": "2022-01-23T09:51:45.690Z"
   },
   {
    "duration": 45,
    "start_time": "2022-01-23T09:52:06.820Z"
   },
   {
    "duration": 406,
    "start_time": "2022-01-23T09:52:06.868Z"
   },
   {
    "duration": 21,
    "start_time": "2022-01-23T10:32:35.721Z"
   },
   {
    "duration": 6,
    "start_time": "2022-01-23T10:33:01.028Z"
   },
   {
    "duration": 47,
    "start_time": "2022-01-23T10:33:01.036Z"
   },
   {
    "duration": 11,
    "start_time": "2022-01-23T10:33:01.087Z"
   },
   {
    "duration": 22,
    "start_time": "2022-01-23T10:33:01.101Z"
   },
   {
    "duration": 16,
    "start_time": "2022-01-23T10:33:01.166Z"
   },
   {
    "duration": 5,
    "start_time": "2022-01-23T10:33:01.185Z"
   },
   {
    "duration": 115,
    "start_time": "2022-01-23T10:33:01.192Z"
   },
   {
    "duration": 22,
    "start_time": "2022-01-23T10:33:01.310Z"
   },
   {
    "duration": 75,
    "start_time": "2022-01-23T10:33:01.336Z"
   },
   {
    "duration": 71,
    "start_time": "2022-01-23T10:33:01.414Z"
   },
   {
    "duration": 9,
    "start_time": "2022-01-23T10:33:01.487Z"
   },
   {
    "duration": 31,
    "start_time": "2022-01-23T10:33:01.499Z"
   },
   {
    "duration": 28,
    "start_time": "2022-01-23T10:33:01.532Z"
   },
   {
    "duration": 5,
    "start_time": "2022-01-23T10:33:01.562Z"
   },
   {
    "duration": 35,
    "start_time": "2022-01-23T10:33:01.569Z"
   },
   {
    "duration": 4,
    "start_time": "2022-01-23T10:33:01.606Z"
   },
   {
    "duration": 396,
    "start_time": "2022-01-23T10:33:01.612Z"
   },
   {
    "duration": 73,
    "start_time": "2022-01-23T10:33:02.010Z"
   },
   {
    "duration": 6,
    "start_time": "2022-01-23T10:33:02.085Z"
   },
   {
    "duration": 25,
    "start_time": "2022-01-23T10:33:02.093Z"
   },
   {
    "duration": 8,
    "start_time": "2022-01-23T10:33:02.121Z"
   },
   {
    "duration": 14,
    "start_time": "2022-01-23T10:33:02.131Z"
   },
   {
    "duration": 982,
    "start_time": "2022-01-23T10:33:02.148Z"
   },
   {
    "duration": 65,
    "start_time": "2022-01-23T10:33:03.133Z"
   },
   {
    "duration": 51,
    "start_time": "2022-01-23T10:33:03.201Z"
   },
   {
    "duration": 4,
    "start_time": "2022-01-23T10:33:03.265Z"
   },
   {
    "duration": 1999,
    "start_time": "2022-01-23T10:33:03.274Z"
   },
   {
    "duration": 2958,
    "start_time": "2022-01-23T10:33:05.278Z"
   },
   {
    "duration": 5,
    "start_time": "2022-01-23T10:33:08.239Z"
   },
   {
    "duration": 4614,
    "start_time": "2022-01-23T10:33:08.246Z"
   },
   {
    "duration": 4,
    "start_time": "2022-01-23T10:33:12.862Z"
   },
   {
    "duration": 18,
    "start_time": "2022-01-23T10:33:12.868Z"
   },
   {
    "duration": 13,
    "start_time": "2022-01-23T10:33:12.889Z"
   },
   {
    "duration": 10,
    "start_time": "2022-01-23T10:33:12.904Z"
   },
   {
    "duration": 8,
    "start_time": "2022-01-23T10:33:12.917Z"
   },
   {
    "duration": 321,
    "start_time": "2022-01-23T10:33:12.928Z"
   },
   {
    "duration": 59,
    "start_time": "2022-01-23T10:33:13.253Z"
   },
   {
    "duration": 69,
    "start_time": "2022-01-23T10:33:13.315Z"
   },
   {
    "duration": 7,
    "start_time": "2022-01-23T10:33:13.387Z"
   },
   {
    "duration": 15,
    "start_time": "2022-01-23T10:33:13.397Z"
   },
   {
    "duration": 17466,
    "start_time": "2022-01-23T10:33:13.415Z"
   },
   {
    "duration": 125,
    "start_time": "2022-01-23T10:33:30.884Z"
   },
   {
    "duration": 90,
    "start_time": "2022-01-23T10:33:31.011Z"
   },
   {
    "duration": 17668,
    "start_time": "2022-01-23T10:33:31.103Z"
   },
   {
    "duration": 31,
    "start_time": "2022-01-23T10:33:48.773Z"
   },
   {
    "duration": 400,
    "start_time": "2022-01-23T10:33:48.807Z"
   }
  ],
  "kernelspec": {
   "display_name": "Python 3",
   "language": "python",
   "name": "python3"
  },
  "language_info": {
   "codemirror_mode": {
    "name": "ipython",
    "version": 3
   },
   "file_extension": ".py",
   "mimetype": "text/x-python",
   "name": "python",
   "nbconvert_exporter": "python",
   "pygments_lexer": "ipython3",
   "version": "3.7.8"
  },
  "toc": {
   "base_numbering": 1,
   "nav_menu": {},
   "number_sections": true,
   "sideBar": true,
   "skip_h1_title": true,
   "title_cell": "Содержание",
   "title_sidebar": "Contents",
   "toc_cell": true,
   "toc_position": {},
   "toc_section_display": true,
   "toc_window_display": false
  }
 },
 "nbformat": 4,
 "nbformat_minor": 2
}
